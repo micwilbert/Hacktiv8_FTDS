{
  "cells": [
    {
      "cell_type": "code",
      "execution_count": 4,
      "metadata": {
        "id": "NnI3VscLsD6z"
      },
      "outputs": [],
      "source": [
        "#import library\n",
        "\n",
        "import pickle\n",
        "import json\n",
        "import pandas as pd\n",
        "import numpy as np"
      ]
    },
    {
      "cell_type": "code",
      "execution_count": 5,
      "metadata": {
        "colab": {
          "base_uri": "https://localhost:8080/"
        },
        "id": "ZuS5HPBkBbZ4",
        "outputId": "e2e70722-90f4-4577-d677-2502a66ebc96"
      },
      "outputs": [
        {
          "name": "stdout",
          "output_type": "stream",
          "text": [
            "Name: scikit-learn\n",
            "Version: 1.5.2\n",
            "Summary: A set of python modules for machine learning and data mining\n",
            "Home-page: https://scikit-learn.org\n",
            "Author: \n",
            "Author-email: \n",
            "License: BSD 3-Clause License\n",
            "\n",
            "Copyright (c) 2007-2024 The scikit-learn developers.\n",
            "All rights reserved.\n",
            "\n",
            "Redistribution and use in source and binary forms, with or without\n",
            "modification, are permitted provided that the following conditions are met:\n",
            "\n",
            "* Redistributions of source code must retain the above copyright notice, this\n",
            "  list of conditions and the following disclaimer.\n",
            "\n",
            "* Redistributions in binary form must reproduce the above copyright notice,\n",
            "  this list of conditions and the following disclaimer in the documentation\n",
            "  and/or other materials provided with the distribution.\n",
            "\n",
            "* Neither the name of the copyright holder nor the names of its\n",
            "  contributors may be used to endorse or promote products derived from\n",
            "  this software without specific prior written permission.\n",
            "\n",
            "THIS SOFTWARE IS PROVIDED BY THE COPYRIGHT HOLDERS AND CONTRIBUTORS \"AS IS\"\n",
            "AND ANY EXPRESS OR IMPLIED WARRANTIES, INCLUDING, BUT NOT LIMITED TO, THE\n",
            "IMPLIED WARRANTIES OF MERCHANTABILITY AND FITNESS FOR A PARTICULAR PURPOSE ARE\n",
            "DISCLAIMED. IN NO EVENT SHALL THE COPYRIGHT HOLDER OR CONTRIBUTORS BE LIABLE\n",
            "FOR ANY DIRECT, INDIRECT, INCIDENTAL, SPECIAL, EXEMPLARY, OR CONSEQUENTIAL\n",
            "DAMAGES (INCLUDING, BUT NOT LIMITED TO, PROCUREMENT OF SUBSTITUTE GOODS OR\n",
            "SERVICES; LOSS OF USE, DATA, OR PROFITS; OR BUSINESS INTERRUPTION) HOWEVER\n",
            "CAUSED AND ON ANY THEORY OF LIABILITY, WHETHER IN CONTRACT, STRICT LIABILITY,\n",
            "OR TORT (INCLUDING NEGLIGENCE OR OTHERWISE) ARISING IN ANY WAY OUT OF THE USE\n",
            "OF THIS SOFTWARE, EVEN IF ADVISED OF THE POSSIBILITY OF SUCH DAMAGE.\n",
            "Location: C:\\Users\\MSI\\miniconda3\\envs\\hacktiv8_ftds\\Lib\\site-packages\n",
            "Requires: joblib, numpy, scipy, threadpoolctl\n",
            "Required-by: feature-engine\n"
          ]
        }
      ],
      "source": [
        "!pip show scikit-learn"
      ]
    },
    {
      "cell_type": "markdown",
      "metadata": {
        "id": "bDmKBK0SolkE"
      },
      "source": [
        "### load model"
      ]
    },
    {
      "cell_type": "code",
      "execution_count": 6,
      "metadata": {
        "id": "4aqmhcqinrlU"
      },
      "outputs": [],
      "source": [
        "#Load model\n",
        "\n",
        "with open('list_cat_cols.txt', 'r') as file_1:\n",
        "  list_cat_col = json.load(file_1)\n",
        "\n",
        "with open('list_num_cols.txt', 'r') as file_2:\n",
        "  list_num_col = json.load(file_2)\n",
        "\n",
        "with open('encoder.pkl', 'rb') as file_3:\n",
        "  model_encoder = pickle.load(file_3)\n",
        "\n",
        "with open('scaler.pkl', 'rb') as file_4:\n",
        "  model_scaler = pickle.load(file_4)\n",
        "\n",
        "with open('model_lin_reg.pkl', 'rb') as file_5:\n",
        "  model_lin_reg = pickle.load(file_5)"
      ]
    },
    {
      "cell_type": "markdown",
      "metadata": {
        "id": "Ra7wa9DyokUs"
      },
      "source": [
        "###Inferece"
      ]
    },
    {
      "cell_type": "code",
      "execution_count": 7,
      "metadata": {
        "colab": {
          "base_uri": "https://localhost:8080/",
          "height": 109
        },
        "id": "_6zz1wBVoYFG",
        "outputId": "dd8b73a8-146d-4fe3-b04a-0b79f66c96b9"
      },
      "outputs": [
        {
          "data": {
            "text/html": [
              "<div>\n",
              "<style scoped>\n",
              "    .dataframe tbody tr th:only-of-type {\n",
              "        vertical-align: middle;\n",
              "    }\n",
              "\n",
              "    .dataframe tbody tr th {\n",
              "        vertical-align: top;\n",
              "    }\n",
              "\n",
              "    .dataframe thead th {\n",
              "        text-align: right;\n",
              "    }\n",
              "</style>\n",
              "<table border=\"1\" class=\"dataframe\">\n",
              "  <thead>\n",
              "    <tr style=\"text-align: right;\">\n",
              "      <th></th>\n",
              "      <th>Name</th>\n",
              "      <th>Age</th>\n",
              "      <th>Height</th>\n",
              "      <th>Weight</th>\n",
              "      <th>Price</th>\n",
              "      <th>AttackingWorkRate</th>\n",
              "      <th>DefensiveWorkRate</th>\n",
              "      <th>PaceTotal</th>\n",
              "      <th>ShootingTotal</th>\n",
              "      <th>PassingTotal</th>\n",
              "      <th>DribblingTotal</th>\n",
              "      <th>DefendingTotal</th>\n",
              "      <th>PhysicalityTotal</th>\n",
              "    </tr>\n",
              "  </thead>\n",
              "  <tbody>\n",
              "    <tr>\n",
              "      <th>0</th>\n",
              "      <td>Hana</td>\n",
              "      <td>50</td>\n",
              "      <td>180</td>\n",
              "      <td>70</td>\n",
              "      <td>30000000</td>\n",
              "      <td>Medium</td>\n",
              "      <td>Low</td>\n",
              "      <td>60</td>\n",
              "      <td>80</td>\n",
              "      <td>30</td>\n",
              "      <td>70</td>\n",
              "      <td>60</td>\n",
              "      <td>80</td>\n",
              "    </tr>\n",
              "  </tbody>\n",
              "</table>\n",
              "</div>"
            ],
            "text/plain": [
              "   Name  Age  Height  Weight     Price AttackingWorkRate DefensiveWorkRate  \\\n",
              "0  Hana   50     180      70  30000000            Medium               Low   \n",
              "\n",
              "   PaceTotal  ShootingTotal  PassingTotal  DribblingTotal  DefendingTotal  \\\n",
              "0         60             80            30              70              60   \n",
              "\n",
              "   PhysicalityTotal  \n",
              "0                80  "
            ]
          },
          "execution_count": 7,
          "metadata": {},
          "output_type": "execute_result"
        }
      ],
      "source": [
        " #Create new data\n",
        "#Gunakan keseluruhan data\n",
        "\n",
        "data_inf = {\n",
        "    'Name' : 'Hana',\n",
        "    'Age' : 50,\n",
        "    'Height' : 180,\n",
        "    'Weight' : 70,\n",
        "    'Price' : 30000000,\n",
        "    'AttackingWorkRate' : 'Medium',\n",
        "    'DefensiveWorkRate' : 'Low',\n",
        "    'PaceTotal' :60,\n",
        "    'ShootingTotal': 80,\n",
        "    'PassingTotal' : 30,\n",
        "    'DribblingTotal' :70,\n",
        "    'DefendingTotal' :60,\n",
        "    'PhysicalityTotal':80,\n",
        "}\n",
        "\n",
        "data_inf = pd.DataFrame([data_inf])\n",
        "data_inf"
      ]
    },
    {
      "cell_type": "code",
      "execution_count": 8,
      "metadata": {
        "colab": {
          "base_uri": "https://localhost:8080/",
          "height": 109
        },
        "id": "JHPUX35kpjyL",
        "outputId": "fd838740-4db6-4a0d-e9b6-7887d6ee21e2"
      },
      "outputs": [
        {
          "data": {
            "text/html": [
              "<div>\n",
              "<style scoped>\n",
              "    .dataframe tbody tr th:only-of-type {\n",
              "        vertical-align: middle;\n",
              "    }\n",
              "\n",
              "    .dataframe tbody tr th {\n",
              "        vertical-align: top;\n",
              "    }\n",
              "\n",
              "    .dataframe thead th {\n",
              "        text-align: right;\n",
              "    }\n",
              "</style>\n",
              "<table border=\"1\" class=\"dataframe\">\n",
              "  <thead>\n",
              "    <tr style=\"text-align: right;\">\n",
              "      <th></th>\n",
              "      <th>Age</th>\n",
              "      <th>Height</th>\n",
              "      <th>Weight</th>\n",
              "      <th>Price</th>\n",
              "      <th>PaceTotal</th>\n",
              "      <th>ShootingTotal</th>\n",
              "      <th>PassingTotal</th>\n",
              "      <th>DribblingTotal</th>\n",
              "      <th>DefendingTotal</th>\n",
              "      <th>PhysicalityTotal</th>\n",
              "    </tr>\n",
              "  </thead>\n",
              "  <tbody>\n",
              "    <tr>\n",
              "      <th>0</th>\n",
              "      <td>50</td>\n",
              "      <td>180</td>\n",
              "      <td>70</td>\n",
              "      <td>30000000</td>\n",
              "      <td>60</td>\n",
              "      <td>80</td>\n",
              "      <td>30</td>\n",
              "      <td>70</td>\n",
              "      <td>60</td>\n",
              "      <td>80</td>\n",
              "    </tr>\n",
              "  </tbody>\n",
              "</table>\n",
              "</div>"
            ],
            "text/plain": [
              "   Age  Height  Weight     Price  PaceTotal  ShootingTotal  PassingTotal  \\\n",
              "0   50     180      70  30000000         60             80            30   \n",
              "\n",
              "   DribblingTotal  DefendingTotal  PhysicalityTotal  \n",
              "0              70              60                80  "
            ]
          },
          "execution_count": 8,
          "metadata": {},
          "output_type": "execute_result"
        }
      ],
      "source": [
        "#split between numerical and categorical columns\n",
        "\n",
        "data_inf_num = data_inf[list_num_col]\n",
        "data_inf_cat = data_inf[list_cat_col]\n",
        "data_inf_num"
      ]
    },
    {
      "cell_type": "code",
      "execution_count": 9,
      "metadata": {
        "id": "Yligyt0up4Ld"
      },
      "outputs": [],
      "source": [
        "#feature scaling and encoding\n",
        "\n",
        "data_inf_num_scaled = model_scaler.transform(data_inf_num)\n",
        "data_inf_cat_encoded = model_encoder.transform(data_inf_cat)\n",
        "data_inf_final = np.concatenate([data_inf_num_scaled, data_inf_cat_encoded], axis = 1)"
      ]
    },
    {
      "cell_type": "code",
      "execution_count": 10,
      "metadata": {
        "colab": {
          "base_uri": "https://localhost:8080/"
        },
        "id": "5EBS6wQYqUfb",
        "outputId": "46368bb5-289c-46ce-ffd0-8c7895e1d8ed"
      },
      "outputs": [
        {
          "data": {
            "text/plain": [
              "array([82.33040143])"
            ]
          },
          "execution_count": 10,
          "metadata": {},
          "output_type": "execute_result"
        }
      ],
      "source": [
        "#predict using linear reg model\n",
        "\n",
        "y_pred_inf = model_lin_reg.predict(data_inf_final)\n",
        "y_pred_inf"
      ]
    }
  ],
  "metadata": {
    "colab": {
      "provenance": []
    },
    "kernelspec": {
      "display_name": "hacktiv8_ftds",
      "language": "python",
      "name": "python3"
    },
    "language_info": {
      "codemirror_mode": {
        "name": "ipython",
        "version": 3
      },
      "file_extension": ".py",
      "mimetype": "text/x-python",
      "name": "python",
      "nbconvert_exporter": "python",
      "pygments_lexer": "ipython3",
      "version": "3.12.7"
    }
  },
  "nbformat": 4,
  "nbformat_minor": 0
}
