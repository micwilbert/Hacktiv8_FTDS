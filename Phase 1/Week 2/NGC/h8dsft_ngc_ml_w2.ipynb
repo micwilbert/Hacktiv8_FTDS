{
 "cells": [
  {
   "cell_type": "markdown",
   "metadata": {},
   "source": [
    "1. EDA Analysis\n",
    "2. Feature Engineering\n",
    "    * Split X and y\n",
    "    * Split numerical columns and categorical columns\n",
    "    * Cardinality check for categorical columns\n",
    "    * Splitting dataset (train-set, test-set)\n",
    "    * Split numerical columns and categorical columns for train and test\n",
    "    * Outliers handling untuk X_train saja, X_test TIDAK PERLU HANDLING OUTLIER\n",
    "      (Jika ada yang di drop di X_train, maka y_train di drop juga based on index)\n",
    "    * Missing value handling untuk X_train, X_test, y_train(drop), y_test(drop)\n",
    "      (Jika ada yang di drop di X_train/X_test, maka y_train/y_test di drop juga based on index)\n",
    "    * Feature Selection cek dari X_train, lalu diterapkan ke X_test juga jika ada feature yang didrop\n",
    "    * Split numerical columns and categorical columns [OPTIONAL]\n",
    "    * Feature Scaling untuk column numeric\n",
    "    * Feature Encoding untuk column category (encode juga y_train jika berbentuk category)\n",
    "3. Modeling (masukkan X_train & y_train)\n",
    "4. Model Evaluation\n",
    "    * Predict X_train dan y_train\n",
    "    * Predict X_test dan y_test\n",
    "    * Bandingkan akurasi antara train-set & test-set\n",
    "    * Model Analysis : lakukan analisis terkait hasil, parameter, waktu pemrosesan, dll\n",
    "5. (OPTIONAL) Model Tuning\n",
    "    * Cari hyperparameter dengan memakai Grid Search/Random Search\n",
    "    * Model Analysis : lakukan analisis terkait hasil, parameter, waktu pemrosesan, dll\n",
    "6. Model Inference\n",
    "    * Gunakan berdasarkan inference-set\n",
    "    * Lakukan preprocessing\n",
    "    * Predict inference-set\n",
    "7. Overall Analysis : berikan narasi terkait EDA Analysis dan Model Analysis yang sudah dibuat."
   ]
  }
 ],
 "metadata": {
  "language_info": {
   "name": "python"
  }
 },
 "nbformat": 4,
 "nbformat_minor": 2
}
