{
 "cells": [
  {
   "cell_type": "markdown",
   "metadata": {
    "id": "WIxRIfKnKntr"
   },
   "source": [
    "# Phase 1 - Week 3 - Day 2 PM - Clustering: Part 2"
   ]
  },
  {
   "cell_type": "markdown",
   "metadata": {
    "id": "n62wyBUjaDWr"
   },
   "source": [
    "# A. DBSCAN"
   ]
  },
  {
   "cell_type": "markdown",
   "metadata": {
    "id": "B-9SvD_DZ_qc"
   },
   "source": [
    "In the first tutorial, we will implement DBSCAN clustering with a dataset that contains weekly sales. This dataset contains the number of sales for 51 week.\n",
    "\n",
    "Source : [link](https://www.kaggle.com/datasets/crawford/weekly-sales-transactions)"
   ]
  },
  {
   "cell_type": "code",
   "execution_count": 1,
   "metadata": {
    "id": "qRoMC6EsKgKc"
   },
   "outputs": [],
   "source": [
    "# Import library\n",
    "\n",
    "import numpy as np\n",
    "import pandas as pd\n",
    "import seaborn as sns\n",
    "import matplotlib.cm as cm\n",
    "import matplotlib.pyplot as plt\n",
    "import warnings\n",
    "warnings.filterwarnings('ignore') #turn off warning\n",
    "\n",
    "from sklearn.preprocessing import StandardScaler"
   ]
  },
  {
   "cell_type": "code",
   "execution_count": 2,
   "metadata": {
    "colab": {
     "base_uri": "https://localhost:8080/",
     "height": 424
    },
    "id": "RGvYvo9yKtHX",
    "outputId": "2e132281-e03f-40f7-8851-895692dccb7d"
   },
   "outputs": [
    {
     "data": {
      "text/html": [
       "<div>\n",
       "<style scoped>\n",
       "    .dataframe tbody tr th:only-of-type {\n",
       "        vertical-align: middle;\n",
       "    }\n",
       "\n",
       "    .dataframe tbody tr th {\n",
       "        vertical-align: top;\n",
       "    }\n",
       "\n",
       "    .dataframe thead th {\n",
       "        text-align: right;\n",
       "    }\n",
       "</style>\n",
       "<table border=\"1\" class=\"dataframe\">\n",
       "  <thead>\n",
       "    <tr style=\"text-align: right;\">\n",
       "      <th></th>\n",
       "      <th>Product_Code</th>\n",
       "      <th>W0</th>\n",
       "      <th>W1</th>\n",
       "      <th>W2</th>\n",
       "      <th>W3</th>\n",
       "      <th>W4</th>\n",
       "      <th>W5</th>\n",
       "      <th>W6</th>\n",
       "      <th>W7</th>\n",
       "      <th>W8</th>\n",
       "      <th>...</th>\n",
       "      <th>W42</th>\n",
       "      <th>W43</th>\n",
       "      <th>W44</th>\n",
       "      <th>W45</th>\n",
       "      <th>W46</th>\n",
       "      <th>W47</th>\n",
       "      <th>W48</th>\n",
       "      <th>W49</th>\n",
       "      <th>W50</th>\n",
       "      <th>W51</th>\n",
       "    </tr>\n",
       "  </thead>\n",
       "  <tbody>\n",
       "    <tr>\n",
       "      <th>0</th>\n",
       "      <td>P1</td>\n",
       "      <td>11</td>\n",
       "      <td>12</td>\n",
       "      <td>10</td>\n",
       "      <td>8</td>\n",
       "      <td>13</td>\n",
       "      <td>12</td>\n",
       "      <td>14</td>\n",
       "      <td>21</td>\n",
       "      <td>6</td>\n",
       "      <td>...</td>\n",
       "      <td>4</td>\n",
       "      <td>7</td>\n",
       "      <td>8</td>\n",
       "      <td>10</td>\n",
       "      <td>12</td>\n",
       "      <td>3</td>\n",
       "      <td>7</td>\n",
       "      <td>6</td>\n",
       "      <td>5</td>\n",
       "      <td>10</td>\n",
       "    </tr>\n",
       "    <tr>\n",
       "      <th>1</th>\n",
       "      <td>P2</td>\n",
       "      <td>7</td>\n",
       "      <td>6</td>\n",
       "      <td>3</td>\n",
       "      <td>2</td>\n",
       "      <td>7</td>\n",
       "      <td>1</td>\n",
       "      <td>6</td>\n",
       "      <td>3</td>\n",
       "      <td>3</td>\n",
       "      <td>...</td>\n",
       "      <td>2</td>\n",
       "      <td>4</td>\n",
       "      <td>5</td>\n",
       "      <td>1</td>\n",
       "      <td>1</td>\n",
       "      <td>4</td>\n",
       "      <td>5</td>\n",
       "      <td>1</td>\n",
       "      <td>6</td>\n",
       "      <td>0</td>\n",
       "    </tr>\n",
       "    <tr>\n",
       "      <th>2</th>\n",
       "      <td>P3</td>\n",
       "      <td>7</td>\n",
       "      <td>11</td>\n",
       "      <td>8</td>\n",
       "      <td>9</td>\n",
       "      <td>10</td>\n",
       "      <td>8</td>\n",
       "      <td>7</td>\n",
       "      <td>13</td>\n",
       "      <td>12</td>\n",
       "      <td>...</td>\n",
       "      <td>6</td>\n",
       "      <td>14</td>\n",
       "      <td>5</td>\n",
       "      <td>5</td>\n",
       "      <td>7</td>\n",
       "      <td>8</td>\n",
       "      <td>14</td>\n",
       "      <td>8</td>\n",
       "      <td>8</td>\n",
       "      <td>7</td>\n",
       "    </tr>\n",
       "    <tr>\n",
       "      <th>3</th>\n",
       "      <td>P4</td>\n",
       "      <td>12</td>\n",
       "      <td>8</td>\n",
       "      <td>13</td>\n",
       "      <td>5</td>\n",
       "      <td>9</td>\n",
       "      <td>6</td>\n",
       "      <td>9</td>\n",
       "      <td>13</td>\n",
       "      <td>13</td>\n",
       "      <td>...</td>\n",
       "      <td>9</td>\n",
       "      <td>10</td>\n",
       "      <td>3</td>\n",
       "      <td>4</td>\n",
       "      <td>6</td>\n",
       "      <td>8</td>\n",
       "      <td>14</td>\n",
       "      <td>8</td>\n",
       "      <td>7</td>\n",
       "      <td>8</td>\n",
       "    </tr>\n",
       "    <tr>\n",
       "      <th>4</th>\n",
       "      <td>P5</td>\n",
       "      <td>8</td>\n",
       "      <td>5</td>\n",
       "      <td>13</td>\n",
       "      <td>11</td>\n",
       "      <td>6</td>\n",
       "      <td>7</td>\n",
       "      <td>9</td>\n",
       "      <td>14</td>\n",
       "      <td>9</td>\n",
       "      <td>...</td>\n",
       "      <td>7</td>\n",
       "      <td>11</td>\n",
       "      <td>7</td>\n",
       "      <td>12</td>\n",
       "      <td>6</td>\n",
       "      <td>6</td>\n",
       "      <td>5</td>\n",
       "      <td>11</td>\n",
       "      <td>8</td>\n",
       "      <td>9</td>\n",
       "    </tr>\n",
       "    <tr>\n",
       "      <th>...</th>\n",
       "      <td>...</td>\n",
       "      <td>...</td>\n",
       "      <td>...</td>\n",
       "      <td>...</td>\n",
       "      <td>...</td>\n",
       "      <td>...</td>\n",
       "      <td>...</td>\n",
       "      <td>...</td>\n",
       "      <td>...</td>\n",
       "      <td>...</td>\n",
       "      <td>...</td>\n",
       "      <td>...</td>\n",
       "      <td>...</td>\n",
       "      <td>...</td>\n",
       "      <td>...</td>\n",
       "      <td>...</td>\n",
       "      <td>...</td>\n",
       "      <td>...</td>\n",
       "      <td>...</td>\n",
       "      <td>...</td>\n",
       "      <td>...</td>\n",
       "    </tr>\n",
       "    <tr>\n",
       "      <th>806</th>\n",
       "      <td>P815</td>\n",
       "      <td>0</td>\n",
       "      <td>0</td>\n",
       "      <td>1</td>\n",
       "      <td>0</td>\n",
       "      <td>0</td>\n",
       "      <td>2</td>\n",
       "      <td>1</td>\n",
       "      <td>0</td>\n",
       "      <td>0</td>\n",
       "      <td>...</td>\n",
       "      <td>0</td>\n",
       "      <td>1</td>\n",
       "      <td>1</td>\n",
       "      <td>0</td>\n",
       "      <td>0</td>\n",
       "      <td>1</td>\n",
       "      <td>0</td>\n",
       "      <td>0</td>\n",
       "      <td>2</td>\n",
       "      <td>0</td>\n",
       "    </tr>\n",
       "    <tr>\n",
       "      <th>807</th>\n",
       "      <td>P816</td>\n",
       "      <td>0</td>\n",
       "      <td>1</td>\n",
       "      <td>0</td>\n",
       "      <td>0</td>\n",
       "      <td>1</td>\n",
       "      <td>2</td>\n",
       "      <td>2</td>\n",
       "      <td>6</td>\n",
       "      <td>0</td>\n",
       "      <td>...</td>\n",
       "      <td>3</td>\n",
       "      <td>3</td>\n",
       "      <td>4</td>\n",
       "      <td>2</td>\n",
       "      <td>4</td>\n",
       "      <td>5</td>\n",
       "      <td>5</td>\n",
       "      <td>5</td>\n",
       "      <td>6</td>\n",
       "      <td>5</td>\n",
       "    </tr>\n",
       "    <tr>\n",
       "      <th>808</th>\n",
       "      <td>P817</td>\n",
       "      <td>1</td>\n",
       "      <td>0</td>\n",
       "      <td>0</td>\n",
       "      <td>0</td>\n",
       "      <td>1</td>\n",
       "      <td>1</td>\n",
       "      <td>2</td>\n",
       "      <td>1</td>\n",
       "      <td>1</td>\n",
       "      <td>...</td>\n",
       "      <td>2</td>\n",
       "      <td>0</td>\n",
       "      <td>0</td>\n",
       "      <td>2</td>\n",
       "      <td>2</td>\n",
       "      <td>0</td>\n",
       "      <td>0</td>\n",
       "      <td>0</td>\n",
       "      <td>4</td>\n",
       "      <td>3</td>\n",
       "    </tr>\n",
       "    <tr>\n",
       "      <th>809</th>\n",
       "      <td>P818</td>\n",
       "      <td>0</td>\n",
       "      <td>0</td>\n",
       "      <td>0</td>\n",
       "      <td>1</td>\n",
       "      <td>0</td>\n",
       "      <td>0</td>\n",
       "      <td>0</td>\n",
       "      <td>0</td>\n",
       "      <td>1</td>\n",
       "      <td>...</td>\n",
       "      <td>0</td>\n",
       "      <td>0</td>\n",
       "      <td>0</td>\n",
       "      <td>1</td>\n",
       "      <td>1</td>\n",
       "      <td>0</td>\n",
       "      <td>0</td>\n",
       "      <td>0</td>\n",
       "      <td>2</td>\n",
       "      <td>0</td>\n",
       "    </tr>\n",
       "    <tr>\n",
       "      <th>810</th>\n",
       "      <td>P819</td>\n",
       "      <td>0</td>\n",
       "      <td>1</td>\n",
       "      <td>0</td>\n",
       "      <td>0</td>\n",
       "      <td>0</td>\n",
       "      <td>0</td>\n",
       "      <td>0</td>\n",
       "      <td>0</td>\n",
       "      <td>0</td>\n",
       "      <td>...</td>\n",
       "      <td>0</td>\n",
       "      <td>0</td>\n",
       "      <td>0</td>\n",
       "      <td>0</td>\n",
       "      <td>0</td>\n",
       "      <td>0</td>\n",
       "      <td>0</td>\n",
       "      <td>0</td>\n",
       "      <td>0</td>\n",
       "      <td>1</td>\n",
       "    </tr>\n",
       "  </tbody>\n",
       "</table>\n",
       "<p>811 rows × 53 columns</p>\n",
       "</div>"
      ],
      "text/plain": [
       "    Product_Code  W0  W1  W2  W3  W4  W5  W6  W7  W8  ...  W42  W43  W44  W45  \\\n",
       "0             P1  11  12  10   8  13  12  14  21   6  ...    4    7    8   10   \n",
       "1             P2   7   6   3   2   7   1   6   3   3  ...    2    4    5    1   \n",
       "2             P3   7  11   8   9  10   8   7  13  12  ...    6   14    5    5   \n",
       "3             P4  12   8  13   5   9   6   9  13  13  ...    9   10    3    4   \n",
       "4             P5   8   5  13  11   6   7   9  14   9  ...    7   11    7   12   \n",
       "..           ...  ..  ..  ..  ..  ..  ..  ..  ..  ..  ...  ...  ...  ...  ...   \n",
       "806         P815   0   0   1   0   0   2   1   0   0  ...    0    1    1    0   \n",
       "807         P816   0   1   0   0   1   2   2   6   0  ...    3    3    4    2   \n",
       "808         P817   1   0   0   0   1   1   2   1   1  ...    2    0    0    2   \n",
       "809         P818   0   0   0   1   0   0   0   0   1  ...    0    0    0    1   \n",
       "810         P819   0   1   0   0   0   0   0   0   0  ...    0    0    0    0   \n",
       "\n",
       "     W46  W47  W48  W49  W50  W51  \n",
       "0     12    3    7    6    5   10  \n",
       "1      1    4    5    1    6    0  \n",
       "2      7    8   14    8    8    7  \n",
       "3      6    8   14    8    7    8  \n",
       "4      6    6    5   11    8    9  \n",
       "..   ...  ...  ...  ...  ...  ...  \n",
       "806    0    1    0    0    2    0  \n",
       "807    4    5    5    5    6    5  \n",
       "808    2    0    0    0    4    3  \n",
       "809    1    0    0    0    2    0  \n",
       "810    0    0    0    0    0    1  \n",
       "\n",
       "[811 rows x 53 columns]"
      ]
     },
     "execution_count": 2,
     "metadata": {},
     "output_type": "execute_result"
    }
   ],
   "source": [
    "# Data loading\n",
    "\n",
    "sales_transactions_df = pd.read_csv('https://raw.githubusercontent.com/FTDS-learning-materials/phase-1/master/w3/P1W3D2AM%20-%20Clustering%20-%20Part%201%20-%20Sales%20Transactions.csv')\n",
    "sales_transactions_df"
   ]
  },
  {
   "cell_type": "code",
   "execution_count": 3,
   "metadata": {
    "colab": {
     "base_uri": "https://localhost:8080/",
     "height": 424
    },
    "id": "FWxchvRBLMhZ",
    "outputId": "b016ab16-14dc-47ea-83c2-64790a5a5549"
   },
   "outputs": [
    {
     "data": {
      "text/html": [
       "<div>\n",
       "<style scoped>\n",
       "    .dataframe tbody tr th:only-of-type {\n",
       "        vertical-align: middle;\n",
       "    }\n",
       "\n",
       "    .dataframe tbody tr th {\n",
       "        vertical-align: top;\n",
       "    }\n",
       "\n",
       "    .dataframe thead th {\n",
       "        text-align: right;\n",
       "    }\n",
       "</style>\n",
       "<table border=\"1\" class=\"dataframe\">\n",
       "  <thead>\n",
       "    <tr style=\"text-align: right;\">\n",
       "      <th></th>\n",
       "      <th>W0</th>\n",
       "      <th>W1</th>\n",
       "      <th>W2</th>\n",
       "      <th>W3</th>\n",
       "      <th>W4</th>\n",
       "      <th>W5</th>\n",
       "      <th>W6</th>\n",
       "      <th>W7</th>\n",
       "      <th>W8</th>\n",
       "      <th>W9</th>\n",
       "      <th>...</th>\n",
       "      <th>W42</th>\n",
       "      <th>W43</th>\n",
       "      <th>W44</th>\n",
       "      <th>W45</th>\n",
       "      <th>W46</th>\n",
       "      <th>W47</th>\n",
       "      <th>W48</th>\n",
       "      <th>W49</th>\n",
       "      <th>W50</th>\n",
       "      <th>W51</th>\n",
       "    </tr>\n",
       "  </thead>\n",
       "  <tbody>\n",
       "    <tr>\n",
       "      <th>0</th>\n",
       "      <td>11</td>\n",
       "      <td>12</td>\n",
       "      <td>10</td>\n",
       "      <td>8</td>\n",
       "      <td>13</td>\n",
       "      <td>12</td>\n",
       "      <td>14</td>\n",
       "      <td>21</td>\n",
       "      <td>6</td>\n",
       "      <td>14</td>\n",
       "      <td>...</td>\n",
       "      <td>4</td>\n",
       "      <td>7</td>\n",
       "      <td>8</td>\n",
       "      <td>10</td>\n",
       "      <td>12</td>\n",
       "      <td>3</td>\n",
       "      <td>7</td>\n",
       "      <td>6</td>\n",
       "      <td>5</td>\n",
       "      <td>10</td>\n",
       "    </tr>\n",
       "    <tr>\n",
       "      <th>1</th>\n",
       "      <td>7</td>\n",
       "      <td>6</td>\n",
       "      <td>3</td>\n",
       "      <td>2</td>\n",
       "      <td>7</td>\n",
       "      <td>1</td>\n",
       "      <td>6</td>\n",
       "      <td>3</td>\n",
       "      <td>3</td>\n",
       "      <td>3</td>\n",
       "      <td>...</td>\n",
       "      <td>2</td>\n",
       "      <td>4</td>\n",
       "      <td>5</td>\n",
       "      <td>1</td>\n",
       "      <td>1</td>\n",
       "      <td>4</td>\n",
       "      <td>5</td>\n",
       "      <td>1</td>\n",
       "      <td>6</td>\n",
       "      <td>0</td>\n",
       "    </tr>\n",
       "    <tr>\n",
       "      <th>2</th>\n",
       "      <td>7</td>\n",
       "      <td>11</td>\n",
       "      <td>8</td>\n",
       "      <td>9</td>\n",
       "      <td>10</td>\n",
       "      <td>8</td>\n",
       "      <td>7</td>\n",
       "      <td>13</td>\n",
       "      <td>12</td>\n",
       "      <td>6</td>\n",
       "      <td>...</td>\n",
       "      <td>6</td>\n",
       "      <td>14</td>\n",
       "      <td>5</td>\n",
       "      <td>5</td>\n",
       "      <td>7</td>\n",
       "      <td>8</td>\n",
       "      <td>14</td>\n",
       "      <td>8</td>\n",
       "      <td>8</td>\n",
       "      <td>7</td>\n",
       "    </tr>\n",
       "    <tr>\n",
       "      <th>3</th>\n",
       "      <td>12</td>\n",
       "      <td>8</td>\n",
       "      <td>13</td>\n",
       "      <td>5</td>\n",
       "      <td>9</td>\n",
       "      <td>6</td>\n",
       "      <td>9</td>\n",
       "      <td>13</td>\n",
       "      <td>13</td>\n",
       "      <td>11</td>\n",
       "      <td>...</td>\n",
       "      <td>9</td>\n",
       "      <td>10</td>\n",
       "      <td>3</td>\n",
       "      <td>4</td>\n",
       "      <td>6</td>\n",
       "      <td>8</td>\n",
       "      <td>14</td>\n",
       "      <td>8</td>\n",
       "      <td>7</td>\n",
       "      <td>8</td>\n",
       "    </tr>\n",
       "    <tr>\n",
       "      <th>4</th>\n",
       "      <td>8</td>\n",
       "      <td>5</td>\n",
       "      <td>13</td>\n",
       "      <td>11</td>\n",
       "      <td>6</td>\n",
       "      <td>7</td>\n",
       "      <td>9</td>\n",
       "      <td>14</td>\n",
       "      <td>9</td>\n",
       "      <td>9</td>\n",
       "      <td>...</td>\n",
       "      <td>7</td>\n",
       "      <td>11</td>\n",
       "      <td>7</td>\n",
       "      <td>12</td>\n",
       "      <td>6</td>\n",
       "      <td>6</td>\n",
       "      <td>5</td>\n",
       "      <td>11</td>\n",
       "      <td>8</td>\n",
       "      <td>9</td>\n",
       "    </tr>\n",
       "    <tr>\n",
       "      <th>...</th>\n",
       "      <td>...</td>\n",
       "      <td>...</td>\n",
       "      <td>...</td>\n",
       "      <td>...</td>\n",
       "      <td>...</td>\n",
       "      <td>...</td>\n",
       "      <td>...</td>\n",
       "      <td>...</td>\n",
       "      <td>...</td>\n",
       "      <td>...</td>\n",
       "      <td>...</td>\n",
       "      <td>...</td>\n",
       "      <td>...</td>\n",
       "      <td>...</td>\n",
       "      <td>...</td>\n",
       "      <td>...</td>\n",
       "      <td>...</td>\n",
       "      <td>...</td>\n",
       "      <td>...</td>\n",
       "      <td>...</td>\n",
       "      <td>...</td>\n",
       "    </tr>\n",
       "    <tr>\n",
       "      <th>806</th>\n",
       "      <td>0</td>\n",
       "      <td>0</td>\n",
       "      <td>1</td>\n",
       "      <td>0</td>\n",
       "      <td>0</td>\n",
       "      <td>2</td>\n",
       "      <td>1</td>\n",
       "      <td>0</td>\n",
       "      <td>0</td>\n",
       "      <td>1</td>\n",
       "      <td>...</td>\n",
       "      <td>0</td>\n",
       "      <td>1</td>\n",
       "      <td>1</td>\n",
       "      <td>0</td>\n",
       "      <td>0</td>\n",
       "      <td>1</td>\n",
       "      <td>0</td>\n",
       "      <td>0</td>\n",
       "      <td>2</td>\n",
       "      <td>0</td>\n",
       "    </tr>\n",
       "    <tr>\n",
       "      <th>807</th>\n",
       "      <td>0</td>\n",
       "      <td>1</td>\n",
       "      <td>0</td>\n",
       "      <td>0</td>\n",
       "      <td>1</td>\n",
       "      <td>2</td>\n",
       "      <td>2</td>\n",
       "      <td>6</td>\n",
       "      <td>0</td>\n",
       "      <td>1</td>\n",
       "      <td>...</td>\n",
       "      <td>3</td>\n",
       "      <td>3</td>\n",
       "      <td>4</td>\n",
       "      <td>2</td>\n",
       "      <td>4</td>\n",
       "      <td>5</td>\n",
       "      <td>5</td>\n",
       "      <td>5</td>\n",
       "      <td>6</td>\n",
       "      <td>5</td>\n",
       "    </tr>\n",
       "    <tr>\n",
       "      <th>808</th>\n",
       "      <td>1</td>\n",
       "      <td>0</td>\n",
       "      <td>0</td>\n",
       "      <td>0</td>\n",
       "      <td>1</td>\n",
       "      <td>1</td>\n",
       "      <td>2</td>\n",
       "      <td>1</td>\n",
       "      <td>1</td>\n",
       "      <td>0</td>\n",
       "      <td>...</td>\n",
       "      <td>2</td>\n",
       "      <td>0</td>\n",
       "      <td>0</td>\n",
       "      <td>2</td>\n",
       "      <td>2</td>\n",
       "      <td>0</td>\n",
       "      <td>0</td>\n",
       "      <td>0</td>\n",
       "      <td>4</td>\n",
       "      <td>3</td>\n",
       "    </tr>\n",
       "    <tr>\n",
       "      <th>809</th>\n",
       "      <td>0</td>\n",
       "      <td>0</td>\n",
       "      <td>0</td>\n",
       "      <td>1</td>\n",
       "      <td>0</td>\n",
       "      <td>0</td>\n",
       "      <td>0</td>\n",
       "      <td>0</td>\n",
       "      <td>1</td>\n",
       "      <td>0</td>\n",
       "      <td>...</td>\n",
       "      <td>0</td>\n",
       "      <td>0</td>\n",
       "      <td>0</td>\n",
       "      <td>1</td>\n",
       "      <td>1</td>\n",
       "      <td>0</td>\n",
       "      <td>0</td>\n",
       "      <td>0</td>\n",
       "      <td>2</td>\n",
       "      <td>0</td>\n",
       "    </tr>\n",
       "    <tr>\n",
       "      <th>810</th>\n",
       "      <td>0</td>\n",
       "      <td>1</td>\n",
       "      <td>0</td>\n",
       "      <td>0</td>\n",
       "      <td>0</td>\n",
       "      <td>0</td>\n",
       "      <td>0</td>\n",
       "      <td>0</td>\n",
       "      <td>0</td>\n",
       "      <td>0</td>\n",
       "      <td>...</td>\n",
       "      <td>0</td>\n",
       "      <td>0</td>\n",
       "      <td>0</td>\n",
       "      <td>0</td>\n",
       "      <td>0</td>\n",
       "      <td>0</td>\n",
       "      <td>0</td>\n",
       "      <td>0</td>\n",
       "      <td>0</td>\n",
       "      <td>1</td>\n",
       "    </tr>\n",
       "  </tbody>\n",
       "</table>\n",
       "<p>811 rows × 52 columns</p>\n",
       "</div>"
      ],
      "text/plain": [
       "     W0  W1  W2  W3  W4  W5  W6  W7  W8  W9  ...  W42  W43  W44  W45  W46  \\\n",
       "0    11  12  10   8  13  12  14  21   6  14  ...    4    7    8   10   12   \n",
       "1     7   6   3   2   7   1   6   3   3   3  ...    2    4    5    1    1   \n",
       "2     7  11   8   9  10   8   7  13  12   6  ...    6   14    5    5    7   \n",
       "3    12   8  13   5   9   6   9  13  13  11  ...    9   10    3    4    6   \n",
       "4     8   5  13  11   6   7   9  14   9   9  ...    7   11    7   12    6   \n",
       "..   ..  ..  ..  ..  ..  ..  ..  ..  ..  ..  ...  ...  ...  ...  ...  ...   \n",
       "806   0   0   1   0   0   2   1   0   0   1  ...    0    1    1    0    0   \n",
       "807   0   1   0   0   1   2   2   6   0   1  ...    3    3    4    2    4   \n",
       "808   1   0   0   0   1   1   2   1   1   0  ...    2    0    0    2    2   \n",
       "809   0   0   0   1   0   0   0   0   1   0  ...    0    0    0    1    1   \n",
       "810   0   1   0   0   0   0   0   0   0   0  ...    0    0    0    0    0   \n",
       "\n",
       "     W47  W48  W49  W50  W51  \n",
       "0      3    7    6    5   10  \n",
       "1      4    5    1    6    0  \n",
       "2      8   14    8    8    7  \n",
       "3      8   14    8    7    8  \n",
       "4      6    5   11    8    9  \n",
       "..   ...  ...  ...  ...  ...  \n",
       "806    1    0    0    2    0  \n",
       "807    5    5    5    6    5  \n",
       "808    0    0    0    4    3  \n",
       "809    0    0    0    2    0  \n",
       "810    0    0    0    0    1  \n",
       "\n",
       "[811 rows x 52 columns]"
      ]
     },
     "execution_count": 3,
     "metadata": {},
     "output_type": "execute_result"
    }
   ],
   "source": [
    "# Get only the transactions\n",
    "\n",
    "sales_df = sales_transactions_df.drop('Product_Code', axis=1)\n",
    "sales_df"
   ]
  },
  {
   "cell_type": "markdown",
   "metadata": {
    "id": "9za9aAt-aMjP"
   },
   "source": [
    "## A.1 - Dimensionality Reduction"
   ]
  },
  {
   "cell_type": "markdown",
   "metadata": {
    "id": "El1GXQu0aQxV"
   },
   "source": [
    "It is evident that we have a **very large number of features**. We will try dimensionality reduction to reduce these features and retain 95 % information.\n",
    "\n",
    "*You can change `n_components` to a different values if you want to see different performance.*"
   ]
  },
  {
   "cell_type": "code",
   "execution_count": 4,
   "metadata": {
    "id": "uhEtsedRLOM5"
   },
   "outputs": [],
   "source": [
    "# Feature scaling\n",
    "scaler = StandardScaler()\n",
    "sales_scaled = scaler.fit_transform(sales_df)\n",
    "\n",
    "# Dimensionality Reduction using PCA\n",
    "from sklearn.decomposition import PCA\n",
    "\n",
    "pca = PCA(n_components=0.95)\n",
    "pca.fit(sales_scaled)\n",
    "sales_scaled_pca = pca.transform(sales_scaled)"
   ]
  },
  {
   "cell_type": "code",
   "execution_count": 5,
   "metadata": {
    "colab": {
     "base_uri": "https://localhost:8080/"
    },
    "id": "6ZZwSX2bLR4N",
    "outputId": "845cf488-9303-455e-9d4f-7d5744c0a0aa"
   },
   "outputs": [
    {
     "data": {
      "text/plain": [
       "np.int64(11)"
      ]
     },
     "execution_count": 5,
     "metadata": {},
     "output_type": "execute_result"
    }
   ],
   "source": [
    "# Check the number of features if we want to retain 95 % of the information\n",
    "\n",
    "cumsum = np.cumsum(pca.explained_variance_ratio_)\n",
    "num_features = np.argmax(cumsum >= 0.95) + 1\n",
    "num_features"
   ]
  },
  {
   "cell_type": "markdown",
   "metadata": {
    "id": "i8T0EaqfgLEw"
   },
   "source": [
    "## A.2 - Find the Optimal Hyperparameters"
   ]
  },
  {
   "cell_type": "markdown",
   "metadata": {
    "id": "9PaY1HO9gPDk"
   },
   "source": [
    "In DBSCAN, there are 2 important hyperparameters :\n",
    "1. `eps`\n",
    "   * A radius that defines the neighborhood around each data point.\n",
    "   * If the distance between two points is lower or equal to eps then they are considered neighbors.\n",
    "   * Small value of eps : a higher number of clusters will be created and a large part of the data will be considered as an outlier.\n",
    "   * Large value of eps : various small clusters will merge into a big cluster and it will lose details.\n",
    "\n",
    "2. `min_samples`\n",
    "   * The minimum number of data points required to form a dense region within eps radius.\n",
    "   * The larger the dataset, the larger value of min_samples must be chosen.\n",
    "   * The minimum value of min_samples must be chosen at least 3.\n",
    "   * As a general rule, the minimum min_samples should be at least on greater than the number of dimensions of the dataset as :  `min_samples >= Dimensions + 1`."
   ]
  },
  {
   "cell_type": "markdown",
   "metadata": {
    "id": "htIIhsfegksh"
   },
   "source": [
    "---\n",
    "For `min_sample` we will use formula `Dimensions + 1`."
   ]
  },
  {
   "cell_type": "code",
   "execution_count": 6,
   "metadata": {
    "colab": {
     "base_uri": "https://localhost:8080/"
    },
    "id": "R4Hz0ISkgO42",
    "outputId": "c5c35942-e013-4e55-ef0b-c3e6f7936c8b"
   },
   "outputs": [
    {
     "name": "stdout",
     "output_type": "stream",
     "text": [
      "min_samples :  12\n"
     ]
    }
   ],
   "source": [
    "# Check the value of `min_samples`\n",
    "\n",
    "min_samples = sales_scaled_pca.shape[1]+1\n",
    "print('min_samples : ', min_samples)"
   ]
  },
  {
   "cell_type": "markdown",
   "metadata": {
    "id": "vxrY02hohEh5"
   },
   "source": [
    "---\n",
    "To find the optimal value of `eps`, we can use K-Distance.\n",
    "\n",
    "For plotting a K-distance Graph, we need the distance between a point and its nearest data point for all data points in the dataset. We obtain this using NearestNeighbors from `sklearn.neighbors`.\n",
    "\n",
    "To choose a value, we can perform a sort of elbowing technique (a similar technique that is often used to determine an optimal k in K-Means clustering).\n",
    "\n",
    "1. Let k = the number of nearest neighbors.\n",
    "\n",
    "2. For a value of k, for each point in a dataset, calculate the average distance between each point and its k-nearest neighbors (some packages have this function built in somewhere)\n",
    "\n",
    "3. Plot number of points on the X axis and average distances on the y axis that you calculated.\n",
    "\n",
    "4. The resulting graph should be increasing (as long as you sort your arrays increasingly by average distance) and concave up. **There should be a point where the rate of increase jumps drastically, this point is called the elbow point and contains your optimal eps, which is the y value of the elbow point**.\n",
    "\n",
    "5. Run this algorithm using different values of k and compare results.\n"
   ]
  },
  {
   "cell_type": "code",
   "execution_count": 7,
   "metadata": {
    "colab": {
     "base_uri": "https://localhost:8080/",
     "height": 619
    },
    "id": "tO0GZtiBhEJl",
    "outputId": "f0e44be2-13dc-468a-ab8b-0f43e082e16d"
   },
   "outputs": [
    {
     "data": {
      "image/png": "[encoded data removed]",
      "text/plain": [
       "<Figure size 1400x800 with 1 Axes>"
      ]
     },
     "metadata": {},
     "output_type": "display_data"
    }
   ],
   "source": [
    "#Let's explore the data and work out a better setting\n",
    "from sklearn.neighbors import NearestNeighbors\n",
    "neigh = NearestNeighbors(n_neighbors=min_samples)\n",
    "nbrs = neigh.fit(sales_scaled_pca)\n",
    "distances, indices = nbrs.kneighbors(sales_scaled_pca)\n",
    "\n",
    "# Plotting K-distance Graph\n",
    "distances = np.sort(distances, axis=0)\n",
    "distances = distances[:,1]\n",
    "plt.figure(figsize=(14,8))\n",
    "plt.grid()\n",
    "plt.plot(distances)\n",
    "plt.title('K-Distance - Check where it bends',fontsize=16)\n",
    "plt.xlabel('Data Points - sorted by Distance',fontsize=12)\n",
    "plt.ylabel('Epsilon', fontsize=12)\n",
    "plt.show()"
   ]
  },
  {
   "cell_type": "markdown",
   "metadata": {
    "id": "DyhqzKvhimtW"
   },
   "source": [
    "It can be seen, when `eps=2` and `eps=3`, the line starts to climb drastically. We can try `eps` values that fall between this range to use in DBSCAN training."
   ]
  },
  {
   "cell_type": "markdown",
   "metadata": {
    "id": "zxeJ4170cB_j"
   },
   "source": [
    "---\n",
    "Next, let's examine the effect of changing the epsilon value on data that is categorized as an outlier. This time we will use `50` combinations of `eps` starting from `eps=2` to `eps=3`."
   ]
  },
  {
   "cell_type": "code",
   "execution_count": 8,
   "metadata": {
    "colab": {
     "base_uri": "https://localhost:8080/",
     "height": 373
    },
    "id": "KdwiUhFOU16I",
    "outputId": "6538ff29-dbdb-4bdc-dad3-52b4dabf3267"
   },
   "outputs": [
    {
     "data": {
      "image/png": "[encoded data removed]",
      "text/plain": [
       "<Figure size 1500x500 with 2 Axes>"
      ]
     },
     "metadata": {},
     "output_type": "display_data"
    }
   ],
   "source": [
    "# Let's check the number of outliers with different eps\n",
    "from sklearn.cluster import DBSCAN\n",
    "\n",
    "## Define the `eps`\n",
    "start_eps = 2\n",
    "end_eps = 3\n",
    "number_eps = 50 # Number of `eps` combination to try\n",
    "outlier_percent = []\n",
    "clusters_size = []\n",
    "\n",
    "## Start looping\n",
    "for eps in np.linspace(start_eps, end_eps, number_eps):\n",
    "\n",
    "    ## Create Model\n",
    "    dbscan = DBSCAN(eps=eps, min_samples=min_samples)\n",
    "    dbscan.fit(sales_scaled_pca)\n",
    "\n",
    "    ## Log percentage of points that are outliers\n",
    "    perc_outliers = 100 * np.sum(dbscan.labels_ == -1) / len(dbscan.labels_)\n",
    "\n",
    "    ## Get cluster size\n",
    "    n_clusters = len(set(dbscan.labels_)) - (1 if -1 in dbscan.labels_ else 0)\n",
    "\n",
    "    outlier_percent.append(perc_outliers)\n",
    "    clusters_size.append(n_clusters)\n",
    "\n",
    "## Plot the effect of different epsilons\n",
    "plt.figure(figsize=(15, 5))\n",
    "plt.subplot(1, 2, 1)\n",
    "plt.grid()\n",
    "plt.plot(np.linspace(start_eps, end_eps, number_eps), outlier_percent)\n",
    "plt.xlabel(\"Epsilon Value\")\n",
    "plt.ylabel(\"Percentage of Points Classified as Outliers\")\n",
    "\n",
    "plt.subplot(1, 2, 2)\n",
    "plt.grid()\n",
    "plt.plot(np.linspace(start_eps, end_eps, number_eps), clusters_size)\n",
    "plt.xlabel(\"Epsilon Value\")\n",
    "plt.ylabel(\"Number of Clusters\")\n",
    "\n",
    "plt.show()"
   ]
  },
  {
   "cell_type": "markdown",
   "metadata": {
    "id": "A1FgicRTkA2I"
   },
   "source": [
    "It can be seen that the number of clusters is equal to 2 regardless of the `eps` value tried between `eps=2` to `eps=3`. However, this is different from the number of outlier percentages. Also, ask yourself a question, how much data you would consider to be outliers ?\n",
    "\n",
    "Let's say, in this case, we will use `eps=2.6` to minimize outliers so that the outliers are less than 2%."
   ]
  },
  {
   "cell_type": "markdown",
   "metadata": {
    "id": "-Tz0PRrlbGLo"
   },
   "source": [
    "## A.3 - Training with the Optimal Number of Clusters"
   ]
  },
  {
   "cell_type": "code",
   "execution_count": 9,
   "metadata": {
    "id": "DaJMyr0XS2Bx"
   },
   "outputs": [],
   "source": [
    "# DBSCAN Training\n",
    "\n",
    "from sklearn.cluster import DBSCAN\n",
    "\n",
    "best_dbscan = DBSCAN(eps=2.6, min_samples=min_samples)\n",
    "best_dbscan.fit(sales_scaled_pca)\n",
    "\n",
    "sales_transactions_df['cluster_dbscan'] = best_dbscan.labels_"
   ]
  },
  {
   "cell_type": "markdown",
   "metadata": {
    "id": "K3hgcDLaYbpo"
   },
   "source": [
    "We can check Silhouette Score from this model.\n",
    "\n",
    "* The silhouette score is calculated utilizing the mean intra-cluster distance between points, AND the mean nearest-cluster distance.\n",
    "\n",
    "* For instance, a cluster with a lot of data points very close to each other (high density) AND is far away from the next nearest cluster (suggesting the cluster is very unique in comparison to the next closest), will have a strong silhouette score.\n",
    "\n",
    "* A silhouette score ranges from -1 to 1\n",
    "  - `1` : the best score\n",
    "  - `0`  : suggest overlapping clusters.\n",
    "  - `-1` : the worst score"
   ]
  },
  {
   "cell_type": "code",
   "execution_count": 10,
   "metadata": {
    "colab": {
     "base_uri": "https://localhost:8080/"
    },
    "id": "IjDhTnkOX0Zr",
    "outputId": "9fcbfbff-a9e9-4046-c6fe-bb733aedbe61"
   },
   "outputs": [
    {
     "name": "stdout",
     "output_type": "stream",
     "text": [
      "Number of Clusters :  2\n",
      "Number of Outliers :  14\n",
      "Silhouette Score   :  0.7029482276044415\n"
     ]
    }
   ],
   "source": [
    "# Check how many clusters are formed\n",
    "n_clusters = len(set(best_dbscan.labels_)) - (1 if -1 in best_dbscan.labels_ else 0)\n",
    "print('Number of Clusters : ', n_clusters)\n",
    "\n",
    "# Check how many data points are considered as outlier\n",
    "print('Number of Outliers : ', best_dbscan.labels_[best_dbscan.labels_ == -1].size)\n",
    "\n",
    "# Check Silhouette Score\n",
    "from sklearn.metrics import silhouette_score\n",
    "print('Silhouette Score   : ', silhouette_score(sales_scaled_pca, best_dbscan.labels_))"
   ]
  },
  {
   "cell_type": "code",
   "execution_count": 11,
   "metadata": {
    "colab": {
     "base_uri": "https://localhost:8080/",
     "height": 449
    },
    "id": "rJCWvOZQTXhs",
    "outputId": "1b964586-272e-451d-8124-3b6972839c13"
   },
   "outputs": [
    {
     "data": {
      "text/plain": [
       "<Axes: >"
      ]
     },
     "execution_count": 11,
     "metadata": {},
     "output_type": "execute_result"
    },
    {
     "data": {
      "image/png": "[encoded data removed]",
      "text/plain": [
       "<Figure size 640x480 with 1 Axes>"
      ]
     },
     "metadata": {},
     "output_type": "display_data"
    }
   ],
   "source": [
    "# Cluster visualization in 2D\n",
    "\n",
    "pca_2d = PCA(n_components=2)\n",
    "pca_2d.fit(sales_scaled)\n",
    "\n",
    "sales_scaled_pca_2d = pca_2d.fit_transform(sales_scaled)\n",
    "\n",
    "sns.scatterplot(x=sales_scaled_pca_2d[:,0], y=sales_scaled_pca_2d[:,1], hue=sales_transactions_df['cluster_dbscan'], palette='viridis')"
   ]
  },
  {
   "cell_type": "markdown",
   "metadata": {
    "id": "orPGyDcSmO85"
   },
   "source": [
    "There are 2 clusters, namely cluster `0` and cluster `1`. Data that are considered outliers are put into cluster `-1`."
   ]
  },
  {
   "cell_type": "markdown",
   "metadata": {
    "id": "h3WUvV9GmoPF"
   },
   "source": [
    "## A.4 - Predict A cluster from An Instance"
   ]
  },
  {
   "cell_type": "markdown",
   "metadata": {
    "id": "xvnLaWVNsC1d"
   },
   "source": [
    "Unlike `K-Means`, **`DBSCAN()` class function does not have the prediction method to predict clusters** for new data points and test samples.\n",
    "\n",
    "Therefore, we can write a custom function to predict the cluster label for new samples using a trained DBSCAN model.\n",
    "\n",
    "* Calculate the distance between the new sample and all the samples in the training set.\n",
    "* Find the closest sample that is within the distance threshold defined by the `eps` parameter.\n",
    "* Return the cluster label of that closest sample as the predicted label for the new sample."
   ]
  },
  {
   "cell_type": "code",
   "execution_count": 12,
   "metadata": {
    "id": "Om9gZTn2o7mS"
   },
   "outputs": [],
   "source": [
    "# Create a function to get nearest clusters\n",
    "\n",
    "from sklearn.metrics import pairwise_distances\n",
    "\n",
    "def predict_cluster(model, X_new):\n",
    "    # Calculate pairwise distances between new samples and all samples in the training set\n",
    "    distances = pairwise_distances(X_new, model.components_, metric=model.metric)\n",
    "\n",
    "    # Find the index of the closest sample within eps distance\n",
    "    closest_sample_indices = np.argmin(distances, axis=1)\n",
    "\n",
    "    # Get the cluster labels of the closest samples\n",
    "    closest_sample_labels = dbscan.labels_[closest_sample_indices]\n",
    "\n",
    "    return closest_sample_labels"
   ]
  },
  {
   "cell_type": "code",
   "execution_count": 13,
   "metadata": {
    "colab": {
     "base_uri": "https://localhost:8080/",
     "height": 110
    },
    "id": "WVmPXw2Hq0U-",
    "outputId": "7a9ea0ca-d1f5-44b2-9e88-849e053110fc"
   },
   "outputs": [
    {
     "data": {
      "text/html": [
       "<div>\n",
       "<style scoped>\n",
       "    .dataframe tbody tr th:only-of-type {\n",
       "        vertical-align: middle;\n",
       "    }\n",
       "\n",
       "    .dataframe tbody tr th {\n",
       "        vertical-align: top;\n",
       "    }\n",
       "\n",
       "    .dataframe thead th {\n",
       "        text-align: right;\n",
       "    }\n",
       "</style>\n",
       "<table border=\"1\" class=\"dataframe\">\n",
       "  <thead>\n",
       "    <tr style=\"text-align: right;\">\n",
       "      <th></th>\n",
       "      <th>Product_Code</th>\n",
       "      <th>W0</th>\n",
       "      <th>W1</th>\n",
       "      <th>W2</th>\n",
       "      <th>W3</th>\n",
       "      <th>W4</th>\n",
       "      <th>W5</th>\n",
       "      <th>W6</th>\n",
       "      <th>W7</th>\n",
       "      <th>W8</th>\n",
       "      <th>...</th>\n",
       "      <th>W42</th>\n",
       "      <th>W43</th>\n",
       "      <th>W44</th>\n",
       "      <th>W45</th>\n",
       "      <th>W46</th>\n",
       "      <th>W47</th>\n",
       "      <th>W48</th>\n",
       "      <th>W49</th>\n",
       "      <th>W50</th>\n",
       "      <th>W51</th>\n",
       "    </tr>\n",
       "  </thead>\n",
       "  <tbody>\n",
       "    <tr>\n",
       "      <th>0</th>\n",
       "      <td>New Product</td>\n",
       "      <td>12</td>\n",
       "      <td>14</td>\n",
       "      <td>15</td>\n",
       "      <td>8</td>\n",
       "      <td>13</td>\n",
       "      <td>12</td>\n",
       "      <td>14</td>\n",
       "      <td>21</td>\n",
       "      <td>6</td>\n",
       "      <td>...</td>\n",
       "      <td>4</td>\n",
       "      <td>7</td>\n",
       "      <td>8</td>\n",
       "      <td>10</td>\n",
       "      <td>12</td>\n",
       "      <td>3</td>\n",
       "      <td>7</td>\n",
       "      <td>6</td>\n",
       "      <td>5</td>\n",
       "      <td>10</td>\n",
       "    </tr>\n",
       "  </tbody>\n",
       "</table>\n",
       "<p>1 rows × 53 columns</p>\n",
       "</div>"
      ],
      "text/plain": [
       "  Product_Code  W0  W1  W2  W3  W4  W5  W6  W7  W8  ...  W42  W43  W44  W45  \\\n",
       "0  New Product  12  14  15   8  13  12  14  21   6  ...    4    7    8   10   \n",
       "\n",
       "   W46  W47  W48  W49  W50  W51  \n",
       "0   12    3    7    6    5   10  \n",
       "\n",
       "[1 rows x 53 columns]"
      ]
     },
     "execution_count": 13,
     "metadata": {},
     "output_type": "execute_result"
    }
   ],
   "source": [
    "# Create an instance\n",
    "\n",
    "data_inf = {\n",
    "    'Product_Code': 'New Product',\n",
    "    'W0': 12,\n",
    "    'W1': 14,\n",
    "    'W2': 15,\n",
    "    'W3': 8,\n",
    "    'W4': 13,\n",
    "    'W5': 12,\n",
    "    'W6': 14,\n",
    "    'W7': 21,\n",
    "    'W8': 6,\n",
    "    'W9': 14,\n",
    "    'W10': 11,\n",
    "    'W11': 14,\n",
    "    'W12': 16,\n",
    "    'W13': 9,\n",
    "    'W14': 9,\n",
    "    'W15': 9,\n",
    "    'W16': 14,\n",
    "    'W17': 9,\n",
    "    'W18': 3,\n",
    "    'W19': 12,\n",
    "    'W20': 5,\n",
    "    'W21': 11,\n",
    "    'W22': 7,\n",
    "    'W23': 12,\n",
    "    'W24': 5,\n",
    "    'W25': 9,\n",
    "    'W26': 7,\n",
    "    'W27': 10,\n",
    "    'W28': 5,\n",
    "    'W29': 11,\n",
    "    'W30': 7,\n",
    "    'W31': 10,\n",
    "    'W32': 12,\n",
    "    'W33': 6,\n",
    "    'W34': 5,\n",
    "    'W35': 14,\n",
    "    'W36': 10,\n",
    "    'W37': 9,\n",
    "    'W38': 12,\n",
    "    'W39': 17,\n",
    "    'W40': 7,\n",
    "    'W41': 11,\n",
    "    'W42': 4,\n",
    "    'W43': 7,\n",
    "    'W44': 8,\n",
    "    'W45': 10,\n",
    "    'W46': 12,\n",
    "    'W47': 3,\n",
    "    'W48': 7,\n",
    "    'W49': 6,\n",
    "    'W50': 5,\n",
    "    'W51': 10,\n",
    "}\n",
    "\n",
    "data_inf = pd.DataFrame([data_inf])\n",
    "data_inf"
   ]
  },
  {
   "cell_type": "code",
   "execution_count": 14,
   "metadata": {
    "colab": {
     "base_uri": "https://localhost:8080/"
    },
    "id": "iP3W-x9Co8WO",
    "outputId": "bf98d084-7472-49ba-a831-8ffe4fa7acb2"
   },
   "outputs": [
    {
     "data": {
      "text/plain": [
       "array([[ 0.54133488, -0.6522044 , -0.15893588,  0.14261922,  0.11336402,\n",
       "        -0.32144131, -0.6115773 ,  0.37703958,  0.32701702, -0.45393189,\n",
       "         0.26075473]])"
      ]
     },
     "execution_count": 14,
     "metadata": {},
     "output_type": "execute_result"
    }
   ],
   "source": [
    "# Preprocessing\n",
    "\n",
    "## Drop column `Product Code`\n",
    "data_inf = data_inf.drop('Product_Code', axis=1)\n",
    "\n",
    "## Feature Scaling\n",
    "data_inf_scaled = scaler.transform(data_inf)\n",
    "\n",
    "## Dimensionality reduction using PCA\n",
    "data_inf_scaled_pca = pca.transform(data_inf_scaled)\n",
    "data_inf_scaled_pca"
   ]
  },
  {
   "cell_type": "code",
   "execution_count": 15,
   "metadata": {
    "colab": {
     "base_uri": "https://localhost:8080/"
    },
    "id": "DiuhwqaHpogq",
    "outputId": "fec98e10-b22e-4f02-80ed-5f8f81eb60df"
   },
   "outputs": [
    {
     "data": {
      "text/plain": [
       "array([0])"
      ]
     },
     "execution_count": 15,
     "metadata": {},
     "output_type": "execute_result"
    }
   ],
   "source": [
    "# Cluster prediction\n",
    "\n",
    "predict_cluster(best_dbscan, data_inf_scaled_pca)"
   ]
  }
 ],
 "metadata": {
  "colab": {
   "provenance": [],
   "toc_visible": true
  },
  "kernelspec": {
   "display_name": "hacktiv8_ftds",
   "language": "python",
   "name": "python3"
  },
  "language_info": {
   "codemirror_mode": {
    "name": "ipython",
    "version": 3
   },
   "file_extension": ".py",
   "mimetype": "text/x-python",
   "name": "python",
   "nbconvert_exporter": "python",
   "pygments_lexer": "ipython3",
   "version": "3.12.7"
  }
 },
 "nbformat": 4,
 "nbformat_minor": 0
}
