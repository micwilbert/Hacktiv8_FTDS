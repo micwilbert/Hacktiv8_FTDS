{
  "cells": [
    {
      "cell_type": "markdown",
      "metadata": {
        "id": "ff_Ct2yb-0nC"
      },
      "source": [
        "# Phase 1 - Week 1 - Day 3 AM - Feature Engineering - Part 1"
      ]
    },
    {
      "cell_type": "markdown",
      "metadata": {
        "id": "qeHXTnfnM9mM"
      },
      "source": [
        "# A. Cardinality"
      ]
    },
    {
      "cell_type": "markdown",
      "metadata": {
        "id": "80C5Nz--AFME"
      },
      "source": [
        "## A.1 - Definition"
      ]
    },
    {
      "cell_type": "markdown",
      "metadata": {
        "id": "psR0BRXS_qjN"
      },
      "source": [
        "The values of a categorical variable are selected from a group of categories, also called labels. For example, in the variable `gender` the categories or labels are male and female, whereas in the variable `city` the labels can be London, Manchester, Brighton and so on.\n",
        "\n",
        "Different categorical variables contain different number of labels or categories. The variable gender contains only 2 labels, but a variable like city or postcode, can contain a huge number of different labels.\n",
        "\n",
        "The number of different labels within a categorical variable is known as cardinality. A high number of labels within a variable is known as __high cardinality__.\n",
        "\n",
        "---\n",
        "\n",
        "High cardinality may pose the following problems:\n",
        "\n",
        "- Variables with too many labels **tend to dominate** over those with only a few labels, particularly in **Tree based** algorithms.\n",
        "\n",
        "- A big number of labels within a variable may introduce noise with little, if any, information, therefore making machine learning models **prone to over-fit**.\n",
        "\n",
        "- Some of the labels may **only be present in the training data set, but not in the test set**, therefore machine learning algorithms may over-fit to the training set.\n",
        "\n",
        "- Contrarily, **some labels may appear only in the test set**, therefore leaving the machine learning algorithms unable to perform a calculation over the new (unseen) observation.\n",
        "\n",
        "In particular, **tree methods can be biased towards variables with lots of labels** (variables with high cardinality). Thus, their performance may be affected by high cardinality."
      ]
    },
    {
      "cell_type": "markdown",
      "metadata": {
        "id": "OBVxviR1NAPA"
      },
      "source": [
        "## A.2 - Purpose"
      ]
    },
    {
      "cell_type": "markdown",
      "metadata": {
        "id": "K6WNafmt96wP"
      },
      "source": [
        "We will :\n",
        "\n",
        "- Learn how to quantify cardinality\n",
        "- See examples of high and low cardinality variables\n",
        "- Understand the effect of cardinality when preparing train and test sets\n",
        "- Visualise the effect of cardinality on Machine Learning Model performance\n",
        "\n",
        "We will use the [Titanic](https://raw.githubusercontent.com/FTDS-learning-materials/phase-1/master/w1/P1W1D3AM%20-%20Feature%20Engineering%20-%20Part%201%20-%20Titanic.csv) dataset."
      ]
    },
    {
      "cell_type": "code",
      "execution_count": 1,
      "metadata": {
        "id": "WQVI5SUFNDVg"
      },
      "outputs": [],
      "source": [
        "# Import Libraries\n",
        "\n",
        "import numpy as np\n",
        "import pandas as pd\n",
        "import matplotlib.pyplot as plt\n",
        "\n",
        "from sklearn.neighbors import KNeighborsClassifier\n",
        "from sklearn.ensemble import RandomForestClassifier\n",
        "\n",
        "from sklearn.metrics import roc_auc_score\n",
        "from sklearn.model_selection import train_test_split"
      ]
    },
    {
      "cell_type": "code",
      "execution_count": 2,
      "metadata": {
        "colab": {
          "base_uri": "https://localhost:8080/",
          "height": 320
        },
        "id": "SPFpWrZMNHuM",
        "outputId": "8964d848-b384-4892-ac58-7d951d0caa9f"
      },
      "outputs": [
        {
          "data": {
            "text/html": [
              "<div>\n",
              "<style scoped>\n",
              "    .dataframe tbody tr th:only-of-type {\n",
              "        vertical-align: middle;\n",
              "    }\n",
              "\n",
              "    .dataframe tbody tr th {\n",
              "        vertical-align: top;\n",
              "    }\n",
              "\n",
              "    .dataframe thead th {\n",
              "        text-align: right;\n",
              "    }\n",
              "</style>\n",
              "<table border=\"1\" class=\"dataframe\">\n",
              "  <thead>\n",
              "    <tr style=\"text-align: right;\">\n",
              "      <th></th>\n",
              "      <th>PassengerId</th>\n",
              "      <th>Survived</th>\n",
              "      <th>Pclass</th>\n",
              "      <th>Name</th>\n",
              "      <th>Sex</th>\n",
              "      <th>Age</th>\n",
              "      <th>SibSp</th>\n",
              "      <th>Parch</th>\n",
              "      <th>Ticket</th>\n",
              "      <th>Fare</th>\n",
              "      <th>Cabin</th>\n",
              "      <th>Embarked</th>\n",
              "    </tr>\n",
              "  </thead>\n",
              "  <tbody>\n",
              "    <tr>\n",
              "      <th>0</th>\n",
              "      <td>1</td>\n",
              "      <td>0</td>\n",
              "      <td>3</td>\n",
              "      <td>Braund, Mr. Owen Harris</td>\n",
              "      <td>male</td>\n",
              "      <td>22.0</td>\n",
              "      <td>1</td>\n",
              "      <td>0</td>\n",
              "      <td>A/5 21171</td>\n",
              "      <td>7.2500</td>\n",
              "      <td>NaN</td>\n",
              "      <td>S</td>\n",
              "    </tr>\n",
              "    <tr>\n",
              "      <th>1</th>\n",
              "      <td>2</td>\n",
              "      <td>1</td>\n",
              "      <td>1</td>\n",
              "      <td>Cumings, Mrs. John Bradley (Florence Briggs Th...</td>\n",
              "      <td>female</td>\n",
              "      <td>38.0</td>\n",
              "      <td>1</td>\n",
              "      <td>0</td>\n",
              "      <td>PC 17599</td>\n",
              "      <td>71.2833</td>\n",
              "      <td>C85</td>\n",
              "      <td>C</td>\n",
              "    </tr>\n",
              "    <tr>\n",
              "      <th>2</th>\n",
              "      <td>3</td>\n",
              "      <td>1</td>\n",
              "      <td>3</td>\n",
              "      <td>Heikkinen, Miss. Laina</td>\n",
              "      <td>female</td>\n",
              "      <td>26.0</td>\n",
              "      <td>0</td>\n",
              "      <td>0</td>\n",
              "      <td>STON/O2. 3101282</td>\n",
              "      <td>7.9250</td>\n",
              "      <td>NaN</td>\n",
              "      <td>S</td>\n",
              "    </tr>\n",
              "    <tr>\n",
              "      <th>3</th>\n",
              "      <td>4</td>\n",
              "      <td>1</td>\n",
              "      <td>1</td>\n",
              "      <td>Futrelle, Mrs. Jacques Heath (Lily May Peel)</td>\n",
              "      <td>female</td>\n",
              "      <td>35.0</td>\n",
              "      <td>1</td>\n",
              "      <td>0</td>\n",
              "      <td>113803</td>\n",
              "      <td>53.1000</td>\n",
              "      <td>C123</td>\n",
              "      <td>S</td>\n",
              "    </tr>\n",
              "    <tr>\n",
              "      <th>4</th>\n",
              "      <td>5</td>\n",
              "      <td>0</td>\n",
              "      <td>3</td>\n",
              "      <td>Allen, Mr. William Henry</td>\n",
              "      <td>male</td>\n",
              "      <td>35.0</td>\n",
              "      <td>0</td>\n",
              "      <td>0</td>\n",
              "      <td>373450</td>\n",
              "      <td>8.0500</td>\n",
              "      <td>NaN</td>\n",
              "      <td>S</td>\n",
              "    </tr>\n",
              "  </tbody>\n",
              "</table>\n",
              "</div>"
            ],
            "text/plain": [
              "   PassengerId  Survived  Pclass  \\\n",
              "0            1         0       3   \n",
              "1            2         1       1   \n",
              "2            3         1       3   \n",
              "3            4         1       1   \n",
              "4            5         0       3   \n",
              "\n",
              "                                                Name     Sex   Age  SibSp  \\\n",
              "0                            Braund, Mr. Owen Harris    male  22.0      1   \n",
              "1  Cumings, Mrs. John Bradley (Florence Briggs Th...  female  38.0      1   \n",
              "2                             Heikkinen, Miss. Laina  female  26.0      0   \n",
              "3       Futrelle, Mrs. Jacques Heath (Lily May Peel)  female  35.0      1   \n",
              "4                           Allen, Mr. William Henry    male  35.0      0   \n",
              "\n",
              "   Parch            Ticket     Fare Cabin Embarked  \n",
              "0      0         A/5 21171   7.2500   NaN        S  \n",
              "1      0          PC 17599  71.2833   C85        C  \n",
              "2      0  STON/O2. 3101282   7.9250   NaN        S  \n",
              "3      0            113803  53.1000  C123        S  \n",
              "4      0            373450   8.0500   NaN        S  "
            ]
          },
          "execution_count": 2,
          "metadata": {},
          "output_type": "execute_result"
        }
      ],
      "source": [
        "# Load the Titanic dataset\n",
        "\n",
        "url = 'https://raw.githubusercontent.com/FTDS-learning-materials/phase-1/master/w1/P1W1D3AM%20-%20Feature%20Engineering%20-%20Part%201%20-%20Titanic.csv'\n",
        "data = pd.read_csv(url)\n",
        "data.head()"
      ]
    },
    {
      "cell_type": "code",
      "execution_count": 3,
      "metadata": {
        "colab": {
          "base_uri": "https://localhost:8080/"
        },
        "id": "XgIbpJ7qNKrL",
        "outputId": "6afeb1fd-8e17-44f7-a66e-9aaa5d3da100"
      },
      "outputs": [
        {
          "name": "stdout",
          "output_type": "stream",
          "text": [
            "<class 'pandas.core.frame.DataFrame'>\n",
            "RangeIndex: 891 entries, 0 to 890\n",
            "Data columns (total 12 columns):\n",
            " #   Column       Non-Null Count  Dtype  \n",
            "---  ------       --------------  -----  \n",
            " 0   PassengerId  891 non-null    int64  \n",
            " 1   Survived     891 non-null    int64  \n",
            " 2   Pclass       891 non-null    int64  \n",
            " 3   Name         891 non-null    object \n",
            " 4   Sex          891 non-null    object \n",
            " 5   Age          714 non-null    float64\n",
            " 6   SibSp        891 non-null    int64  \n",
            " 7   Parch        891 non-null    int64  \n",
            " 8   Ticket       891 non-null    object \n",
            " 9   Fare         891 non-null    float64\n",
            " 10  Cabin        204 non-null    object \n",
            " 11  Embarked     889 non-null    object \n",
            "dtypes: float64(2), int64(5), object(5)\n",
            "memory usage: 83.7+ KB\n"
          ]
        }
      ],
      "source": [
        "# Check Dataset\n",
        "\n",
        "data.info()"
      ]
    },
    {
      "cell_type": "markdown",
      "metadata": {
        "id": "pyWklbrLNNOc"
      },
      "source": [
        "Let's focus on several categorical variables in this dataset : `Name`, `Sex`, `Ticket`, `Cabin`, and `Embarked`."
      ]
    },
    {
      "cell_type": "code",
      "execution_count": 4,
      "metadata": {
        "colab": {
          "base_uri": "https://localhost:8080/"
        },
        "id": "TulVbqp2NOrJ",
        "outputId": "71d7511d-8f61-4c7c-8484-8843939fa0f9"
      },
      "outputs": [
        {
          "name": "stdout",
          "output_type": "stream",
          "text": [
            "Number of categories in the variable Name     : 891\n",
            "Number of categories in the variable Sex      : 2\n",
            "Number of categories in the variable Ticket   : 681\n",
            "Number of categories in the variable Cabin    : 148\n",
            "Number of categories in the variable Embarked : 4\n",
            "Total number of passengers in the Titanic.    : 891\n"
          ]
        }
      ],
      "source": [
        "# Let's inspect the cardinality, this is the number of different labels, for the different categorical variables\n",
        "\n",
        "print('Number of categories in the variable Name     : {}'.format(len(data.Name.unique())))\n",
        "print('Number of categories in the variable Sex      : {}'.format(len(data.Sex.unique())))\n",
        "print('Number of categories in the variable Ticket   : {}'.format(len(data.Ticket.unique())))\n",
        "print('Number of categories in the variable Cabin    : {}'.format(len(data.Cabin.unique())))\n",
        "print('Number of categories in the variable Embarked : {}'.format(len(data.Embarked.unique())))\n",
        "print('Total number of passengers in the Titanic.    : {}'.format(len(data)))"
      ]
    },
    {
      "cell_type": "markdown",
      "metadata": {
        "id": "VZebv7P8NSC1"
      },
      "source": [
        "While the variable `Sex` contains only 2 categories and `Embarked` 4 (low cardinality), the variables `Ticket`, `Name` and `Cabin`, as expected, contain a huge number of different labels (high cardinality)."
      ]
    },
    {
      "cell_type": "markdown",
      "metadata": {
        "id": "zbW1_vILBT2C"
      },
      "source": [
        "## A.3 - Experiment"
      ]
    },
    {
      "cell_type": "markdown",
      "metadata": {
        "id": "vvc1Ss8QBS2n"
      },
      "source": [
        "To demonstrate the effect of high cardinality in train and test sets and machine learning performance, let's work with the variable `Cabin`. We will create a new variable to reduced cardinality."
      ]
    },
    {
      "cell_type": "code",
      "execution_count": 5,
      "metadata": {
        "colab": {
          "base_uri": "https://localhost:8080/"
        },
        "id": "ZkvusX7CNQgh",
        "outputId": "d11b77ba-5973-4650-ae61-94aa51932886"
      },
      "outputs": [
        {
          "data": {
            "text/plain": [
              "array([nan, 'C85', 'C123', 'E46', 'G6', 'C103', 'D56', 'A6',\n",
              "       'C23 C25 C27', 'B78', 'D33', 'B30', 'C52', 'B28', 'C83', 'F33',\n",
              "       'F G73', 'E31', 'A5', 'D10 D12', 'D26', 'C110', 'B58 B60', 'E101',\n",
              "       'F E69', 'D47', 'B86', 'F2', 'C2', 'E33', 'B19', 'A7', 'C49', 'F4',\n",
              "       'A32', 'B4', 'B80', 'A31', 'D36', 'D15', 'C93', 'C78', 'D35',\n",
              "       'C87', 'B77', 'E67', 'B94', 'C125', 'C99', 'C118', 'D7', 'A19',\n",
              "       'B49', 'D', 'C22 C26', 'C106', 'C65', 'E36', 'C54',\n",
              "       'B57 B59 B63 B66', 'C7', 'E34', 'C32', 'B18', 'C124', 'C91', 'E40',\n",
              "       'T', 'C128', 'D37', 'B35', 'E50', 'C82', 'B96 B98', 'E10', 'E44',\n",
              "       'A34', 'C104', 'C111', 'C92', 'E38', 'D21', 'E12', 'E63', 'A14',\n",
              "       'B37', 'C30', 'D20', 'B79', 'E25', 'D46', 'B73', 'C95', 'B38',\n",
              "       'B39', 'B22', 'C86', 'C70', 'A16', 'C101', 'C68', 'A10', 'E68',\n",
              "       'B41', 'A20', 'D19', 'D50', 'D9', 'A23', 'B50', 'A26', 'D48',\n",
              "       'E58', 'C126', 'B71', 'B51 B53 B55', 'D49', 'B5', 'B20', 'F G63',\n",
              "       'C62 C64', 'E24', 'C90', 'C45', 'E8', 'B101', 'D45', 'C46', 'D30',\n",
              "       'E121', 'D11', 'E77', 'F38', 'B3', 'D6', 'B82 B84', 'D17', 'A36',\n",
              "       'B102', 'B69', 'E49', 'C47', 'D28', 'E17', 'A24', 'C50', 'B42',\n",
              "       'C148'], dtype=object)"
            ]
          },
          "execution_count": 5,
          "metadata": {},
          "output_type": "execute_result"
        }
      ],
      "source": [
        "# Let's explore the values / categories of `Cabin`\n",
        "# We know from the previous cell that there are 148 different cabins, therefore the variable is highly cardinal\n",
        "\n",
        "data.Cabin.unique()"
      ]
    },
    {
      "cell_type": "markdown",
      "metadata": {
        "id": "Qw0wgNxnNVQU"
      },
      "source": [
        "Let's now reduce the cardinality of the variable. How? Instead of using the entire `Cabin` value, we will capture only the\n",
        "**first letter**.\n",
        "\n",
        "***Rationale***: the first letter indicates the deck on which the cabin was located, and is therefore an indication of both social class status and proximity to the surface of the Titanic. Both are known to improve the probability of survival."
      ]
    },
    {
      "cell_type": "code",
      "execution_count": 6,
      "metadata": {
        "colab": {
          "base_uri": "https://localhost:8080/"
        },
        "id": "kPboHk0LNW-a",
        "outputId": "db5913ab-e748-435c-e91c-6453041e1c28"
      },
      "outputs": [
        {
          "name": "stdout",
          "output_type": "stream",
          "text": [
            "  Cabin Cabin_reduced\n",
            "0   NaN             n\n",
            "1   C85             C\n",
            "2   NaN             n\n",
            "3  C123             C\n",
            "4   NaN             n\n",
            "Number of categories in the variable Cabin : 148\n",
            "Number of categories in the variable Cabin reduced : 9\n"
          ]
        }
      ],
      "source": [
        "# Let's capture the first letter of Cabin\n",
        "\n",
        "data['Cabin_reduced'] = data['Cabin'].astype(str).str[0]\n",
        "\n",
        "print(data[['Cabin', 'Cabin_reduced']].head())\n",
        "print('Number of categories in the variable Cabin : {}'.format(len(data.Cabin.unique())))\n",
        "print('Number of categories in the variable Cabin reduced : {}'.format(len(data.Cabin_reduced.unique())))"
      ]
    },
    {
      "cell_type": "code",
      "execution_count": 7,
      "metadata": {
        "colab": {
          "base_uri": "https://localhost:8080/",
          "height": 991
        },
        "id": "sYu3q4Swr3ev",
        "outputId": "0789af10-ebac-4333-ce46-bb42f68eb011"
      },
      "outputs": [
        {
          "data": {
            "text/html": [
              "<div>\n",
              "<style scoped>\n",
              "    .dataframe tbody tr th:only-of-type {\n",
              "        vertical-align: middle;\n",
              "    }\n",
              "\n",
              "    .dataframe tbody tr th {\n",
              "        vertical-align: top;\n",
              "    }\n",
              "\n",
              "    .dataframe thead th {\n",
              "        text-align: right;\n",
              "    }\n",
              "</style>\n",
              "<table border=\"1\" class=\"dataframe\">\n",
              "  <thead>\n",
              "    <tr style=\"text-align: right;\">\n",
              "      <th></th>\n",
              "      <th>PassengerId</th>\n",
              "      <th>Survived</th>\n",
              "      <th>Pclass</th>\n",
              "      <th>Name</th>\n",
              "      <th>Sex</th>\n",
              "      <th>Age</th>\n",
              "      <th>SibSp</th>\n",
              "      <th>Parch</th>\n",
              "      <th>Ticket</th>\n",
              "      <th>Fare</th>\n",
              "      <th>Cabin</th>\n",
              "      <th>Embarked</th>\n",
              "      <th>Cabin_reduced</th>\n",
              "    </tr>\n",
              "  </thead>\n",
              "  <tbody>\n",
              "    <tr>\n",
              "      <th>0</th>\n",
              "      <td>1</td>\n",
              "      <td>0</td>\n",
              "      <td>3</td>\n",
              "      <td>Braund, Mr. Owen Harris</td>\n",
              "      <td>male</td>\n",
              "      <td>22.0</td>\n",
              "      <td>1</td>\n",
              "      <td>0</td>\n",
              "      <td>A/5 21171</td>\n",
              "      <td>7.2500</td>\n",
              "      <td>NaN</td>\n",
              "      <td>S</td>\n",
              "      <td>n</td>\n",
              "    </tr>\n",
              "    <tr>\n",
              "      <th>1</th>\n",
              "      <td>2</td>\n",
              "      <td>1</td>\n",
              "      <td>1</td>\n",
              "      <td>Cumings, Mrs. John Bradley (Florence Briggs Th...</td>\n",
              "      <td>female</td>\n",
              "      <td>38.0</td>\n",
              "      <td>1</td>\n",
              "      <td>0</td>\n",
              "      <td>PC 17599</td>\n",
              "      <td>71.2833</td>\n",
              "      <td>C85</td>\n",
              "      <td>C</td>\n",
              "      <td>C</td>\n",
              "    </tr>\n",
              "    <tr>\n",
              "      <th>2</th>\n",
              "      <td>3</td>\n",
              "      <td>1</td>\n",
              "      <td>3</td>\n",
              "      <td>Heikkinen, Miss. Laina</td>\n",
              "      <td>female</td>\n",
              "      <td>26.0</td>\n",
              "      <td>0</td>\n",
              "      <td>0</td>\n",
              "      <td>STON/O2. 3101282</td>\n",
              "      <td>7.9250</td>\n",
              "      <td>NaN</td>\n",
              "      <td>S</td>\n",
              "      <td>n</td>\n",
              "    </tr>\n",
              "    <tr>\n",
              "      <th>3</th>\n",
              "      <td>4</td>\n",
              "      <td>1</td>\n",
              "      <td>1</td>\n",
              "      <td>Futrelle, Mrs. Jacques Heath (Lily May Peel)</td>\n",
              "      <td>female</td>\n",
              "      <td>35.0</td>\n",
              "      <td>1</td>\n",
              "      <td>0</td>\n",
              "      <td>113803</td>\n",
              "      <td>53.1000</td>\n",
              "      <td>C123</td>\n",
              "      <td>S</td>\n",
              "      <td>C</td>\n",
              "    </tr>\n",
              "    <tr>\n",
              "      <th>4</th>\n",
              "      <td>5</td>\n",
              "      <td>0</td>\n",
              "      <td>3</td>\n",
              "      <td>Allen, Mr. William Henry</td>\n",
              "      <td>male</td>\n",
              "      <td>35.0</td>\n",
              "      <td>0</td>\n",
              "      <td>0</td>\n",
              "      <td>373450</td>\n",
              "      <td>8.0500</td>\n",
              "      <td>NaN</td>\n",
              "      <td>S</td>\n",
              "      <td>n</td>\n",
              "    </tr>\n",
              "    <tr>\n",
              "      <th>...</th>\n",
              "      <td>...</td>\n",
              "      <td>...</td>\n",
              "      <td>...</td>\n",
              "      <td>...</td>\n",
              "      <td>...</td>\n",
              "      <td>...</td>\n",
              "      <td>...</td>\n",
              "      <td>...</td>\n",
              "      <td>...</td>\n",
              "      <td>...</td>\n",
              "      <td>...</td>\n",
              "      <td>...</td>\n",
              "      <td>...</td>\n",
              "    </tr>\n",
              "    <tr>\n",
              "      <th>886</th>\n",
              "      <td>887</td>\n",
              "      <td>0</td>\n",
              "      <td>2</td>\n",
              "      <td>Montvila, Rev. Juozas</td>\n",
              "      <td>male</td>\n",
              "      <td>27.0</td>\n",
              "      <td>0</td>\n",
              "      <td>0</td>\n",
              "      <td>211536</td>\n",
              "      <td>13.0000</td>\n",
              "      <td>NaN</td>\n",
              "      <td>S</td>\n",
              "      <td>n</td>\n",
              "    </tr>\n",
              "    <tr>\n",
              "      <th>887</th>\n",
              "      <td>888</td>\n",
              "      <td>1</td>\n",
              "      <td>1</td>\n",
              "      <td>Graham, Miss. Margaret Edith</td>\n",
              "      <td>female</td>\n",
              "      <td>19.0</td>\n",
              "      <td>0</td>\n",
              "      <td>0</td>\n",
              "      <td>112053</td>\n",
              "      <td>30.0000</td>\n",
              "      <td>B42</td>\n",
              "      <td>S</td>\n",
              "      <td>B</td>\n",
              "    </tr>\n",
              "    <tr>\n",
              "      <th>888</th>\n",
              "      <td>889</td>\n",
              "      <td>0</td>\n",
              "      <td>3</td>\n",
              "      <td>Johnston, Miss. Catherine Helen \"Carrie\"</td>\n",
              "      <td>female</td>\n",
              "      <td>NaN</td>\n",
              "      <td>1</td>\n",
              "      <td>2</td>\n",
              "      <td>W./C. 6607</td>\n",
              "      <td>23.4500</td>\n",
              "      <td>NaN</td>\n",
              "      <td>S</td>\n",
              "      <td>n</td>\n",
              "    </tr>\n",
              "    <tr>\n",
              "      <th>889</th>\n",
              "      <td>890</td>\n",
              "      <td>1</td>\n",
              "      <td>1</td>\n",
              "      <td>Behr, Mr. Karl Howell</td>\n",
              "      <td>male</td>\n",
              "      <td>26.0</td>\n",
              "      <td>0</td>\n",
              "      <td>0</td>\n",
              "      <td>111369</td>\n",
              "      <td>30.0000</td>\n",
              "      <td>C148</td>\n",
              "      <td>C</td>\n",
              "      <td>C</td>\n",
              "    </tr>\n",
              "    <tr>\n",
              "      <th>890</th>\n",
              "      <td>891</td>\n",
              "      <td>0</td>\n",
              "      <td>3</td>\n",
              "      <td>Dooley, Mr. Patrick</td>\n",
              "      <td>male</td>\n",
              "      <td>32.0</td>\n",
              "      <td>0</td>\n",
              "      <td>0</td>\n",
              "      <td>370376</td>\n",
              "      <td>7.7500</td>\n",
              "      <td>NaN</td>\n",
              "      <td>Q</td>\n",
              "      <td>n</td>\n",
              "    </tr>\n",
              "  </tbody>\n",
              "</table>\n",
              "<p>891 rows × 13 columns</p>\n",
              "</div>"
            ],
            "text/plain": [
              "     PassengerId  Survived  Pclass  \\\n",
              "0              1         0       3   \n",
              "1              2         1       1   \n",
              "2              3         1       3   \n",
              "3              4         1       1   \n",
              "4              5         0       3   \n",
              "..           ...       ...     ...   \n",
              "886          887         0       2   \n",
              "887          888         1       1   \n",
              "888          889         0       3   \n",
              "889          890         1       1   \n",
              "890          891         0       3   \n",
              "\n",
              "                                                  Name     Sex   Age  SibSp  \\\n",
              "0                              Braund, Mr. Owen Harris    male  22.0      1   \n",
              "1    Cumings, Mrs. John Bradley (Florence Briggs Th...  female  38.0      1   \n",
              "2                               Heikkinen, Miss. Laina  female  26.0      0   \n",
              "3         Futrelle, Mrs. Jacques Heath (Lily May Peel)  female  35.0      1   \n",
              "4                             Allen, Mr. William Henry    male  35.0      0   \n",
              "..                                                 ...     ...   ...    ...   \n",
              "886                              Montvila, Rev. Juozas    male  27.0      0   \n",
              "887                       Graham, Miss. Margaret Edith  female  19.0      0   \n",
              "888           Johnston, Miss. Catherine Helen \"Carrie\"  female   NaN      1   \n",
              "889                              Behr, Mr. Karl Howell    male  26.0      0   \n",
              "890                                Dooley, Mr. Patrick    male  32.0      0   \n",
              "\n",
              "     Parch            Ticket     Fare Cabin Embarked Cabin_reduced  \n",
              "0        0         A/5 21171   7.2500   NaN        S             n  \n",
              "1        0          PC 17599  71.2833   C85        C             C  \n",
              "2        0  STON/O2. 3101282   7.9250   NaN        S             n  \n",
              "3        0            113803  53.1000  C123        S             C  \n",
              "4        0            373450   8.0500   NaN        S             n  \n",
              "..     ...               ...      ...   ...      ...           ...  \n",
              "886      0            211536  13.0000   NaN        S             n  \n",
              "887      0            112053  30.0000   B42        S             B  \n",
              "888      2        W./C. 6607  23.4500   NaN        S             n  \n",
              "889      0            111369  30.0000  C148        C             C  \n",
              "890      0            370376   7.7500   NaN        Q             n  \n",
              "\n",
              "[891 rows x 13 columns]"
            ]
          },
          "execution_count": 7,
          "metadata": {},
          "output_type": "execute_result"
        }
      ],
      "source": [
        "# Our final dataset\n",
        "\n",
        "data"
      ]
    },
    {
      "cell_type": "markdown",
      "metadata": {
        "id": "o8LpnBp4NZ2M"
      },
      "source": [
        "**We reduced the number of different labels from 148 to 9.**"
      ]
    },
    {
      "cell_type": "code",
      "execution_count": 8,
      "metadata": {
        "id": "aGVNwUMHtVWU"
      },
      "outputs": [],
      "source": [
        "# Create datasets with and without reduced cabins\n",
        "\n",
        "data_without_reduced_cabin = data.drop('Cabin_reduced', axis=1)\n",
        "data_with_reduced_cabin = data.drop('Cabin', axis=1)"
      ]
    },
    {
      "cell_type": "code",
      "execution_count": 9,
      "metadata": {
        "colab": {
          "base_uri": "https://localhost:8080/",
          "height": 320
        },
        "id": "nUWIj00MuEBd",
        "outputId": "276aa02c-aead-4ed0-f379-50a1007dcfc0"
      },
      "outputs": [
        {
          "data": {
            "text/html": [
              "<div>\n",
              "<style scoped>\n",
              "    .dataframe tbody tr th:only-of-type {\n",
              "        vertical-align: middle;\n",
              "    }\n",
              "\n",
              "    .dataframe tbody tr th {\n",
              "        vertical-align: top;\n",
              "    }\n",
              "\n",
              "    .dataframe thead th {\n",
              "        text-align: right;\n",
              "    }\n",
              "</style>\n",
              "<table border=\"1\" class=\"dataframe\">\n",
              "  <thead>\n",
              "    <tr style=\"text-align: right;\">\n",
              "      <th></th>\n",
              "      <th>PassengerId</th>\n",
              "      <th>Survived</th>\n",
              "      <th>Pclass</th>\n",
              "      <th>Name</th>\n",
              "      <th>Sex</th>\n",
              "      <th>Age</th>\n",
              "      <th>SibSp</th>\n",
              "      <th>Parch</th>\n",
              "      <th>Ticket</th>\n",
              "      <th>Fare</th>\n",
              "      <th>Cabin</th>\n",
              "      <th>Embarked</th>\n",
              "    </tr>\n",
              "  </thead>\n",
              "  <tbody>\n",
              "    <tr>\n",
              "      <th>0</th>\n",
              "      <td>1</td>\n",
              "      <td>0</td>\n",
              "      <td>3</td>\n",
              "      <td>Braund, Mr. Owen Harris</td>\n",
              "      <td>male</td>\n",
              "      <td>22.0</td>\n",
              "      <td>1</td>\n",
              "      <td>0</td>\n",
              "      <td>A/5 21171</td>\n",
              "      <td>7.2500</td>\n",
              "      <td>NaN</td>\n",
              "      <td>S</td>\n",
              "    </tr>\n",
              "    <tr>\n",
              "      <th>1</th>\n",
              "      <td>2</td>\n",
              "      <td>1</td>\n",
              "      <td>1</td>\n",
              "      <td>Cumings, Mrs. John Bradley (Florence Briggs Th...</td>\n",
              "      <td>female</td>\n",
              "      <td>38.0</td>\n",
              "      <td>1</td>\n",
              "      <td>0</td>\n",
              "      <td>PC 17599</td>\n",
              "      <td>71.2833</td>\n",
              "      <td>C85</td>\n",
              "      <td>C</td>\n",
              "    </tr>\n",
              "    <tr>\n",
              "      <th>2</th>\n",
              "      <td>3</td>\n",
              "      <td>1</td>\n",
              "      <td>3</td>\n",
              "      <td>Heikkinen, Miss. Laina</td>\n",
              "      <td>female</td>\n",
              "      <td>26.0</td>\n",
              "      <td>0</td>\n",
              "      <td>0</td>\n",
              "      <td>STON/O2. 3101282</td>\n",
              "      <td>7.9250</td>\n",
              "      <td>NaN</td>\n",
              "      <td>S</td>\n",
              "    </tr>\n",
              "    <tr>\n",
              "      <th>3</th>\n",
              "      <td>4</td>\n",
              "      <td>1</td>\n",
              "      <td>1</td>\n",
              "      <td>Futrelle, Mrs. Jacques Heath (Lily May Peel)</td>\n",
              "      <td>female</td>\n",
              "      <td>35.0</td>\n",
              "      <td>1</td>\n",
              "      <td>0</td>\n",
              "      <td>113803</td>\n",
              "      <td>53.1000</td>\n",
              "      <td>C123</td>\n",
              "      <td>S</td>\n",
              "    </tr>\n",
              "    <tr>\n",
              "      <th>4</th>\n",
              "      <td>5</td>\n",
              "      <td>0</td>\n",
              "      <td>3</td>\n",
              "      <td>Allen, Mr. William Henry</td>\n",
              "      <td>male</td>\n",
              "      <td>35.0</td>\n",
              "      <td>0</td>\n",
              "      <td>0</td>\n",
              "      <td>373450</td>\n",
              "      <td>8.0500</td>\n",
              "      <td>NaN</td>\n",
              "      <td>S</td>\n",
              "    </tr>\n",
              "  </tbody>\n",
              "</table>\n",
              "</div>"
            ],
            "text/plain": [
              "   PassengerId  Survived  Pclass  \\\n",
              "0            1         0       3   \n",
              "1            2         1       1   \n",
              "2            3         1       3   \n",
              "3            4         1       1   \n",
              "4            5         0       3   \n",
              "\n",
              "                                                Name     Sex   Age  SibSp  \\\n",
              "0                            Braund, Mr. Owen Harris    male  22.0      1   \n",
              "1  Cumings, Mrs. John Bradley (Florence Briggs Th...  female  38.0      1   \n",
              "2                             Heikkinen, Miss. Laina  female  26.0      0   \n",
              "3       Futrelle, Mrs. Jacques Heath (Lily May Peel)  female  35.0      1   \n",
              "4                           Allen, Mr. William Henry    male  35.0      0   \n",
              "\n",
              "   Parch            Ticket     Fare Cabin Embarked  \n",
              "0      0         A/5 21171   7.2500   NaN        S  \n",
              "1      0          PC 17599  71.2833   C85        C  \n",
              "2      0  STON/O2. 3101282   7.9250   NaN        S  \n",
              "3      0            113803  53.1000  C123        S  \n",
              "4      0            373450   8.0500   NaN        S  "
            ]
          },
          "execution_count": 9,
          "metadata": {},
          "output_type": "execute_result"
        }
      ],
      "source": [
        "# Show data without reduced cabins\n",
        "\n",
        "data_without_reduced_cabin.head(5)"
      ]
    },
    {
      "cell_type": "code",
      "execution_count": 10,
      "metadata": {
        "colab": {
          "base_uri": "https://localhost:8080/",
          "height": 389
        },
        "id": "Zh-EEDRyuF82",
        "outputId": "4af7ae7f-bbd9-477c-eadf-237574f09c54"
      },
      "outputs": [
        {
          "data": {
            "text/html": [
              "<div>\n",
              "<style scoped>\n",
              "    .dataframe tbody tr th:only-of-type {\n",
              "        vertical-align: middle;\n",
              "    }\n",
              "\n",
              "    .dataframe tbody tr th {\n",
              "        vertical-align: top;\n",
              "    }\n",
              "\n",
              "    .dataframe thead th {\n",
              "        text-align: right;\n",
              "    }\n",
              "</style>\n",
              "<table border=\"1\" class=\"dataframe\">\n",
              "  <thead>\n",
              "    <tr style=\"text-align: right;\">\n",
              "      <th></th>\n",
              "      <th>PassengerId</th>\n",
              "      <th>Survived</th>\n",
              "      <th>Pclass</th>\n",
              "      <th>Name</th>\n",
              "      <th>Sex</th>\n",
              "      <th>Age</th>\n",
              "      <th>SibSp</th>\n",
              "      <th>Parch</th>\n",
              "      <th>Ticket</th>\n",
              "      <th>Fare</th>\n",
              "      <th>Embarked</th>\n",
              "      <th>Cabin_reduced</th>\n",
              "    </tr>\n",
              "  </thead>\n",
              "  <tbody>\n",
              "    <tr>\n",
              "      <th>0</th>\n",
              "      <td>1</td>\n",
              "      <td>0</td>\n",
              "      <td>3</td>\n",
              "      <td>Braund, Mr. Owen Harris</td>\n",
              "      <td>male</td>\n",
              "      <td>22.0</td>\n",
              "      <td>1</td>\n",
              "      <td>0</td>\n",
              "      <td>A/5 21171</td>\n",
              "      <td>7.2500</td>\n",
              "      <td>S</td>\n",
              "      <td>n</td>\n",
              "    </tr>\n",
              "    <tr>\n",
              "      <th>1</th>\n",
              "      <td>2</td>\n",
              "      <td>1</td>\n",
              "      <td>1</td>\n",
              "      <td>Cumings, Mrs. John Bradley (Florence Briggs Th...</td>\n",
              "      <td>female</td>\n",
              "      <td>38.0</td>\n",
              "      <td>1</td>\n",
              "      <td>0</td>\n",
              "      <td>PC 17599</td>\n",
              "      <td>71.2833</td>\n",
              "      <td>C</td>\n",
              "      <td>C</td>\n",
              "    </tr>\n",
              "    <tr>\n",
              "      <th>2</th>\n",
              "      <td>3</td>\n",
              "      <td>1</td>\n",
              "      <td>3</td>\n",
              "      <td>Heikkinen, Miss. Laina</td>\n",
              "      <td>female</td>\n",
              "      <td>26.0</td>\n",
              "      <td>0</td>\n",
              "      <td>0</td>\n",
              "      <td>STON/O2. 3101282</td>\n",
              "      <td>7.9250</td>\n",
              "      <td>S</td>\n",
              "      <td>n</td>\n",
              "    </tr>\n",
              "    <tr>\n",
              "      <th>3</th>\n",
              "      <td>4</td>\n",
              "      <td>1</td>\n",
              "      <td>1</td>\n",
              "      <td>Futrelle, Mrs. Jacques Heath (Lily May Peel)</td>\n",
              "      <td>female</td>\n",
              "      <td>35.0</td>\n",
              "      <td>1</td>\n",
              "      <td>0</td>\n",
              "      <td>113803</td>\n",
              "      <td>53.1000</td>\n",
              "      <td>S</td>\n",
              "      <td>C</td>\n",
              "    </tr>\n",
              "    <tr>\n",
              "      <th>4</th>\n",
              "      <td>5</td>\n",
              "      <td>0</td>\n",
              "      <td>3</td>\n",
              "      <td>Allen, Mr. William Henry</td>\n",
              "      <td>male</td>\n",
              "      <td>35.0</td>\n",
              "      <td>0</td>\n",
              "      <td>0</td>\n",
              "      <td>373450</td>\n",
              "      <td>8.0500</td>\n",
              "      <td>S</td>\n",
              "      <td>n</td>\n",
              "    </tr>\n",
              "  </tbody>\n",
              "</table>\n",
              "</div>"
            ],
            "text/plain": [
              "   PassengerId  Survived  Pclass  \\\n",
              "0            1         0       3   \n",
              "1            2         1       1   \n",
              "2            3         1       3   \n",
              "3            4         1       1   \n",
              "4            5         0       3   \n",
              "\n",
              "                                                Name     Sex   Age  SibSp  \\\n",
              "0                            Braund, Mr. Owen Harris    male  22.0      1   \n",
              "1  Cumings, Mrs. John Bradley (Florence Briggs Th...  female  38.0      1   \n",
              "2                             Heikkinen, Miss. Laina  female  26.0      0   \n",
              "3       Futrelle, Mrs. Jacques Heath (Lily May Peel)  female  35.0      1   \n",
              "4                           Allen, Mr. William Henry    male  35.0      0   \n",
              "\n",
              "   Parch            Ticket     Fare Embarked Cabin_reduced  \n",
              "0      0         A/5 21171   7.2500        S             n  \n",
              "1      0          PC 17599  71.2833        C             C  \n",
              "2      0  STON/O2. 3101282   7.9250        S             n  \n",
              "3      0            113803  53.1000        S             C  \n",
              "4      0            373450   8.0500        S             n  "
            ]
          },
          "execution_count": 10,
          "metadata": {},
          "output_type": "execute_result"
        }
      ],
      "source": [
        "# Show data with reduced cabins\n",
        "\n",
        "data_with_reduced_cabin.head(5)"
      ]
    },
    {
      "cell_type": "code",
      "execution_count": 11,
      "metadata": {
        "colab": {
          "base_uri": "https://localhost:8080/"
        },
        "id": "gkxW8GHyNYaO",
        "outputId": "0add6906-f30a-43d2-bee5-a9c22a58d14d"
      },
      "outputs": [
        {
          "data": {
            "text/plain": [
              "((623, 2), (268, 2))"
            ]
          },
          "execution_count": 11,
          "metadata": {},
          "output_type": "execute_result"
        }
      ],
      "source": [
        "# Let's separate into training and testing set in order to build machine learning models\n",
        "# For simplicity, we only use feature `cabin` and `sex`\n",
        "\n",
        "## For data without reduced cabins\n",
        "use_cols = ['Cabin', 'Sex']\n",
        "X_train_without_reduced, X_test_without_reduced, y_train_without_reduced, y_test_without_reduced = train_test_split(data[use_cols], data['Survived'], test_size=0.3, random_state=0)\n",
        "\n",
        "## For data with reduced cabins\n",
        "use_cols = ['Cabin_reduced', 'Sex']\n",
        "X_train_with_reduced, X_test_with_reduced, y_train_with_reduced, y_test_with_reduced = train_test_split(data[use_cols], data['Survived'], test_size=0.3, random_state=0)\n",
        "\n",
        "## Show shapes\n",
        "X_train_without_reduced.shape, X_test_without_reduced.shape"
      ]
    },
    {
      "cell_type": "markdown",
      "metadata": {
        "id": "D2kqHdwmNdb3"
      },
      "source": [
        "### A.3.1 - Effect 1 : Uneven Distribution of Categories in Train-Set and Test-Set"
      ]
    },
    {
      "cell_type": "markdown",
      "metadata": {
        "id": "Thg_8tM_EpLq"
      },
      "source": [
        "**When a variable is highly cardinal, often some categories land only on the training set, or only on the testing set.** If present only in the training set, they may lead to over-fitting. If present only on the testing set, the machine learning algorithm will not know how to handle them, as it has not seen them during training."
      ]
    },
    {
      "cell_type": "code",
      "execution_count": 12,
      "metadata": {
        "colab": {
          "base_uri": "https://localhost:8080/"
        },
        "id": "sLjZ0sfGNcBb",
        "outputId": "843a7fe9-1cb9-4676-aa4a-d2fddf40ccb7"
      },
      "outputs": [
        {
          "name": "stdout",
          "output_type": "stream",
          "text": [
            "Total unique_to_train_set :  100\n",
            "Total unique_to_test_set  :  28\n"
          ]
        }
      ],
      "source": [
        "# Let's find out labels that only present in the training set and labels that only present in the test set\n",
        "\n",
        "unique_to_train_set = [x for x in X_train_without_reduced['Cabin'].unique() if x not in X_test_without_reduced['Cabin'].unique()]\n",
        "unique_to_test_set = [x for x in X_test_without_reduced['Cabin'].unique() if x not in X_train_without_reduced['Cabin'].unique()]\n",
        "\n",
        "print('Total unique_to_train_set : ', len(unique_to_train_set))\n",
        "print('Total unique_to_test_set  : ', len(unique_to_test_set))"
      ]
    },
    {
      "cell_type": "markdown",
      "metadata": {
        "id": "bHqwZxyUNgYa"
      },
      "source": [
        "There are **100 Cabins only present in the training set**, and not in the testing set. Also, there are **28 Cabins that only present in the test set** but not in the train set."
      ]
    },
    {
      "cell_type": "markdown",
      "metadata": {
        "id": "_8VcIDEHNjLd"
      },
      "source": [
        "Variables with high cardinality tend to have values (i.e., categories) present in the training set, that are not present in the test set, and vice versa. This will bring problems at the time of training (due to over-fitting) and scoring of new data (how should the model deal with unseen categories?). This problem is almost overcome by reducing the cardinality of the variable."
      ]
    },
    {
      "cell_type": "code",
      "execution_count": 13,
      "metadata": {
        "colab": {
          "base_uri": "https://localhost:8080/"
        },
        "id": "BBAo5eFSNkC4",
        "outputId": "e18bb42b-8896-415a-f8dc-caa327cbff3a"
      },
      "outputs": [
        {
          "name": "stdout",
          "output_type": "stream",
          "text": [
            "Total unique_to_train_set :  1\n",
            "Total unique_to_test_set  :  0\n"
          ]
        }
      ],
      "source": [
        "# Let's find out labels that only present in the training set and only present in the test set with reduced cardinality\n",
        "\n",
        "unique_to_train_set = [\n",
        "    x for x in X_train_with_reduced['Cabin_reduced'].unique()\n",
        "    if x not in X_test_with_reduced['Cabin_reduced'].unique()\n",
        "]\n",
        "\n",
        "unique_to_test_set = [\n",
        "    x for x in X_test_with_reduced['Cabin_reduced'].unique()\n",
        "    if x not in X_train_with_reduced['Cabin_reduced'].unique()\n",
        "]\n",
        "\n",
        "print('Total unique_to_train_set : ', len(unique_to_train_set))\n",
        "print('Total unique_to_test_set  : ', len(unique_to_test_set))"
      ]
    },
    {
      "cell_type": "markdown",
      "metadata": {
        "id": "fyx7UlXQNmId"
      },
      "source": [
        "Observe how by reducing the cardinality there is now **only 1 label in the training set** that is not present in the test set. And **no label in the test set** that is not contained in the training set as well."
      ]
    },
    {
      "cell_type": "markdown",
      "metadata": {
        "id": "0Kvuuq8KNoe3"
      },
      "source": [
        "### A.3.2 - Effect 2 : Model Performance"
      ]
    },
    {
      "cell_type": "markdown",
      "metadata": {
        "id": "HTvL_D-b90Iv"
      },
      "source": [
        "In order to evaluate the effect of categorical variables in machine learning models, we will quickly replace the categories by numbers. See below."
      ]
    },
    {
      "cell_type": "code",
      "execution_count": 14,
      "metadata": {
        "id": "DLb-v_q5vutR"
      },
      "outputs": [],
      "source": [
        "# Feature encoding for data without reduced cabins\n",
        "\n",
        "from sklearn.preprocessing import OneHotEncoder\n",
        "\n",
        "ohe = OneHotEncoder(handle_unknown='ignore')\n",
        "\n",
        "X_train_without_reduced = ohe.fit_transform(X_train_without_reduced)\n",
        "X_test_without_reduced = ohe.transform(X_test_without_reduced)"
      ]
    },
    {
      "cell_type": "code",
      "execution_count": 15,
      "metadata": {
        "id": "MPQkXhnxwF9r"
      },
      "outputs": [],
      "source": [
        "# Feature encoding for data with reduced cabins\n",
        "\n",
        "from sklearn.preprocessing import OneHotEncoder\n",
        "\n",
        "ohe2 = OneHotEncoder(handle_unknown='ignore')\n",
        "\n",
        "X_train_with_reduced = ohe2.fit_transform(X_train_with_reduced)\n",
        "X_test_with_reduced = ohe2.transform(X_test_with_reduced)"
      ]
    },
    {
      "cell_type": "markdown",
      "metadata": {
        "id": "NYAGxr0-OGds"
      },
      "source": [
        "#### Random Forests"
      ]
    },
    {
      "cell_type": "code",
      "execution_count": 16,
      "metadata": {
        "colab": {
          "base_uri": "https://localhost:8080/"
        },
        "id": "Z3rZxkm0OEj3",
        "outputId": "6d15f5de-4f38-4f38-bb79-b7f4917d14c3"
      },
      "outputs": [
        {
          "name": "stdout",
          "output_type": "stream",
          "text": [
            "Train set - Random Forests roc-auc: 0.8690212793648728\n",
            "Test set  - Random Forests roc-auc: 0.788452380952381\n"
          ]
        }
      ],
      "source": [
        "# Model built on data with high cardinality for `Cabin` (without reduced cabins)\n",
        "\n",
        "## Call the model\n",
        "rf = RandomForestClassifier(n_estimators=200, random_state=39)\n",
        "\n",
        "## Train the model\n",
        "rf.fit(X_train_without_reduced, y_train_without_reduced)\n",
        "\n",
        "## Make predictions on train and test set\n",
        "pred_train = rf.predict_proba(X_train_without_reduced)\n",
        "pred_test = rf.predict_proba(X_test_without_reduced)\n",
        "\n",
        "print('Train set - Random Forests roc-auc: {}'.format(roc_auc_score(y_train_without_reduced, pred_train[:,1])))\n",
        "print('Test set  - Random Forests roc-auc: {}'.format(roc_auc_score(y_test_without_reduced, pred_test[:,1])))"
      ]
    },
    {
      "cell_type": "markdown",
      "metadata": {
        "id": "Tzfhwqe9OK-s"
      },
      "source": [
        "We observe that the performance of the Random Forests on the training set is quite superior to its performance in the test set. This indicates that the model is over-fitting, which means that it does a great job at predicting the outcome on the dataset it was trained on, but it lacks the power to generalise the prediction to unseen data."
      ]
    },
    {
      "cell_type": "code",
      "execution_count": 17,
      "metadata": {
        "colab": {
          "base_uri": "https://localhost:8080/"
        },
        "id": "FOJ1hk_IOLly",
        "outputId": "200ed3ca-bffd-4f97-b6eb-ef392bda6017"
      },
      "outputs": [
        {
          "name": "stdout",
          "output_type": "stream",
          "text": [
            "Train set - Random Forests roc-auc: 0.8199550985878832\n",
            "Test set  - Random Forests roc-auc: 0.8332142857142857\n"
          ]
        }
      ],
      "source": [
        "# Model built on data with low cardinality for `Cabin` (with reduced cabins)\n",
        "\n",
        "## Call the model\n",
        "rf = RandomForestClassifier(n_estimators=200, random_state=39)\n",
        "\n",
        "## Train the model\n",
        "rf.fit(X_train_with_reduced, y_train_with_reduced)\n",
        "\n",
        "## Make predictions on train and test set\n",
        "pred_train = rf.predict_proba(X_train_with_reduced)\n",
        "pred_test = rf.predict_proba(X_test_with_reduced)\n",
        "\n",
        "print('Train set - Random Forests roc-auc: {}'.format(roc_auc_score(y_train_with_reduced, pred_train[:,1])))\n",
        "print('Test set  - Random Forests roc-auc: {}'.format(roc_auc_score(y_test_with_reduced, pred_test[:,1])))"
      ]
    },
    {
      "cell_type": "markdown",
      "metadata": {
        "id": "ciJD35reONol"
      },
      "source": [
        "We can see now that the Random Forests no longer overfit to the training set. In addition, the model is much better at generalising the predictions.\n",
        "\n",
        "**Given a same model, with identical hyperparameters, high cardinality may cause the model to overfit**."
      ]
    },
    {
      "cell_type": "markdown",
      "metadata": {
        "id": "x-IGcQW4OUmW"
      },
      "source": [
        "#### KNN"
      ]
    },
    {
      "cell_type": "code",
      "execution_count": 18,
      "metadata": {
        "colab": {
          "base_uri": "https://localhost:8080/"
        },
        "id": "zFCJYE3ROV9X",
        "outputId": "279cd2d8-71a8-403c-a122-da5b40f8e0c9"
      },
      "outputs": [
        {
          "name": "stdout",
          "output_type": "stream",
          "text": [
            "Train set - Logistic regression roc-auc: 0.8199659443396021\n",
            "Test set  - Logistic regression roc-auc: 0.8116666666666666\n"
          ]
        }
      ],
      "source": [
        "# Model built on data with high cardinality for `Cabin` (without reduced cabins)\n",
        "\n",
        "## Call the model\n",
        "knn = KNeighborsClassifier(n_neighbors=7)\n",
        "\n",
        "## Train the model\n",
        "knn.fit(X_train_without_reduced, y_train_without_reduced)\n",
        "\n",
        "## Make predictions on train and test set\n",
        "pred_train = knn.predict_proba(X_train_without_reduced)\n",
        "pred_test = knn.predict_proba(X_test_without_reduced)\n",
        "\n",
        "print('Train set - Logistic regression roc-auc: {}'.format(roc_auc_score(y_train_without_reduced, pred_train[:,1])))\n",
        "print('Test set  - Logistic regression roc-auc: {}'.format(roc_auc_score(y_test_without_reduced, pred_test[:,1])))"
      ]
    },
    {
      "cell_type": "code",
      "execution_count": 19,
      "metadata": {
        "colab": {
          "base_uri": "https://localhost:8080/"
        },
        "id": "RLO5BXStOXeC",
        "outputId": "60af38f8-8675-49aa-8b87-b0f830ff997e"
      },
      "outputs": [
        {
          "name": "stdout",
          "output_type": "stream",
          "text": [
            "Train set - Logistic regression roc-auc: 0.8143966508318692\n",
            "Test set  - Logistic regression roc-auc: 0.8257142857142856\n"
          ]
        }
      ],
      "source": [
        "# Model built on data with low cardinality for `Cabin` (with reduced cabins)\n",
        "\n",
        "# Call the model\n",
        "knn = KNeighborsClassifier(n_neighbors=7)\n",
        "\n",
        "# Train the model\n",
        "knn.fit(X_train_with_reduced, y_train_with_reduced)\n",
        "\n",
        "# Make predictions on train and test set\n",
        "pred_train = knn.predict_proba(X_train_with_reduced)\n",
        "pred_test = knn.predict_proba(X_test_with_reduced)\n",
        "\n",
        "print('Train set - Logistic regression roc-auc: {}'.format(roc_auc_score(y_train_with_reduced, pred_train[:,1])))\n",
        "print('Test set  - Logistic regression roc-auc: {}'.format(roc_auc_score(y_test_with_reduced, pred_test[:,1])))"
      ]
    },
    {
      "cell_type": "markdown",
      "metadata": {
        "id": "nHHrpqJX0t0P"
      },
      "source": [
        "Same with Random Forest, in KNN, the model is much better at generalising the predictions."
      ]
    },
    {
      "cell_type": "markdown",
      "metadata": {
        "id": "aiK9_Pchzs3k"
      },
      "source": [
        "A.3.4 - Conclusion"
      ]
    },
    {
      "cell_type": "markdown",
      "metadata": {
        "id": "MO6fYBpazvxC"
      },
      "source": [
        "| Algorithnm | Train-Set (without reduced cabin) | Test-Set (without reduced cabin) | Train-Set (with reduced cabin) | Test-Set (with reduced cabin)\n",
        "| --- | --- | --- | --- | --- |\n",
        "| Random Forest | 0.869 | 0.788 | 0.820 | 0.833|\n",
        "| KNN | 0.827 | 0.780 | 0.790 | 0.785 |\n"
      ]
    },
    {
      "cell_type": "markdown",
      "metadata": {
        "id": "B6GBPnhdOY8k"
      },
      "source": [
        "We can draw the same conclusion : **reducing the cardinality improves the performance and generalisation of the algorithm**."
      ]
    },
    {
      "cell_type": "markdown",
      "metadata": {
        "id": "az08qa37dEYx"
      },
      "source": [
        "# B. Outliers Handling"
      ]
    },
    {
      "cell_type": "markdown",
      "metadata": {
        "id": "33gFl7-sMUME"
      },
      "source": [
        "## B.1 - Load Dataset"
      ]
    },
    {
      "cell_type": "code",
      "execution_count": 20,
      "metadata": {
        "id": "HnKs2y8sQXOd"
      },
      "outputs": [],
      "source": [
        "# Import libraries\n",
        "\n",
        "import numpy as np\n",
        "import pandas as pd\n",
        "import seaborn as sns\n",
        "import matplotlib.pyplot as plt\n",
        "\n",
        "from sklearn.neighbors import KNeighborsClassifier\n",
        "from sklearn.ensemble import RandomForestClassifier\n",
        "\n",
        "from sklearn.metrics import roc_auc_score\n",
        "from sklearn.model_selection import train_test_split"
      ]
    },
    {
      "cell_type": "markdown",
      "metadata": {
        "id": "9mZDFTg9GC1b"
      },
      "source": [
        "For this experiment, we will use [Titanic](https://raw.githubusercontent.com/FTDS-learning-materials/phase-1/master/w1/P1W1D3AM%20-%20Feature%20Engineering%20-%20Part%201%20-%20Titanic.csv) dataset."
      ]
    },
    {
      "cell_type": "code",
      "execution_count": 21,
      "metadata": {
        "colab": {
          "base_uri": "https://localhost:8080/",
          "height": 572
        },
        "id": "xiGh4WZAF9o4",
        "outputId": "90448cf5-9321-4cd6-b6c2-b148983d8fa6"
      },
      "outputs": [
        {
          "data": {
            "text/html": [
              "<div>\n",
              "<style scoped>\n",
              "    .dataframe tbody tr th:only-of-type {\n",
              "        vertical-align: middle;\n",
              "    }\n",
              "\n",
              "    .dataframe tbody tr th {\n",
              "        vertical-align: top;\n",
              "    }\n",
              "\n",
              "    .dataframe thead th {\n",
              "        text-align: right;\n",
              "    }\n",
              "</style>\n",
              "<table border=\"1\" class=\"dataframe\">\n",
              "  <thead>\n",
              "    <tr style=\"text-align: right;\">\n",
              "      <th></th>\n",
              "      <th>PassengerId</th>\n",
              "      <th>Survived</th>\n",
              "      <th>Pclass</th>\n",
              "      <th>Name</th>\n",
              "      <th>Sex</th>\n",
              "      <th>Age</th>\n",
              "      <th>SibSp</th>\n",
              "      <th>Parch</th>\n",
              "      <th>Ticket</th>\n",
              "      <th>Fare</th>\n",
              "      <th>Cabin</th>\n",
              "      <th>Embarked</th>\n",
              "    </tr>\n",
              "  </thead>\n",
              "  <tbody>\n",
              "    <tr>\n",
              "      <th>0</th>\n",
              "      <td>1</td>\n",
              "      <td>0</td>\n",
              "      <td>3</td>\n",
              "      <td>Braund, Mr. Owen Harris</td>\n",
              "      <td>male</td>\n",
              "      <td>22.0</td>\n",
              "      <td>1</td>\n",
              "      <td>0</td>\n",
              "      <td>A/5 21171</td>\n",
              "      <td>7.2500</td>\n",
              "      <td>NaN</td>\n",
              "      <td>S</td>\n",
              "    </tr>\n",
              "    <tr>\n",
              "      <th>1</th>\n",
              "      <td>2</td>\n",
              "      <td>1</td>\n",
              "      <td>1</td>\n",
              "      <td>Cumings, Mrs. John Bradley (Florence Briggs Th...</td>\n",
              "      <td>female</td>\n",
              "      <td>38.0</td>\n",
              "      <td>1</td>\n",
              "      <td>0</td>\n",
              "      <td>PC 17599</td>\n",
              "      <td>71.2833</td>\n",
              "      <td>C85</td>\n",
              "      <td>C</td>\n",
              "    </tr>\n",
              "    <tr>\n",
              "      <th>2</th>\n",
              "      <td>3</td>\n",
              "      <td>1</td>\n",
              "      <td>3</td>\n",
              "      <td>Heikkinen, Miss. Laina</td>\n",
              "      <td>female</td>\n",
              "      <td>26.0</td>\n",
              "      <td>0</td>\n",
              "      <td>0</td>\n",
              "      <td>STON/O2. 3101282</td>\n",
              "      <td>7.9250</td>\n",
              "      <td>NaN</td>\n",
              "      <td>S</td>\n",
              "    </tr>\n",
              "    <tr>\n",
              "      <th>3</th>\n",
              "      <td>4</td>\n",
              "      <td>1</td>\n",
              "      <td>1</td>\n",
              "      <td>Futrelle, Mrs. Jacques Heath (Lily May Peel)</td>\n",
              "      <td>female</td>\n",
              "      <td>35.0</td>\n",
              "      <td>1</td>\n",
              "      <td>0</td>\n",
              "      <td>113803</td>\n",
              "      <td>53.1000</td>\n",
              "      <td>C123</td>\n",
              "      <td>S</td>\n",
              "    </tr>\n",
              "    <tr>\n",
              "      <th>4</th>\n",
              "      <td>5</td>\n",
              "      <td>0</td>\n",
              "      <td>3</td>\n",
              "      <td>Allen, Mr. William Henry</td>\n",
              "      <td>male</td>\n",
              "      <td>35.0</td>\n",
              "      <td>0</td>\n",
              "      <td>0</td>\n",
              "      <td>373450</td>\n",
              "      <td>8.0500</td>\n",
              "      <td>NaN</td>\n",
              "      <td>S</td>\n",
              "    </tr>\n",
              "    <tr>\n",
              "      <th>...</th>\n",
              "      <td>...</td>\n",
              "      <td>...</td>\n",
              "      <td>...</td>\n",
              "      <td>...</td>\n",
              "      <td>...</td>\n",
              "      <td>...</td>\n",
              "      <td>...</td>\n",
              "      <td>...</td>\n",
              "      <td>...</td>\n",
              "      <td>...</td>\n",
              "      <td>...</td>\n",
              "      <td>...</td>\n",
              "    </tr>\n",
              "    <tr>\n",
              "      <th>886</th>\n",
              "      <td>887</td>\n",
              "      <td>0</td>\n",
              "      <td>2</td>\n",
              "      <td>Montvila, Rev. Juozas</td>\n",
              "      <td>male</td>\n",
              "      <td>27.0</td>\n",
              "      <td>0</td>\n",
              "      <td>0</td>\n",
              "      <td>211536</td>\n",
              "      <td>13.0000</td>\n",
              "      <td>NaN</td>\n",
              "      <td>S</td>\n",
              "    </tr>\n",
              "    <tr>\n",
              "      <th>887</th>\n",
              "      <td>888</td>\n",
              "      <td>1</td>\n",
              "      <td>1</td>\n",
              "      <td>Graham, Miss. Margaret Edith</td>\n",
              "      <td>female</td>\n",
              "      <td>19.0</td>\n",
              "      <td>0</td>\n",
              "      <td>0</td>\n",
              "      <td>112053</td>\n",
              "      <td>30.0000</td>\n",
              "      <td>B42</td>\n",
              "      <td>S</td>\n",
              "    </tr>\n",
              "    <tr>\n",
              "      <th>888</th>\n",
              "      <td>889</td>\n",
              "      <td>0</td>\n",
              "      <td>3</td>\n",
              "      <td>Johnston, Miss. Catherine Helen \"Carrie\"</td>\n",
              "      <td>female</td>\n",
              "      <td>NaN</td>\n",
              "      <td>1</td>\n",
              "      <td>2</td>\n",
              "      <td>W./C. 6607</td>\n",
              "      <td>23.4500</td>\n",
              "      <td>NaN</td>\n",
              "      <td>S</td>\n",
              "    </tr>\n",
              "    <tr>\n",
              "      <th>889</th>\n",
              "      <td>890</td>\n",
              "      <td>1</td>\n",
              "      <td>1</td>\n",
              "      <td>Behr, Mr. Karl Howell</td>\n",
              "      <td>male</td>\n",
              "      <td>26.0</td>\n",
              "      <td>0</td>\n",
              "      <td>0</td>\n",
              "      <td>111369</td>\n",
              "      <td>30.0000</td>\n",
              "      <td>C148</td>\n",
              "      <td>C</td>\n",
              "    </tr>\n",
              "    <tr>\n",
              "      <th>890</th>\n",
              "      <td>891</td>\n",
              "      <td>0</td>\n",
              "      <td>3</td>\n",
              "      <td>Dooley, Mr. Patrick</td>\n",
              "      <td>male</td>\n",
              "      <td>32.0</td>\n",
              "      <td>0</td>\n",
              "      <td>0</td>\n",
              "      <td>370376</td>\n",
              "      <td>7.7500</td>\n",
              "      <td>NaN</td>\n",
              "      <td>Q</td>\n",
              "    </tr>\n",
              "  </tbody>\n",
              "</table>\n",
              "<p>891 rows × 12 columns</p>\n",
              "</div>"
            ],
            "text/plain": [
              "     PassengerId  Survived  Pclass  \\\n",
              "0              1         0       3   \n",
              "1              2         1       1   \n",
              "2              3         1       3   \n",
              "3              4         1       1   \n",
              "4              5         0       3   \n",
              "..           ...       ...     ...   \n",
              "886          887         0       2   \n",
              "887          888         1       1   \n",
              "888          889         0       3   \n",
              "889          890         1       1   \n",
              "890          891         0       3   \n",
              "\n",
              "                                                  Name     Sex   Age  SibSp  \\\n",
              "0                              Braund, Mr. Owen Harris    male  22.0      1   \n",
              "1    Cumings, Mrs. John Bradley (Florence Briggs Th...  female  38.0      1   \n",
              "2                               Heikkinen, Miss. Laina  female  26.0      0   \n",
              "3         Futrelle, Mrs. Jacques Heath (Lily May Peel)  female  35.0      1   \n",
              "4                             Allen, Mr. William Henry    male  35.0      0   \n",
              "..                                                 ...     ...   ...    ...   \n",
              "886                              Montvila, Rev. Juozas    male  27.0      0   \n",
              "887                       Graham, Miss. Margaret Edith  female  19.0      0   \n",
              "888           Johnston, Miss. Catherine Helen \"Carrie\"  female   NaN      1   \n",
              "889                              Behr, Mr. Karl Howell    male  26.0      0   \n",
              "890                                Dooley, Mr. Patrick    male  32.0      0   \n",
              "\n",
              "     Parch            Ticket     Fare Cabin Embarked  \n",
              "0        0         A/5 21171   7.2500   NaN        S  \n",
              "1        0          PC 17599  71.2833   C85        C  \n",
              "2        0  STON/O2. 3101282   7.9250   NaN        S  \n",
              "3        0            113803  53.1000  C123        S  \n",
              "4        0            373450   8.0500   NaN        S  \n",
              "..     ...               ...      ...   ...      ...  \n",
              "886      0            211536  13.0000   NaN        S  \n",
              "887      0            112053  30.0000   B42        S  \n",
              "888      2        W./C. 6607  23.4500   NaN        S  \n",
              "889      0            111369  30.0000  C148        C  \n",
              "890      0            370376   7.7500   NaN        Q  \n",
              "\n",
              "[891 rows x 12 columns]"
            ]
          },
          "execution_count": 21,
          "metadata": {},
          "output_type": "execute_result"
        }
      ],
      "source": [
        "# Load dataset\n",
        "\n",
        "titanic_dataset = pd.read_csv('https://raw.githubusercontent.com/FTDS-learning-materials/phase-1/master/w1/P1W1D3AM%20-%20Feature%20Engineering%20-%20Part%201%20-%20Titanic.csv')\n",
        "titanic_dataset"
      ]
    },
    {
      "cell_type": "code",
      "execution_count": 22,
      "metadata": {
        "colab": {
          "base_uri": "https://localhost:8080/"
        },
        "id": "sdCnVQsQGKMU",
        "outputId": "5cb20e3d-6d2b-42ad-9fc2-cad843d51a5f"
      },
      "outputs": [
        {
          "name": "stdout",
          "output_type": "stream",
          "text": [
            "<class 'pandas.core.frame.DataFrame'>\n",
            "RangeIndex: 891 entries, 0 to 890\n",
            "Data columns (total 12 columns):\n",
            " #   Column       Non-Null Count  Dtype  \n",
            "---  ------       --------------  -----  \n",
            " 0   PassengerId  891 non-null    int64  \n",
            " 1   Survived     891 non-null    int64  \n",
            " 2   Pclass       891 non-null    int64  \n",
            " 3   Name         891 non-null    object \n",
            " 4   Sex          891 non-null    object \n",
            " 5   Age          714 non-null    float64\n",
            " 6   SibSp        891 non-null    int64  \n",
            " 7   Parch        891 non-null    int64  \n",
            " 8   Ticket       891 non-null    object \n",
            " 9   Fare         891 non-null    float64\n",
            " 10  Cabin        204 non-null    object \n",
            " 11  Embarked     889 non-null    object \n",
            "dtypes: float64(2), int64(5), object(5)\n",
            "memory usage: 83.7+ KB\n"
          ]
        }
      ],
      "source": [
        "# Check info of the dataset\n",
        "\n",
        "titanic_dataset.info()"
      ]
    },
    {
      "cell_type": "markdown",
      "metadata": {
        "id": "bxn5SLeIGUjF"
      },
      "source": [
        "Outlier only exist in numeric column. For this experiment, we will use column `Age` and `Fare`"
      ]
    },
    {
      "cell_type": "code",
      "execution_count": 23,
      "metadata": {
        "colab": {
          "base_uri": "https://localhost:8080/",
          "height": 461
        },
        "id": "rwY_pxgBG3zZ",
        "outputId": "636b982e-0ff1-4a04-af93-c788897bed82"
      },
      "outputs": [
        {
          "name": "stdout",
          "output_type": "stream",
          "text": [
            "Size Train Set :  (623, 2)\n",
            "Size Test Set  :  (268, 2)\n"
          ]
        },
        {
          "data": {
            "text/html": [
              "<div>\n",
              "<style scoped>\n",
              "    .dataframe tbody tr th:only-of-type {\n",
              "        vertical-align: middle;\n",
              "    }\n",
              "\n",
              "    .dataframe tbody tr th {\n",
              "        vertical-align: top;\n",
              "    }\n",
              "\n",
              "    .dataframe thead th {\n",
              "        text-align: right;\n",
              "    }\n",
              "</style>\n",
              "<table border=\"1\" class=\"dataframe\">\n",
              "  <thead>\n",
              "    <tr style=\"text-align: right;\">\n",
              "      <th></th>\n",
              "      <th>Age</th>\n",
              "      <th>Fare</th>\n",
              "    </tr>\n",
              "  </thead>\n",
              "  <tbody>\n",
              "    <tr>\n",
              "      <th>857</th>\n",
              "      <td>51.0</td>\n",
              "      <td>26.5500</td>\n",
              "    </tr>\n",
              "    <tr>\n",
              "      <th>52</th>\n",
              "      <td>49.0</td>\n",
              "      <td>76.7292</td>\n",
              "    </tr>\n",
              "    <tr>\n",
              "      <th>386</th>\n",
              "      <td>1.0</td>\n",
              "      <td>46.9000</td>\n",
              "    </tr>\n",
              "    <tr>\n",
              "      <th>124</th>\n",
              "      <td>54.0</td>\n",
              "      <td>77.2875</td>\n",
              "    </tr>\n",
              "    <tr>\n",
              "      <th>578</th>\n",
              "      <td>NaN</td>\n",
              "      <td>14.4583</td>\n",
              "    </tr>\n",
              "    <tr>\n",
              "      <th>...</th>\n",
              "      <td>...</td>\n",
              "      <td>...</td>\n",
              "    </tr>\n",
              "    <tr>\n",
              "      <th>835</th>\n",
              "      <td>39.0</td>\n",
              "      <td>83.1583</td>\n",
              "    </tr>\n",
              "    <tr>\n",
              "      <th>192</th>\n",
              "      <td>19.0</td>\n",
              "      <td>7.8542</td>\n",
              "    </tr>\n",
              "    <tr>\n",
              "      <th>629</th>\n",
              "      <td>NaN</td>\n",
              "      <td>7.7333</td>\n",
              "    </tr>\n",
              "    <tr>\n",
              "      <th>559</th>\n",
              "      <td>36.0</td>\n",
              "      <td>17.4000</td>\n",
              "    </tr>\n",
              "    <tr>\n",
              "      <th>684</th>\n",
              "      <td>60.0</td>\n",
              "      <td>39.0000</td>\n",
              "    </tr>\n",
              "  </tbody>\n",
              "</table>\n",
              "<p>623 rows × 2 columns</p>\n",
              "</div>"
            ],
            "text/plain": [
              "      Age     Fare\n",
              "857  51.0  26.5500\n",
              "52   49.0  76.7292\n",
              "386   1.0  46.9000\n",
              "124  54.0  77.2875\n",
              "578   NaN  14.4583\n",
              "..    ...      ...\n",
              "835  39.0  83.1583\n",
              "192  19.0   7.8542\n",
              "629   NaN   7.7333\n",
              "559  36.0  17.4000\n",
              "684  60.0  39.0000\n",
              "\n",
              "[623 rows x 2 columns]"
            ]
          },
          "execution_count": 23,
          "metadata": {},
          "output_type": "execute_result"
        }
      ],
      "source": [
        "# Split dataset\n",
        "\n",
        "X_train, X_test, y_train, y_test = train_test_split(titanic_dataset[['Age', 'Fare']], titanic_dataset['Survived'], test_size=0.3, random_state=0)\n",
        "\n",
        "print('Size Train Set : ', X_train.shape)\n",
        "print('Size Test Set  : ', X_test.shape)\n",
        "X_train"
      ]
    },
    {
      "cell_type": "markdown",
      "metadata": {
        "id": "d6Pk1N9oIzU0"
      },
      "source": [
        "In order to decide which method to utilise to detect outliers, we first need to know the distribution of the variable :\n",
        "* In normally distributed variables : **Outliers = mean ± 3*std**.\n",
        "* In skewed distributed variables : **outliers is above upper boundary and less than lower boundary**. Find the boundary with the formula :\n",
        "  - Upper boundary = Q3 + (IQR * 1.5)\n",
        "  - Lower boundary = Q1 - (IQR * 1.5)\n",
        "  - while IQR = Q3 - Q1"
      ]
    },
    {
      "cell_type": "markdown",
      "metadata": {
        "id": "5aAPnua3KNzs"
      },
      "source": [
        "We can also use boxplots to directly visualise the outliers. Boxplots are a standard way of displaying the distribution of a variable utilising the first quartile, the median, the third quartile and the whiskers. **Remember, the outliers shows from boxplot is valid for skewed distribution only.**\n",
        "\n",
        "Looking at a boxplot, you can easily identify:\n",
        "\n",
        "- The median, indicated by the line within the box.\n",
        "- The inter-quantile range (IQR), the box itself.\n",
        "- The quantiles, 25th (Q1) is the lower and 75th (Q3) the upper end of the box.\n",
        "- The wiskers, which extend to:\n",
        "  - top whisker: Q3 + 1.5 x IQR\n",
        "  - bottom whisker: Q1 -1.5 x IQR"
      ]
    },
    {
      "cell_type": "code",
      "execution_count": 24,
      "metadata": {
        "colab": {
          "base_uri": "https://localhost:8080/"
        },
        "id": "9KNi3t5uKiR7",
        "outputId": "931f6ada-f966-4fba-f4f8-0e74e8d6d816"
      },
      "outputs": [
        {
          "name": "stdout",
          "output_type": "stream",
          "text": [
            "Distribution of column `Age`  :  0.3361317253050765\n",
            "Distribution of column `Fare` :  4.841641117637748\n"
          ]
        }
      ],
      "source": [
        "# Let's check whether a distribution is normal or not\n",
        "\n",
        "print('Distribution of column `Age`  : ', X_train['Age'].skew())\n",
        "print('Distribution of column `Fare` : ', X_train['Fare'].skew())"
      ]
    },
    {
      "cell_type": "markdown",
      "metadata": {
        "id": "hOePR6T9LEJA"
      },
      "source": [
        "The normal distribution will have a skewness ranging from `-0.5` to `0.5`. Any distribution outside this range is considered a skewed distribution.\n",
        "\n",
        "From the result above, we can conclude :\n",
        "* Column `Age` : normal distribution\n",
        "* Column `Fare` : skewed distribution"
      ]
    },
    {
      "cell_type": "code",
      "execution_count": 25,
      "metadata": {
        "id": "1GCwmRJhLtTc"
      },
      "outputs": [],
      "source": [
        "# Function to create histogram and boxplot.\n",
        "# This functions takes a dataframe (df) and the variable of interest as arguments.\n",
        "\n",
        "def diagnostic_plots(df, variable):\n",
        "    # Define figure size\n",
        "    plt.figure(figsize=(16, 4))\n",
        "\n",
        "    # Histogram\n",
        "    plt.subplot(1, 2, 1)\n",
        "    sns.histplot(df[variable], bins=30)\n",
        "    plt.title('Histogram')\n",
        "\n",
        "    # Boxplot\n",
        "    plt.subplot(1, 2, 2)\n",
        "    sns.boxplot(y=df[variable])\n",
        "    plt.title('Boxplot')\n",
        "\n",
        "    plt.show()"
      ]
    },
    {
      "cell_type": "code",
      "execution_count": 26,
      "metadata": {
        "colab": {
          "base_uri": "https://localhost:8080/",
          "height": 309
        },
        "id": "URL4J5kSLzoa",
        "outputId": "f1acc97d-60f0-4cc1-e32e-99146a8c0e1b"
      },
      "outputs": [
        {
          "data": {
            "image/png": "[encoded data removed]",
            "text/plain": [
              "<Figure size 1600x400 with 2 Axes>"
            ]
          },
          "metadata": {},
          "output_type": "display_data"
        }
      ],
      "source": [
        "# Let's visualize skewed distribution using boxplot\n",
        "\n",
        "diagnostic_plots(X_train, 'Fare')"
      ]
    },
    {
      "cell_type": "markdown",
      "metadata": {
        "id": "bxaXdWJFMBX0"
      },
      "source": [
        "`Fare` is very skewed and shows some unusual values at the right end of its distribution."
      ]
    },
    {
      "cell_type": "markdown",
      "metadata": {
        "id": "PXh_dO-OMZRg"
      },
      "source": [
        "## B.2 - Detect the Outliers"
      ]
    },
    {
      "cell_type": "markdown",
      "metadata": {
        "id": "Ltb0ETNPMeDH"
      },
      "source": [
        "### B.2.1 - Normal Distribution"
      ]
    },
    {
      "cell_type": "code",
      "execution_count": 27,
      "metadata": {
        "id": "A4lnjR0lLzi8"
      },
      "outputs": [],
      "source": [
        "# Function to find upper and lower boundaries for normally distributed variables\n",
        "# Calculate the boundaries outside which sit the outliers for a Gaussian distribution\n",
        "\n",
        "def find_normal_boundaries(df, variable):\n",
        "    upper_boundary = df[variable].mean() + 3 * df[variable].std()\n",
        "    lower_boundary = df[variable].mean() - 3 * df[variable].std()\n",
        "\n",
        "    return upper_boundary, lower_boundary"
      ]
    },
    {
      "cell_type": "code",
      "execution_count": 28,
      "metadata": {
        "colab": {
          "base_uri": "https://localhost:8080/"
        },
        "id": "rvGP5vCUMnqO",
        "outputId": "2501a48b-e9c5-4957-f7b3-715cde27eca2"
      },
      "outputs": [
        {
          "data": {
            "text/plain": [
              "(np.float64(73.43632005918369), np.float64(-13.605642768347035))"
            ]
          },
          "execution_count": 28,
          "metadata": {},
          "output_type": "execute_result"
        }
      ],
      "source": [
        "# Calculate boundaries for `Age` in the titanic\n",
        "\n",
        "upper_boundary_age, lower_boundary_age = find_normal_boundaries(X_train, 'Age')\n",
        "upper_boundary_age, lower_boundary_age"
      ]
    },
    {
      "cell_type": "markdown",
      "metadata": {
        "id": "Sf5ZTx7CLzHD"
      },
      "source": [
        "The upper boundary is **73 years**, which means that passengers older than 73 were very few, if any, in the titanic. The lower boundary is negative. Because negative age does not exist, it only makes sense to look for outliers utilising the upper boundary."
      ]
    },
    {
      "cell_type": "code",
      "execution_count": 29,
      "metadata": {
        "colab": {
          "base_uri": "https://localhost:8080/"
        },
        "id": "XIMWniv9MtcD",
        "outputId": "cabcf1ca-bbc0-46ec-e63d-902948bae9fb"
      },
      "outputs": [
        {
          "name": "stdout",
          "output_type": "stream",
          "text": [
            "Total passengers         : 623\n",
            "Passengers older than 73 : 2\n",
            "\n",
            "% of passengers older than 73 : 0.32102728731942215\n"
          ]
        }
      ],
      "source": [
        "# Lets look at the number and percentage of outliers\n",
        "\n",
        "print('Total passengers         : {}'.format(len(X_train)))\n",
        "print('Passengers older than 73 : {}'.format(len(X_train[X_train['Age'] > upper_boundary_age])))\n",
        "print('')\n",
        "print('% of passengers older than 73 : {}'.format(len(X_train[X_train['Age'] > upper_boundary_age]) / len(X_train) * 100))"
      ]
    },
    {
      "cell_type": "markdown",
      "metadata": {
        "id": "KL7PixWKMytm"
      },
      "source": [
        "There were 2 passengers older than 73 on board of the titanic, which could be considered outliers, as the majority of the population where much younger."
      ]
    },
    {
      "cell_type": "markdown",
      "metadata": {
        "id": "CkKw8YLhNCSm"
      },
      "source": [
        "### B.2.2 - Skewed Distribution"
      ]
    },
    {
      "cell_type": "code",
      "execution_count": 30,
      "metadata": {
        "id": "KF83YJcQNHWb"
      },
      "outputs": [],
      "source": [
        "# Function to find upper and lower boundaries for skewed distributed variables\n",
        "# Let's calculate the boundaries outside which sit the outliers for skewed distributions\n",
        "# Distance passed as an argument, gives us the option to estimate 1.5 times or 3 times the IQR to calculate the boundaries.\n",
        "\n",
        "def find_skewed_boundaries(df, variable, distance):\n",
        "    IQR = df[variable].quantile(0.75) - df[variable].quantile(0.25)\n",
        "\n",
        "    lower_boundary = df[variable].quantile(0.25) - (IQR * distance)\n",
        "    upper_boundary = df[variable].quantile(0.75) + (IQR * distance)\n",
        "\n",
        "    return upper_boundary, lower_boundary"
      ]
    },
    {
      "cell_type": "code",
      "execution_count": 31,
      "metadata": {
        "colab": {
          "base_uri": "https://localhost:8080/"
        },
        "id": "wapUgBCCNMV9",
        "outputId": "34942022-320f-48c4-bce9-7f9aca4a121b"
      },
      "outputs": [
        {
          "data": {
            "text/plain": [
              "(np.float64(101.77499999999999), np.float64(-62.46249999999999))"
            ]
          },
          "execution_count": 31,
          "metadata": {},
          "output_type": "execute_result"
        }
      ],
      "source": [
        "# Identify outliers in `Fare` in the titanic dataset. Lets look again for extreme values using IQR * 3\n",
        "\n",
        "upper_boundary_fare, lower_boundary_fare = find_skewed_boundaries(X_train, 'Fare', 3)\n",
        "upper_boundary_fare, lower_boundary_fare"
      ]
    },
    {
      "cell_type": "code",
      "execution_count": 32,
      "metadata": {
        "colab": {
          "base_uri": "https://localhost:8080/"
        },
        "id": "KO8DjM_pNS0p",
        "outputId": "47f264cc-3dd9-44db-e6ac-40a50df55dfe"
      },
      "outputs": [
        {
          "name": "stdout",
          "output_type": "stream",
          "text": [
            "Total passengers : 623\n",
            "Passengers who paid more than 117   : 36\n",
            "\n",
            "% passengers who paid more than 117 : 5.778491171749598\n"
          ]
        }
      ],
      "source": [
        "# Lets look at the number and percentage of passengers who paid extremely high Fares\n",
        "\n",
        "print('Total passengers : {}'.format(len(X_train)))\n",
        "print('Passengers who paid more than 117   : {}'.format(len(X_train[X_train['Fare'] > upper_boundary_fare])))\n",
        "print('')\n",
        "print('% passengers who paid more than 117 : {}'.format(len(X_train[X_train['Fare'] > upper_boundary_fare])/len(X_train) * 100))"
      ]
    },
    {
      "cell_type": "markdown",
      "metadata": {
        "id": "M2OxnHK7Nawc"
      },
      "source": [
        "For `Fare`, as well as for all the other variables in this notebook which show a tail to the right, the lower boundary is negative. So we will use the upper boundary to determine the outliers. We observe that 5.7% of the values of the dataset fall above the boundary."
      ]
    },
    {
      "cell_type": "markdown",
      "metadata": {
        "id": "Lwn_2uauNjgi"
      },
      "source": [
        "## B.3 - Handling the Outliers"
      ]
    },
    {
      "cell_type": "markdown",
      "metadata": {
        "id": "07BVDFy8NuzW"
      },
      "source": [
        "There are two popular methods to handling the outliers :\n",
        "\n",
        "1. Trimming or truncation\n",
        "   - Trimming, also known as truncation, involves removing the outliers from the dataset.\n",
        "   - Advantage : quick\n",
        "   - Limitations :\n",
        "     - Outliers for one variable could contain useful information in the other variables\n",
        "     - If there are outliers across many variables, we could remove a big chunk of dataset\n",
        "   - **IMPORTANT NOTES** : if you are using this technique, outliers should be detected AND **removed ONLY** from the training set, and NOT from the test set. So we should first divide our data set into train and tests, and remove outliers in the train set, but keep those in the test set, and measure how well our model is doing.\n",
        "\n",
        "2. Censoring or capping\n",
        "   - Censoring or capping means capping the maximum and/or minimum of a distribution at an arbitrary value.\n",
        "   - On other words, values bigger or smaller than the arbitrarily determined ones are censored.\n",
        "   - Capping can be done at both tails, or just one of the tails, depending on the variable and the user.\n",
        "   - Advantage : does not remove data\n",
        "   - Limitations :\n",
        "     - Distorts the distributions of the variables\n",
        "     - Distorts the relationships among variables\n",
        "   - **IMPORTANT NOTES** : if you are using this technique, when doing capping, **we tend to cap values both in train set and test set**. It is important to remember that **the capping values MUST be derived from the train set**. And then use those same values to cap the variables in the test set"
      ]
    },
    {
      "cell_type": "markdown",
      "metadata": {
        "id": "_bNrAtzxP5Tf"
      },
      "source": [
        "### B.3.1 - Trimming or truncation"
      ]
    },
    {
      "cell_type": "code",
      "execution_count": 33,
      "metadata": {
        "colab": {
          "base_uri": "https://localhost:8080/"
        },
        "id": "TdE76h09QCyG",
        "outputId": "c10d5f13-a945-4a1f-a675-b44867a3cfe5"
      },
      "outputs": [
        {
          "name": "stdout",
          "output_type": "stream",
          "text": [
            "Size dataset - Before trimming :  (623, 2)\n",
            "Size dataset - After trimming  :  (585, 2)\n"
          ]
        }
      ],
      "source": [
        "# Flag the outliers in category `Age`\n",
        "outliers_age = np.where(X_train['Age'] > upper_boundary_age, True,\n",
        "                       np.where(X_train['Age'] < lower_boundary_age, True, False))\n",
        "\n",
        "# Flag the outliers in category `Fare`\n",
        "outliers_fare = np.where(X_train['Fare'] > upper_boundary_fare, True,\n",
        "                       np.where(X_train['Fare'] < lower_boundary_fare, True, False))\n",
        "\n",
        "# Trimming the dataset\n",
        "X_train_trimmed = X_train.loc[~(outliers_age + outliers_fare)]\n",
        "\n",
        "print('Size dataset - Before trimming : ', X_train.shape)\n",
        "print('Size dataset - After trimming  : ', X_train_trimmed.shape)"
      ]
    },
    {
      "cell_type": "markdown",
      "metadata": {
        "id": "7g05OYnlRrx0"
      },
      "source": [
        "We can see that using trimming, **we removed 38 rows**, from a dataset of 623 rows. This is about **4.49 %** of the data was removed. If only a few variables present a tiny proportion of outliers, trimming could work."
      ]
    },
    {
      "cell_type": "markdown",
      "metadata": {
        "id": "3thdDm9mSbqw"
      },
      "source": [
        " ---\n",
        " **IMPORTANT NOTES**\n",
        "\n",
        " when we remove data points from our dataset, all the parameters of the distribution are re-calculated, those are the mean, quantiles and inter-quantile range, therefore, in the new -trimmed- variable, values that before were not considered outliers, now are. This is an unwanted characteristic of this way of coping with outliers. Perform outliers handling only one time process only."
      ]
    },
    {
      "cell_type": "markdown",
      "metadata": {
        "id": "ctl_-GYaP-q5"
      },
      "source": [
        "### B.3.2 - Censoring or capping"
      ]
    },
    {
      "cell_type": "markdown",
      "metadata": {
        "id": "jxoRlbAhTEMK"
      },
      "source": [
        "To handling the outliers, we will use library called [feature-engine](https://feature-engine.trainindata.com/en/latest/index.htm). First, we need to install the package."
      ]
    },
    {
      "cell_type": "code",
      "execution_count": 34,
      "metadata": {
        "colab": {
          "base_uri": "https://localhost:8080/"
        },
        "id": "f98mzg8RTIUG",
        "outputId": "d9a32439-db22-4bd4-b0f5-ed69fd0162e3"
      },
      "outputs": [
        {
          "name": "stdout",
          "output_type": "stream",
          "text": [
            "Requirement already satisfied: feature-engine in c:\\users\\msi\\miniconda3\\envs\\hacktiv8_ftds\\lib\\site-packages (1.6.2)\n",
            "Requirement already satisfied: numpy>=1.18.2 in c:\\users\\msi\\miniconda3\\envs\\hacktiv8_ftds\\lib\\site-packages (from feature-engine) (2.1.2)\n",
            "Requirement already satisfied: pandas>=1.0.3 in c:\\users\\msi\\miniconda3\\envs\\hacktiv8_ftds\\lib\\site-packages (from feature-engine) (2.2.3)\n",
            "Requirement already satisfied: scikit-learn>=1.0.0 in c:\\users\\msi\\miniconda3\\envs\\hacktiv8_ftds\\lib\\site-packages (from feature-engine) (1.5.2)\n",
            "Requirement already satisfied: scipy>=1.4.1 in c:\\users\\msi\\miniconda3\\envs\\hacktiv8_ftds\\lib\\site-packages (from feature-engine) (1.14.1)\n",
            "Requirement already satisfied: statsmodels>=0.11.1 in c:\\users\\msi\\miniconda3\\envs\\hacktiv8_ftds\\lib\\site-packages (from feature-engine) (0.14.4)\n",
            "Requirement already satisfied: python-dateutil>=2.8.2 in c:\\users\\msi\\miniconda3\\envs\\hacktiv8_ftds\\lib\\site-packages (from pandas>=1.0.3->feature-engine) (2.9.0)\n",
            "Requirement already satisfied: pytz>=2020.1 in c:\\users\\msi\\miniconda3\\envs\\hacktiv8_ftds\\lib\\site-packages (from pandas>=1.0.3->feature-engine) (2024.2)\n",
            "Requirement already satisfied: tzdata>=2022.7 in c:\\users\\msi\\miniconda3\\envs\\hacktiv8_ftds\\lib\\site-packages (from pandas>=1.0.3->feature-engine) (2024.2)\n",
            "Requirement already satisfied: joblib>=1.2.0 in c:\\users\\msi\\miniconda3\\envs\\hacktiv8_ftds\\lib\\site-packages (from scikit-learn>=1.0.0->feature-engine) (1.4.2)\n",
            "Requirement already satisfied: threadpoolctl>=3.1.0 in c:\\users\\msi\\miniconda3\\envs\\hacktiv8_ftds\\lib\\site-packages (from scikit-learn>=1.0.0->feature-engine) (3.5.0)\n",
            "Requirement already satisfied: patsy>=0.5.6 in c:\\users\\msi\\miniconda3\\envs\\hacktiv8_ftds\\lib\\site-packages (from statsmodels>=0.11.1->feature-engine) (0.5.6)\n",
            "Requirement already satisfied: packaging>=21.3 in c:\\users\\msi\\miniconda3\\envs\\hacktiv8_ftds\\lib\\site-packages (from statsmodels>=0.11.1->feature-engine) (24.1)\n",
            "Requirement already satisfied: six in c:\\users\\msi\\miniconda3\\envs\\hacktiv8_ftds\\lib\\site-packages (from patsy>=0.5.6->statsmodels>=0.11.1->feature-engine) (1.16.0)\n"
          ]
        }
      ],
      "source": [
        "# Install feature-engine library\n",
        "\n",
        "!pip install feature-engine"
      ]
    },
    {
      "cell_type": "markdown",
      "metadata": {
        "id": "PKYWNjG6T_bg"
      },
      "source": [
        "Becase there are 2 type distibutions in this dataset, normal distribution and skewed distribution, we will do censoring 2 times."
      ]
    },
    {
      "cell_type": "code",
      "execution_count": 35,
      "metadata": {
        "id": "N_hNsfBiTI6H"
      },
      "outputs": [],
      "source": [
        "# First, capping the normal distribution\n",
        "\n",
        "from feature_engine.outliers import Winsorizer\n",
        "\n",
        "winsoriser_age = Winsorizer(capping_method='gaussian',\n",
        "                            tail='both',\n",
        "                            fold=3,\n",
        "                            variables=['Age'],\n",
        "                            missing_values='ignore')\n",
        "\n",
        "X_train_capped = winsoriser_age.fit_transform(X_train)\n",
        "X_test_capped = winsoriser_age.transform(X_test)"
      ]
    },
    {
      "cell_type": "markdown",
      "metadata": {
        "id": "9Dq59K22UY24"
      },
      "source": [
        "The results of the previous capping process will be used to carry out the second capping. **Don't worry, the previous capping value will not change because the capping process is done in a different column.**"
      ]
    },
    {
      "cell_type": "code",
      "execution_count": 36,
      "metadata": {
        "id": "im-rqUdcULSY"
      },
      "outputs": [],
      "source": [
        "# Capping the skewed distribution\n",
        "\n",
        "from feature_engine.outliers import Winsorizer\n",
        "\n",
        "winsoriser_fare = Winsorizer(capping_method='iqr',\n",
        "                             tail='both',\n",
        "                             fold=3,\n",
        "                             variables=['Fare'])\n",
        "\n",
        "X_train_capped = winsoriser_fare.fit_transform(X_train_capped)\n",
        "X_test_capped = winsoriser_fare.transform(X_test_capped)"
      ]
    },
    {
      "cell_type": "code",
      "execution_count": 37,
      "metadata": {
        "colab": {
          "base_uri": "https://localhost:8080/",
          "height": 1000
        },
        "id": "zRC3tSAYU8pG",
        "outputId": "ee90ad65-ba92-4e8a-c4ab-c032d030c734"
      },
      "outputs": [
        {
          "name": "stdout",
          "output_type": "stream",
          "text": [
            "Age - Before Capping\n"
          ]
        },
        {
          "data": {
            "image/png": "[encoded data removed]",
            "text/plain": [
              "<Figure size 1600x400 with 2 Axes>"
            ]
          },
          "metadata": {},
          "output_type": "display_data"
        },
        {
          "name": "stdout",
          "output_type": "stream",
          "text": [
            "\n",
            "Age - After Capping\n"
          ]
        },
        {
          "data": {
            "image/png": "[encoded data removed]",
            "text/plain": [
              "<Figure size 1600x400 with 2 Axes>"
            ]
          },
          "metadata": {},
          "output_type": "display_data"
        },
        {
          "name": "stdout",
          "output_type": "stream",
          "text": [
            "\n",
            "Fare - Before Capping\n"
          ]
        },
        {
          "data": {
            "image/png": "[encoded data removed]",
            "text/plain": [
              "<Figure size 1600x400 with 2 Axes>"
            ]
          },
          "metadata": {},
          "output_type": "display_data"
        },
        {
          "name": "stdout",
          "output_type": "stream",
          "text": [
            "\n",
            "Fare - After Capping\n"
          ]
        },
        {
          "data": {
            "image/png": "[encoded data removed]",
            "text/plain": [
              "<Figure size 1600x400 with 2 Axes>"
            ]
          },
          "metadata": {},
          "output_type": "display_data"
        }
      ],
      "source": [
        "# Check the distribution before and after capping\n",
        "\n",
        "print('Age - Before Capping')\n",
        "diagnostic_plots(X_train, 'Age')\n",
        "\n",
        "print('\\nAge - After Capping')\n",
        "diagnostic_plots(X_train_capped, 'Age')\n",
        "\n",
        "print('\\nFare - Before Capping')\n",
        "diagnostic_plots(X_train, 'Fare')\n",
        "\n",
        "print('\\nFare - After Capping')\n",
        "diagnostic_plots(X_train_capped, 'Fare')"
      ]
    },
    {
      "cell_type": "markdown",
      "metadata": {
        "id": "cukSy1pFX4G2"
      },
      "source": [
        "We can see that **in the right-tail (upper tail), there has been an increase in the amount of data due to this capping process**, both for the `Age` and `Fare` features."
      ]
    }
  ],
  "metadata": {
    "colab": {
      "provenance": [],
      "toc_visible": true
    },
    "kernelspec": {
      "display_name": "hacktiv8_ftds",
      "language": "python",
      "name": "python3"
    },
    "language_info": {
      "codemirror_mode": {
        "name": "ipython",
        "version": 3
      },
      "file_extension": ".py",
      "mimetype": "text/x-python",
      "name": "python",
      "nbconvert_exporter": "python",
      "pygments_lexer": "ipython3",
      "version": "3.12.7"
    },
    "toc": {
      "base_numbering": 1,
      "nav_menu": {},
      "number_sections": true,
      "sideBar": true,
      "skip_h1_title": false,
      "title_cell": "Table of Contents",
      "title_sidebar": "Contents",
      "toc_cell": false,
      "toc_position": {},
      "toc_section_display": "block",
      "toc_window_display": true
    }
  },
  "nbformat": 4,
  "nbformat_minor": 0
}
