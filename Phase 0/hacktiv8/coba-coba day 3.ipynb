{
 "cells": [
  {
   "cell_type": "code",
   "execution_count": 5,
   "metadata": {},
   "outputs": [
    {
     "name": "stdout",
     "output_type": "stream",
     "text": [
      "9\n",
      "8\n",
      "7\n",
      "6\n",
      "5\n",
      "4\n",
      "3\n",
      "Loop ended.\n"
     ]
    }
   ],
   "source": [
    "n=10\n",
    "while n > 0:\n",
    "    n-= 1\n",
    "    if n == 2:\n",
    "        break \n",
    "    print(n)\n",
    "print('Loop ended.')"
   ]
  },
  {
   "cell_type": "code",
   "execution_count": 6,
   "metadata": {},
   "outputs": [
    {
     "name": "stdout",
     "output_type": "stream",
     "text": [
      "foo\n",
      "> baz\n",
      "> qux\n",
      "bar\n",
      "> baz\n",
      "> qux\n"
     ]
    }
   ],
   "source": [
    "a = ['foo','bar']\n",
    "while len(a):\n",
    "    print(a.pop(0))\n",
    "    b = ['baz','qux']\n",
    "    while len(b):\n",
    "        print('>',b.pop(0))"
   ]
  },
  {
   "cell_type": "code",
   "execution_count": 7,
   "metadata": {},
   "outputs": [
    {
     "name": "stdout",
     "output_type": "stream",
     "text": [
      "foo\n",
      "bar\n",
      "baz\n"
     ]
    }
   ],
   "source": [
    "a = ['foo','bar','baz']\n",
    "for i in a:\n",
    "    print(i)"
   ]
  },
  {
   "cell_type": "code",
   "execution_count": 8,
   "metadata": {},
   "outputs": [
    {
     "name": "stdout",
     "output_type": "stream",
     "text": [
      "0\n",
      "0\n",
      "1\n",
      "2\n",
      "3\n",
      "4\n",
      "1\n",
      "0\n",
      "1\n",
      "2\n",
      "3\n",
      "4\n",
      "2\n",
      "0\n",
      "1\n",
      "2\n",
      "3\n",
      "4\n",
      "3\n",
      "0\n",
      "1\n",
      "2\n",
      "3\n",
      "4\n",
      "4\n",
      "0\n",
      "1\n",
      "2\n",
      "3\n",
      "4\n"
     ]
    }
   ],
   "source": [
    "x = range(5)\n",
    "for n in x:\n",
    "    print(n)\n",
    "    for n in x:\n",
    "        print(n)"
   ]
  },
  {
   "cell_type": "code",
   "execution_count": 13,
   "metadata": {},
   "outputs": [
    {
     "name": "stdout",
     "output_type": "stream",
     "text": [
      "1\n",
      "22\n",
      "333\n",
      "4444\n",
      "55555\n",
      "666666\n",
      "7777777\n",
      "88888888\n",
      "999999999\n"
     ]
    }
   ],
   "source": [
    "# Function to print the pattern\n",
    "def print_pattern():\n",
    "    for i in range(1, 10):\n",
    "        # Print the number 'i' repeated 'i' times\n",
    "        for j in range(i):\n",
    "            print(i, end=\"\")\n",
    "        # Move to the next line after each row\n",
    "        print()\n",
    "\n",
    "# Call the function\n",
    "print_pattern()\n"
   ]
  },
  {
   "cell_type": "code",
   "execution_count": 17,
   "metadata": {},
   "outputs": [
    {
     "name": "stdout",
     "output_type": "stream",
     "text": [
      "Password boleh digunakan!\n"
     ]
    }
   ],
   "source": [
    "def validate_password(password):\n",
    "    if len(password) < 6 or len (password) >16:\n",
    "        return False\n",
    "\n",
    "#Kondisi\n",
    "    huruf_kecil = False\n",
    "    huruf_besar = False\n",
    "    ada_angka = False\n",
    "    ada_char = False\n",
    "    spesial = \"$#@\"\n",
    "\n",
    "    for char in password:\n",
    "        if char.islower():\n",
    "            huruf_kecil = True\n",
    "        if char.isupper():\n",
    "            huruf_besar = True\n",
    "        if char.isdigit():\n",
    "            ada_angka = True\n",
    "        if char in char:\n",
    "            ada_char = True\n",
    "\n",
    "    return huruf_besar and huruf_kecil and ada_angka and ada_char\n",
    "\n",
    "\n",
    "password = input(\"Masukkan password:\")\n",
    "\n",
    "if validate_password(password):\n",
    "    print(\"Password boleh digunakan!\")\n",
    "else:\n",
    "    print(\"Password tidak bisa digunakan, baca ulang petunjuk!\")"
   ]
  }
 ],
 "metadata": {
  "kernelspec": {
   "display_name": "base",
   "language": "python",
   "name": "python3"
  },
  "language_info": {
   "codemirror_mode": {
    "name": "ipython",
    "version": 3
   },
   "file_extension": ".py",
   "mimetype": "text/x-python",
   "name": "python",
   "nbconvert_exporter": "python",
   "pygments_lexer": "ipython3",
   "version": "3.12.4"
  }
 },
 "nbformat": 4,
 "nbformat_minor": 2
}
