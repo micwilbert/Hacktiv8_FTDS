{
 "cells": [
  {
   "cell_type": "code",
   "execution_count": null,
   "metadata": {},
   "outputs": [],
   "source": [
    "# import\n",
    "import pandas as pd\n",
    "\n",
    "# loading data\n",
    "# csv, excel, pdf, ppt, ...\n",
    "df = pd.read_csv('teams.csv') # bisa dari link langsung, ganti dalem '' jadi link\n",
    "\n",
    "print(df)"
   ]
  },
  {
   "cell_type": "code",
   "execution_count": null,
   "metadata": {},
   "outputs": [],
   "source": [
    "df.head() # ambil sample sebanyak 5 data teratas, dalem kurung berapa banyak data yg mau, default 5"
   ]
  },
  {
   "cell_type": "code",
   "execution_count": null,
   "metadata": {},
   "outputs": [],
   "source": [
    "df.tail() # ambil sample dari terakhir sebanyak 5 data"
   ]
  },
  {
   "cell_type": "code",
   "execution_count": 5,
   "metadata": {},
   "outputs": [
    {
     "name": "stdout",
     "output_type": "stream",
     "text": [
      "<class 'pandas.core.frame.DataFrame'>\n",
      "RangeIndex: 252 entries, 0 to 251\n",
      "Data columns (total 5 columns):\n",
      " #   Column       Non-Null Count  Dtype \n",
      "---  ------       --------------  ----- \n",
      " 0   division     252 non-null    object\n",
      " 1   conference   252 non-null    object\n",
      " 2   school_name  252 non-null    object\n",
      " 3   roster_url   252 non-null    object\n",
      " 4   id           252 non-null    int64 \n",
      "dtypes: int64(1), object(4)\n",
      "memory usage: 10.0+ KB\n"
     ]
    }
   ],
   "source": [
    "df.info()"
   ]
  },
  {
   "cell_type": "code",
   "execution_count": 6,
   "metadata": {},
   "outputs": [
    {
     "data": {
      "text/plain": [
       "(252, 5)"
      ]
     },
     "execution_count": 6,
     "metadata": {},
     "output_type": "execute_result"
    }
   ],
   "source": [
    "df.shape"
   ]
  },
  {
   "cell_type": "code",
   "execution_count": 8,
   "metadata": {},
   "outputs": [
    {
     "data": {
      "text/html": [
       "<div>\n",
       "<style scoped>\n",
       "    .dataframe tbody tr th:only-of-type {\n",
       "        vertical-align: middle;\n",
       "    }\n",
       "\n",
       "    .dataframe tbody tr th {\n",
       "        vertical-align: top;\n",
       "    }\n",
       "\n",
       "    .dataframe thead th {\n",
       "        text-align: right;\n",
       "    }\n",
       "</style>\n",
       "<table border=\"1\" class=\"dataframe\">\n",
       "  <thead>\n",
       "    <tr style=\"text-align: right;\">\n",
       "      <th></th>\n",
       "      <th>id</th>\n",
       "    </tr>\n",
       "  </thead>\n",
       "  <tbody>\n",
       "    <tr>\n",
       "      <th>count</th>\n",
       "      <td>252.000000</td>\n",
       "    </tr>\n",
       "    <tr>\n",
       "      <th>mean</th>\n",
       "      <td>126.500000</td>\n",
       "    </tr>\n",
       "    <tr>\n",
       "      <th>std</th>\n",
       "      <td>72.890329</td>\n",
       "    </tr>\n",
       "    <tr>\n",
       "      <th>min</th>\n",
       "      <td>1.000000</td>\n",
       "    </tr>\n",
       "    <tr>\n",
       "      <th>25%</th>\n",
       "      <td>63.750000</td>\n",
       "    </tr>\n",
       "    <tr>\n",
       "      <th>50%</th>\n",
       "      <td>126.500000</td>\n",
       "    </tr>\n",
       "    <tr>\n",
       "      <th>75%</th>\n",
       "      <td>189.250000</td>\n",
       "    </tr>\n",
       "    <tr>\n",
       "      <th>max</th>\n",
       "      <td>252.000000</td>\n",
       "    </tr>\n",
       "  </tbody>\n",
       "</table>\n",
       "</div>"
      ],
      "text/plain": [
       "               id\n",
       "count  252.000000\n",
       "mean   126.500000\n",
       "std     72.890329\n",
       "min      1.000000\n",
       "25%     63.750000\n",
       "50%    126.500000\n",
       "75%    189.250000\n",
       "max    252.000000"
      ]
     },
     "execution_count": 8,
     "metadata": {},
     "output_type": "execute_result"
    }
   ],
   "source": [
    "df.describe() # buat statistik, nanti pas itung-itungan"
   ]
  },
  {
   "cell_type": "code",
   "execution_count": 9,
   "metadata": {},
   "outputs": [
    {
     "data": {
      "text/plain": [
       "Index(['division', 'conference', 'school_name', 'roster_url', 'id'], dtype='object')"
      ]
     },
     "execution_count": 9,
     "metadata": {},
     "output_type": "execute_result"
    }
   ],
   "source": [
    "df.columns # cek isi column ada apa aja"
   ]
  },
  {
   "cell_type": "code",
   "execution_count": 10,
   "metadata": {},
   "outputs": [
    {
     "data": {
      "text/plain": [
       "RangeIndex(start=0, stop=252, step=1)"
      ]
     },
     "execution_count": 10,
     "metadata": {},
     "output_type": "execute_result"
    }
   ],
   "source": [
    "df.index"
   ]
  },
  {
   "cell_type": "code",
   "execution_count": 11,
   "metadata": {},
   "outputs": [
    {
     "data": {
      "text/html": [
       "<div>\n",
       "<style scoped>\n",
       "    .dataframe tbody tr th:only-of-type {\n",
       "        vertical-align: middle;\n",
       "    }\n",
       "\n",
       "    .dataframe tbody tr th {\n",
       "        vertical-align: top;\n",
       "    }\n",
       "\n",
       "    .dataframe thead th {\n",
       "        text-align: right;\n",
       "    }\n",
       "</style>\n",
       "<table border=\"1\" class=\"dataframe\">\n",
       "  <thead>\n",
       "    <tr style=\"text-align: right;\">\n",
       "      <th></th>\n",
       "      <th>division</th>\n",
       "      <th>conference</th>\n",
       "      <th>school_name</th>\n",
       "      <th>roster_url</th>\n",
       "      <th>id</th>\n",
       "    </tr>\n",
       "  </thead>\n",
       "  <tbody>\n",
       "    <tr>\n",
       "      <th>0</th>\n",
       "      <td>False</td>\n",
       "      <td>False</td>\n",
       "      <td>False</td>\n",
       "      <td>False</td>\n",
       "      <td>False</td>\n",
       "    </tr>\n",
       "    <tr>\n",
       "      <th>1</th>\n",
       "      <td>False</td>\n",
       "      <td>False</td>\n",
       "      <td>False</td>\n",
       "      <td>False</td>\n",
       "      <td>False</td>\n",
       "    </tr>\n",
       "    <tr>\n",
       "      <th>2</th>\n",
       "      <td>False</td>\n",
       "      <td>False</td>\n",
       "      <td>False</td>\n",
       "      <td>False</td>\n",
       "      <td>False</td>\n",
       "    </tr>\n",
       "    <tr>\n",
       "      <th>3</th>\n",
       "      <td>False</td>\n",
       "      <td>False</td>\n",
       "      <td>False</td>\n",
       "      <td>False</td>\n",
       "      <td>False</td>\n",
       "    </tr>\n",
       "    <tr>\n",
       "      <th>4</th>\n",
       "      <td>False</td>\n",
       "      <td>False</td>\n",
       "      <td>False</td>\n",
       "      <td>False</td>\n",
       "      <td>False</td>\n",
       "    </tr>\n",
       "    <tr>\n",
       "      <th>...</th>\n",
       "      <td>...</td>\n",
       "      <td>...</td>\n",
       "      <td>...</td>\n",
       "      <td>...</td>\n",
       "      <td>...</td>\n",
       "    </tr>\n",
       "    <tr>\n",
       "      <th>247</th>\n",
       "      <td>False</td>\n",
       "      <td>False</td>\n",
       "      <td>False</td>\n",
       "      <td>False</td>\n",
       "      <td>False</td>\n",
       "    </tr>\n",
       "    <tr>\n",
       "      <th>248</th>\n",
       "      <td>False</td>\n",
       "      <td>False</td>\n",
       "      <td>False</td>\n",
       "      <td>False</td>\n",
       "      <td>False</td>\n",
       "    </tr>\n",
       "    <tr>\n",
       "      <th>249</th>\n",
       "      <td>False</td>\n",
       "      <td>False</td>\n",
       "      <td>False</td>\n",
       "      <td>False</td>\n",
       "      <td>False</td>\n",
       "    </tr>\n",
       "    <tr>\n",
       "      <th>250</th>\n",
       "      <td>False</td>\n",
       "      <td>False</td>\n",
       "      <td>False</td>\n",
       "      <td>False</td>\n",
       "      <td>False</td>\n",
       "    </tr>\n",
       "    <tr>\n",
       "      <th>251</th>\n",
       "      <td>False</td>\n",
       "      <td>False</td>\n",
       "      <td>False</td>\n",
       "      <td>False</td>\n",
       "      <td>False</td>\n",
       "    </tr>\n",
       "  </tbody>\n",
       "</table>\n",
       "<p>252 rows × 5 columns</p>\n",
       "</div>"
      ],
      "text/plain": [
       "     division  conference  school_name  roster_url     id\n",
       "0       False       False        False       False  False\n",
       "1       False       False        False       False  False\n",
       "2       False       False        False       False  False\n",
       "3       False       False        False       False  False\n",
       "4       False       False        False       False  False\n",
       "..        ...         ...          ...         ...    ...\n",
       "247     False       False        False       False  False\n",
       "248     False       False        False       False  False\n",
       "249     False       False        False       False  False\n",
       "250     False       False        False       False  False\n",
       "251     False       False        False       False  False\n",
       "\n",
       "[252 rows x 5 columns]"
      ]
     },
     "execution_count": 11,
     "metadata": {},
     "output_type": "execute_result"
    }
   ],
   "source": [
    "df.isnull() # cek data ada yang null ga, harus semua false (data ada)"
   ]
  },
  {
   "cell_type": "code",
   "execution_count": 12,
   "metadata": {},
   "outputs": [
    {
     "data": {
      "text/plain": [
       "division         2\n",
       "conference      25\n",
       "school_name    252\n",
       "roster_url     252\n",
       "id             252\n",
       "dtype: int64"
      ]
     },
     "execution_count": 12,
     "metadata": {},
     "output_type": "execute_result"
    }
   ],
   "source": [
    "df.nunique() # mau lihat jumlah unique data"
   ]
  },
  {
   "cell_type": "code",
   "execution_count": 13,
   "metadata": {},
   "outputs": [
    {
     "data": {
      "text/plain": [
       "division                   conference  school_name             roster_url                                       id \n",
       "FBS (Division I-A Teams)   ACC         Boston College          http://espn.go.com/ncf/teams/roster?teamId=103   11     1\n",
       "                                       Clemson                 http://espn.go.com/ncf/teams/roster?teamId=228   12     1\n",
       "                                       Duke                    http://espn.go.com/ncf/teams/roster?teamId=150   13     1\n",
       "                                       Florida State           http://espn.go.com/ncf/teams/roster?teamId=52    14     1\n",
       "                                       Georgia Tech            http://espn.go.com/ncf/teams/roster?teamId=59    15     1\n",
       "                                                                                                                      ..\n",
       "FCS (Division I-AA Teams)  Southland   Nicholls State          http://espn.go.com/ncf/teams/roster?teamId=2447  238    1\n",
       "                                       Northwestern State      http://espn.go.com/ncf/teams/roster?teamId=2466  239    1\n",
       "                                       Sam Houston State       http://espn.go.com/ncf/teams/roster?teamId=2534  240    1\n",
       "                                       Southeastern Louisiana  http://espn.go.com/ncf/teams/roster?teamId=2545  241    1\n",
       "                                       Stephen F. Austin       http://espn.go.com/ncf/teams/roster?teamId=2617  242    1\n",
       "Name: count, Length: 252, dtype: int64"
      ]
     },
     "execution_count": 13,
     "metadata": {},
     "output_type": "execute_result"
    }
   ],
   "source": [
    "df.value_counts()"
   ]
  },
  {
   "cell_type": "code",
   "execution_count": 17,
   "metadata": {},
   "outputs": [
    {
     "data": {
      "text/plain": [
       "division\n",
       "FBS (Division I-A Teams)     126\n",
       "FCS (Division I-AA Teams)    126\n",
       "Name: count, dtype: int64"
      ]
     },
     "execution_count": 17,
     "metadata": {},
     "output_type": "execute_result"
    }
   ],
   "source": [
    "df.division.value_counts()"
   ]
  },
  {
   "cell_type": "code",
   "execution_count": null,
   "metadata": {},
   "outputs": [],
   "source": [
    "df.sort_values(by='id', ascending=False) # sort berdasarkan id -> def : asc, kalo pengen dec, diisi false"
   ]
  },
  {
   "cell_type": "code",
   "execution_count": null,
   "metadata": {},
   "outputs": [],
   "source": [
    "df.sort_values(by=['id', 'school_name'], ascending=[False, True]) #multiple column"
   ]
  },
  {
   "cell_type": "code",
   "execution_count": 25,
   "metadata": {},
   "outputs": [
    {
     "data": {
      "text/plain": [
       "0       FBS (Division I-A Teams)\n",
       "1       FBS (Division I-A Teams)\n",
       "2       FBS (Division I-A Teams)\n",
       "3       FBS (Division I-A Teams)\n",
       "4       FBS (Division I-A Teams)\n",
       "                 ...            \n",
       "247    FCS (Division I-AA Teams)\n",
       "248    FCS (Division I-AA Teams)\n",
       "249    FCS (Division I-AA Teams)\n",
       "250    FCS (Division I-AA Teams)\n",
       "251    FCS (Division I-AA Teams)\n",
       "Name: division, Length: 252, dtype: object"
      ]
     },
     "execution_count": 25,
     "metadata": {},
     "output_type": "execute_result"
    }
   ],
   "source": [
    "# square bracket buat nampilin column\n",
    "new_df = df[['conference', 'division', 'id']]\n",
    "\n",
    "# bisa juga, tapi cuma bisa 1 column\n",
    "df.division"
   ]
  },
  {
   "cell_type": "code",
   "execution_count": 26,
   "metadata": {},
   "outputs": [
    {
     "data": {
      "text/html": [
       "<div>\n",
       "<style scoped>\n",
       "    .dataframe tbody tr th:only-of-type {\n",
       "        vertical-align: middle;\n",
       "    }\n",
       "\n",
       "    .dataframe tbody tr th {\n",
       "        vertical-align: top;\n",
       "    }\n",
       "\n",
       "    .dataframe thead th {\n",
       "        text-align: right;\n",
       "    }\n",
       "</style>\n",
       "<table border=\"1\" class=\"dataframe\">\n",
       "  <thead>\n",
       "    <tr style=\"text-align: right;\">\n",
       "      <th></th>\n",
       "      <th>conference</th>\n",
       "      <th>division</th>\n",
       "      <th>id</th>\n",
       "    </tr>\n",
       "  </thead>\n",
       "  <tbody>\n",
       "    <tr>\n",
       "      <th>5</th>\n",
       "      <td>American Athletic</td>\n",
       "      <td>FBS (Division I-A Teams)</td>\n",
       "      <td>6</td>\n",
       "    </tr>\n",
       "    <tr>\n",
       "      <th>6</th>\n",
       "      <td>American Athletic</td>\n",
       "      <td>FBS (Division I-A Teams)</td>\n",
       "      <td>7</td>\n",
       "    </tr>\n",
       "    <tr>\n",
       "      <th>7</th>\n",
       "      <td>American Athletic</td>\n",
       "      <td>FBS (Division I-A Teams)</td>\n",
       "      <td>8</td>\n",
       "    </tr>\n",
       "    <tr>\n",
       "      <th>8</th>\n",
       "      <td>American Athletic</td>\n",
       "      <td>FBS (Division I-A Teams)</td>\n",
       "      <td>9</td>\n",
       "    </tr>\n",
       "    <tr>\n",
       "      <th>9</th>\n",
       "      <td>American Athletic</td>\n",
       "      <td>FBS (Division I-A Teams)</td>\n",
       "      <td>10</td>\n",
       "    </tr>\n",
       "    <tr>\n",
       "      <th>10</th>\n",
       "      <td>ACC</td>\n",
       "      <td>FBS (Division I-A Teams)</td>\n",
       "      <td>11</td>\n",
       "    </tr>\n",
       "  </tbody>\n",
       "</table>\n",
       "</div>"
      ],
      "text/plain": [
       "           conference                  division  id\n",
       "5   American Athletic  FBS (Division I-A Teams)   6\n",
       "6   American Athletic  FBS (Division I-A Teams)   7\n",
       "7   American Athletic  FBS (Division I-A Teams)   8\n",
       "8   American Athletic  FBS (Division I-A Teams)   9\n",
       "9   American Athletic  FBS (Division I-A Teams)  10\n",
       "10                ACC  FBS (Division I-A Teams)  11"
      ]
     },
     "execution_count": 26,
     "metadata": {},
     "output_type": "execute_result"
    }
   ],
   "source": [
    "# access row .iloc[]\n",
    "new_df.iloc[5:11]"
   ]
  },
  {
   "cell_type": "code",
   "execution_count": 27,
   "metadata": {},
   "outputs": [],
   "source": [
    "# mengubah index df\n",
    "new_df2 = df.set_index('school_name')"
   ]
  },
  {
   "cell_type": "code",
   "execution_count": null,
   "metadata": {},
   "outputs": [],
   "source": [
    "# accessing row, loc[]\n",
    "new_df2.loc['Houston':'Memphis']"
   ]
  },
  {
   "cell_type": "code",
   "execution_count": 37,
   "metadata": {},
   "outputs": [
    {
     "data": {
      "text/html": [
       "<div>\n",
       "<style scoped>\n",
       "    .dataframe tbody tr th:only-of-type {\n",
       "        vertical-align: middle;\n",
       "    }\n",
       "\n",
       "    .dataframe tbody tr th {\n",
       "        vertical-align: top;\n",
       "    }\n",
       "\n",
       "    .dataframe thead th {\n",
       "        text-align: right;\n",
       "    }\n",
       "</style>\n",
       "<table border=\"1\" class=\"dataframe\">\n",
       "  <thead>\n",
       "    <tr style=\"text-align: right;\">\n",
       "      <th></th>\n",
       "      <th>division</th>\n",
       "      <th>conference</th>\n",
       "      <th>school_name</th>\n",
       "      <th>roster_url</th>\n",
       "      <th>id</th>\n",
       "    </tr>\n",
       "  </thead>\n",
       "  <tbody>\n",
       "    <tr>\n",
       "      <th>4</th>\n",
       "      <td>FBS (Division I-A Teams)</td>\n",
       "      <td>American Athletic</td>\n",
       "      <td>Memphis</td>\n",
       "      <td>http://espn.go.com/ncf/teams/roster?teamId=235</td>\n",
       "      <td>5</td>\n",
       "    </tr>\n",
       "  </tbody>\n",
       "</table>\n",
       "</div>"
      ],
      "text/plain": [
       "                   division         conference school_name  \\\n",
       "4  FBS (Division I-A Teams)  American Athletic     Memphis   \n",
       "\n",
       "                                       roster_url  id  \n",
       "4  http://espn.go.com/ncf/teams/roster?teamId=235   5  "
      ]
     },
     "execution_count": 37,
     "metadata": {},
     "output_type": "execute_result"
    }
   ],
   "source": [
    "# filtering\n",
    "df[(df.conference =='American Athletic') & (df.school_name == 'Memphis')]"
   ]
  },
  {
   "cell_type": "code",
   "execution_count": 39,
   "metadata": {},
   "outputs": [
    {
     "data": {
      "text/html": [
       "<div>\n",
       "<style scoped>\n",
       "    .dataframe tbody tr th:only-of-type {\n",
       "        vertical-align: middle;\n",
       "    }\n",
       "\n",
       "    .dataframe tbody tr th {\n",
       "        vertical-align: top;\n",
       "    }\n",
       "\n",
       "    .dataframe thead th {\n",
       "        text-align: right;\n",
       "    }\n",
       "</style>\n",
       "<table border=\"1\" class=\"dataframe\">\n",
       "  <thead>\n",
       "    <tr style=\"text-align: right;\">\n",
       "      <th></th>\n",
       "      <th>division</th>\n",
       "      <th>conference</th>\n",
       "      <th>school_name</th>\n",
       "      <th>roster_url</th>\n",
       "      <th>id</th>\n",
       "    </tr>\n",
       "  </thead>\n",
       "  <tbody>\n",
       "    <tr>\n",
       "      <th>4</th>\n",
       "      <td>FBS (Division I-A Teams)</td>\n",
       "      <td>American Athletic</td>\n",
       "      <td>Memphis</td>\n",
       "      <td>http://espn.go.com/ncf/teams/roster?teamId=235</td>\n",
       "      <td>5</td>\n",
       "    </tr>\n",
       "  </tbody>\n",
       "</table>\n",
       "</div>"
      ],
      "text/plain": [
       "                   division         conference school_name  \\\n",
       "4  FBS (Division I-A Teams)  American Athletic     Memphis   \n",
       "\n",
       "                                       roster_url  id  \n",
       "4  http://espn.go.com/ncf/teams/roster?teamId=235   5  "
      ]
     },
     "execution_count": 39,
     "metadata": {},
     "output_type": "execute_result"
    }
   ],
   "source": [
    "# filtering\n",
    "cond1 = df.conference ==\"American Athletic\"\n",
    "cond2 = df.school_name == 'Memphis'\n",
    "df[cond1 & cond2]"
   ]
  },
  {
   "cell_type": "code",
   "execution_count": 44,
   "metadata": {},
   "outputs": [
    {
     "data": {
      "text/html": [
       "<div>\n",
       "<style scoped>\n",
       "    .dataframe tbody tr th:only-of-type {\n",
       "        vertical-align: middle;\n",
       "    }\n",
       "\n",
       "    .dataframe tbody tr th {\n",
       "        vertical-align: top;\n",
       "    }\n",
       "\n",
       "    .dataframe thead th {\n",
       "        text-align: right;\n",
       "    }\n",
       "</style>\n",
       "<table border=\"1\" class=\"dataframe\">\n",
       "  <thead>\n",
       "    <tr style=\"text-align: right;\">\n",
       "      <th></th>\n",
       "      <th>division</th>\n",
       "      <th>conference</th>\n",
       "      <th>school_name</th>\n",
       "      <th>roster_url</th>\n",
       "      <th>id</th>\n",
       "    </tr>\n",
       "  </thead>\n",
       "  <tbody>\n",
       "    <tr>\n",
       "      <th>4</th>\n",
       "      <td>FBS (Division I-A Teams)</td>\n",
       "      <td>American Athletic</td>\n",
       "      <td>Memphis</td>\n",
       "      <td>http://espn.go.com/ncf/teams/roster?teamId=235</td>\n",
       "      <td>5</td>\n",
       "    </tr>\n",
       "  </tbody>\n",
       "</table>\n",
       "</div>"
      ],
      "text/plain": [
       "                   division         conference school_name  \\\n",
       "4  FBS (Division I-A Teams)  American Athletic     Memphis   \n",
       "\n",
       "                                       roster_url  id  \n",
       "4  http://espn.go.com/ncf/teams/roster?teamId=235   5  "
      ]
     },
     "execution_count": 44,
     "metadata": {},
     "output_type": "execute_result"
    }
   ],
   "source": [
    "df.query(\"conference =='American Athletic'and school_name == 'Memphis'\")"
   ]
  },
  {
   "cell_type": "code",
   "execution_count": 45,
   "metadata": {},
   "outputs": [
    {
     "data": {
      "text/html": [
       "<div>\n",
       "<style scoped>\n",
       "    .dataframe tbody tr th:only-of-type {\n",
       "        vertical-align: middle;\n",
       "    }\n",
       "\n",
       "    .dataframe tbody tr th {\n",
       "        vertical-align: top;\n",
       "    }\n",
       "\n",
       "    .dataframe thead th {\n",
       "        text-align: right;\n",
       "    }\n",
       "</style>\n",
       "<table border=\"1\" class=\"dataframe\">\n",
       "  <thead>\n",
       "    <tr style=\"text-align: right;\">\n",
       "      <th></th>\n",
       "      <th>division</th>\n",
       "      <th>conference</th>\n",
       "      <th>school_name</th>\n",
       "      <th>roster_url</th>\n",
       "      <th>id</th>\n",
       "    </tr>\n",
       "  </thead>\n",
       "  <tbody>\n",
       "    <tr>\n",
       "      <th>0</th>\n",
       "      <td>FBS (Division I-A Teams)</td>\n",
       "      <td>American Athletic</td>\n",
       "      <td>Cincinnati</td>\n",
       "      <td>http://espn.go.com/ncf/teams/roster?teamId=2132</td>\n",
       "      <td>1</td>\n",
       "    </tr>\n",
       "    <tr>\n",
       "      <th>5</th>\n",
       "      <td>FBS (Division I-A Teams)</td>\n",
       "      <td>American Athletic</td>\n",
       "      <td>Rutgers</td>\n",
       "      <td>http://espn.go.com/ncf/teams/roster?teamId=164</td>\n",
       "      <td>6</td>\n",
       "    </tr>\n",
       "    <tr>\n",
       "      <th>8</th>\n",
       "      <td>FBS (Division I-A Teams)</td>\n",
       "      <td>American Athletic</td>\n",
       "      <td>Temple</td>\n",
       "      <td>http://espn.go.com/ncf/teams/roster?teamId=218</td>\n",
       "      <td>9</td>\n",
       "    </tr>\n",
       "  </tbody>\n",
       "</table>\n",
       "</div>"
      ],
      "text/plain": [
       "                   division         conference school_name  \\\n",
       "0  FBS (Division I-A Teams)  American Athletic  Cincinnati   \n",
       "5  FBS (Division I-A Teams)  American Athletic     Rutgers   \n",
       "8  FBS (Division I-A Teams)  American Athletic      Temple   \n",
       "\n",
       "                                        roster_url  id  \n",
       "0  http://espn.go.com/ncf/teams/roster?teamId=2132   1  \n",
       "5   http://espn.go.com/ncf/teams/roster?teamId=164   6  \n",
       "8   http://espn.go.com/ncf/teams/roster?teamId=218   9  "
      ]
     },
     "execution_count": 45,
     "metadata": {},
     "output_type": "execute_result"
    }
   ],
   "source": [
    "#where school_name in ('Cincinnati', 'Rutgers', 'Temple')\n",
    "df[df.school_name.isin(['Cincinnati', 'Rutgers', 'Temple'])]"
   ]
  },
  {
   "cell_type": "code",
   "execution_count": 46,
   "metadata": {},
   "outputs": [
    {
     "data": {
      "text/html": [
       "<div>\n",
       "<style scoped>\n",
       "    .dataframe tbody tr th:only-of-type {\n",
       "        vertical-align: middle;\n",
       "    }\n",
       "\n",
       "    .dataframe tbody tr th {\n",
       "        vertical-align: top;\n",
       "    }\n",
       "\n",
       "    .dataframe thead th {\n",
       "        text-align: right;\n",
       "    }\n",
       "</style>\n",
       "<table border=\"1\" class=\"dataframe\">\n",
       "  <thead>\n",
       "    <tr style=\"text-align: right;\">\n",
       "      <th></th>\n",
       "      <th>division</th>\n",
       "      <th>conference</th>\n",
       "      <th>school_name</th>\n",
       "      <th>roster_url</th>\n",
       "      <th>id</th>\n",
       "    </tr>\n",
       "  </thead>\n",
       "  <tbody>\n",
       "    <tr>\n",
       "      <th>98</th>\n",
       "      <td>FBS (Division I-A Teams)</td>\n",
       "      <td>Pac-12</td>\n",
       "      <td>Stanford</td>\n",
       "      <td>http://espn.go.com/ncf/teams/roster?teamId=24</td>\n",
       "      <td>99</td>\n",
       "    </tr>\n",
       "    <tr>\n",
       "      <th>231</th>\n",
       "      <td>FCS (Division I-AA Teams)</td>\n",
       "      <td>Southern</td>\n",
       "      <td>Samford</td>\n",
       "      <td>http://espn.go.com/ncf/teams/roster?teamId=2535</td>\n",
       "      <td>232</td>\n",
       "    </tr>\n",
       "    <tr>\n",
       "      <th>233</th>\n",
       "      <td>FCS (Division I-AA Teams)</td>\n",
       "      <td>Southern</td>\n",
       "      <td>Wofford</td>\n",
       "      <td>http://espn.go.com/ncf/teams/roster?teamId=2747</td>\n",
       "      <td>234</td>\n",
       "    </tr>\n",
       "  </tbody>\n",
       "</table>\n",
       "</div>"
      ],
      "text/plain": [
       "                      division conference school_name  \\\n",
       "98    FBS (Division I-A Teams)     Pac-12    Stanford   \n",
       "231  FCS (Division I-AA Teams)   Southern     Samford   \n",
       "233  FCS (Division I-AA Teams)   Southern     Wofford   \n",
       "\n",
       "                                          roster_url   id  \n",
       "98     http://espn.go.com/ncf/teams/roster?teamId=24   99  \n",
       "231  http://espn.go.com/ncf/teams/roster?teamId=2535  232  \n",
       "233  http://espn.go.com/ncf/teams/roster?teamId=2747  234  "
      ]
     },
     "execution_count": 46,
     "metadata": {},
     "output_type": "execute_result"
    }
   ],
   "source": [
    "# where school_name like '%ford%'\n",
    "df[df['school_name'].str.contains('ford')]"
   ]
  },
  {
   "cell_type": "code",
   "execution_count": 47,
   "metadata": {},
   "outputs": [
    {
     "data": {
      "text/plain": [
       "0            Cincinnati\n",
       "1           Connecticut\n",
       "2               Houston\n",
       "3            Louisville\n",
       "4               Memphis\n",
       "5               Rutgers\n",
       "6         South Florida\n",
       "7    Southern Methodist\n",
       "8                Temple\n",
       "9                   UCF\n",
       "Name: school_name, dtype: object"
      ]
     },
     "execution_count": 47,
     "metadata": {},
     "output_type": "execute_result"
    }
   ],
   "source": [
    "df.loc[df.conference ==\"American Athletic\", 'school_name']"
   ]
  },
  {
   "cell_type": "code",
   "execution_count": 48,
   "metadata": {},
   "outputs": [],
   "source": [
    "# tambah kolom baru dengan values\n",
    "df['new_column'] = df.id + 100"
   ]
  },
  {
   "cell_type": "code",
   "execution_count": 55,
   "metadata": {},
   "outputs": [
    {
     "data": {
      "text/html": [
       "<div>\n",
       "<style scoped>\n",
       "    .dataframe tbody tr th:only-of-type {\n",
       "        vertical-align: middle;\n",
       "    }\n",
       "\n",
       "    .dataframe tbody tr th {\n",
       "        vertical-align: top;\n",
       "    }\n",
       "\n",
       "    .dataframe thead th {\n",
       "        text-align: right;\n",
       "    }\n",
       "</style>\n",
       "<table border=\"1\" class=\"dataframe\">\n",
       "  <thead>\n",
       "    <tr style=\"text-align: right;\">\n",
       "      <th></th>\n",
       "      <th>division</th>\n",
       "      <th>conference</th>\n",
       "      <th>school_name</th>\n",
       "      <th>roster_url</th>\n",
       "      <th>id</th>\n",
       "      <th>new_column</th>\n",
       "    </tr>\n",
       "  </thead>\n",
       "  <tbody>\n",
       "    <tr>\n",
       "      <th>0</th>\n",
       "      <td>FBS (Division I-A Teams)</td>\n",
       "      <td>American Athletic</td>\n",
       "      <td>Cincinnati</td>\n",
       "      <td>http://espn.go.com/ncf/teams/roster?teamId=2132</td>\n",
       "      <td>1</td>\n",
       "      <td>101.0</td>\n",
       "    </tr>\n",
       "    <tr>\n",
       "      <th>1</th>\n",
       "      <td>FBS (Division I-A Teams)</td>\n",
       "      <td>American Athletic</td>\n",
       "      <td>Connecticut</td>\n",
       "      <td>http://espn.go.com/ncf/teams/roster?teamId=41</td>\n",
       "      <td>2</td>\n",
       "      <td>102.0</td>\n",
       "    </tr>\n",
       "    <tr>\n",
       "      <th>2</th>\n",
       "      <td>FBS (Division I-A Teams)</td>\n",
       "      <td>American Athletic</td>\n",
       "      <td>Houston</td>\n",
       "      <td>http://espn.go.com/ncf/teams/roster?teamId=248</td>\n",
       "      <td>3</td>\n",
       "      <td>103.0</td>\n",
       "    </tr>\n",
       "    <tr>\n",
       "      <th>3</th>\n",
       "      <td>FBS (Division I-A Teams)</td>\n",
       "      <td>American Athletic</td>\n",
       "      <td>Louisville</td>\n",
       "      <td>http://espn.go.com/ncf/teams/roster?teamId=97</td>\n",
       "      <td>4</td>\n",
       "      <td>104.0</td>\n",
       "    </tr>\n",
       "    <tr>\n",
       "      <th>4</th>\n",
       "      <td>FBS (Division I-A Teams)</td>\n",
       "      <td>American Athletic</td>\n",
       "      <td>Memphis</td>\n",
       "      <td>http://espn.go.com/ncf/teams/roster?teamId=235</td>\n",
       "      <td>5</td>\n",
       "      <td>105.0</td>\n",
       "    </tr>\n",
       "    <tr>\n",
       "      <th>...</th>\n",
       "      <td>...</td>\n",
       "      <td>...</td>\n",
       "      <td>...</td>\n",
       "      <td>...</td>\n",
       "      <td>...</td>\n",
       "      <td>...</td>\n",
       "    </tr>\n",
       "    <tr>\n",
       "      <th>248</th>\n",
       "      <td>FCS (Division I-AA Teams)</td>\n",
       "      <td>SWAC</td>\n",
       "      <td>Mississippi Valley State</td>\n",
       "      <td>http://espn.go.com/ncf/teams/roster?teamId=2400</td>\n",
       "      <td>249</td>\n",
       "      <td>349.0</td>\n",
       "    </tr>\n",
       "    <tr>\n",
       "      <th>249</th>\n",
       "      <td>FCS (Division I-AA Teams)</td>\n",
       "      <td>SWAC</td>\n",
       "      <td>Prairie View A&amp;M</td>\n",
       "      <td>http://espn.go.com/ncf/teams/roster?teamId=2504</td>\n",
       "      <td>250</td>\n",
       "      <td>350.0</td>\n",
       "    </tr>\n",
       "    <tr>\n",
       "      <th>250</th>\n",
       "      <td>FCS (Division I-AA Teams)</td>\n",
       "      <td>SWAC</td>\n",
       "      <td>Southern University</td>\n",
       "      <td>http://espn.go.com/ncf/teams/roster?teamId=2582</td>\n",
       "      <td>251</td>\n",
       "      <td>351.0</td>\n",
       "    </tr>\n",
       "    <tr>\n",
       "      <th>251</th>\n",
       "      <td>FCS (Division I-AA Teams)</td>\n",
       "      <td>SWAC</td>\n",
       "      <td>Texas Southern</td>\n",
       "      <td>http://espn.go.com/ncf/teams/roster?teamId=2640</td>\n",
       "      <td>252</td>\n",
       "      <td>352.0</td>\n",
       "    </tr>\n",
       "    <tr>\n",
       "      <th>252</th>\n",
       "      <td>abc</td>\n",
       "      <td>NaN</td>\n",
       "      <td>NaN</td>\n",
       "      <td>NaN</td>\n",
       "      <td>999</td>\n",
       "      <td>NaN</td>\n",
       "    </tr>\n",
       "  </tbody>\n",
       "</table>\n",
       "<p>253 rows × 6 columns</p>\n",
       "</div>"
      ],
      "text/plain": [
       "                      division         conference               school_name  \\\n",
       "0     FBS (Division I-A Teams)  American Athletic                Cincinnati   \n",
       "1     FBS (Division I-A Teams)  American Athletic               Connecticut   \n",
       "2     FBS (Division I-A Teams)  American Athletic                   Houston   \n",
       "3     FBS (Division I-A Teams)  American Athletic                Louisville   \n",
       "4     FBS (Division I-A Teams)  American Athletic                   Memphis   \n",
       "..                         ...                ...                       ...   \n",
       "248  FCS (Division I-AA Teams)               SWAC  Mississippi Valley State   \n",
       "249  FCS (Division I-AA Teams)               SWAC          Prairie View A&M   \n",
       "250  FCS (Division I-AA Teams)               SWAC       Southern University   \n",
       "251  FCS (Division I-AA Teams)               SWAC            Texas Southern   \n",
       "252                        abc                NaN                       NaN   \n",
       "\n",
       "                                          roster_url   id  new_column  \n",
       "0    http://espn.go.com/ncf/teams/roster?teamId=2132    1       101.0  \n",
       "1      http://espn.go.com/ncf/teams/roster?teamId=41    2       102.0  \n",
       "2     http://espn.go.com/ncf/teams/roster?teamId=248    3       103.0  \n",
       "3      http://espn.go.com/ncf/teams/roster?teamId=97    4       104.0  \n",
       "4     http://espn.go.com/ncf/teams/roster?teamId=235    5       105.0  \n",
       "..                                               ...  ...         ...  \n",
       "248  http://espn.go.com/ncf/teams/roster?teamId=2400  249       349.0  \n",
       "249  http://espn.go.com/ncf/teams/roster?teamId=2504  250       350.0  \n",
       "250  http://espn.go.com/ncf/teams/roster?teamId=2582  251       351.0  \n",
       "251  http://espn.go.com/ncf/teams/roster?teamId=2640  252       352.0  \n",
       "252                                              NaN  999         NaN  \n",
       "\n",
       "[253 rows x 6 columns]"
      ]
     },
     "execution_count": 55,
     "metadata": {},
     "output_type": "execute_result"
    }
   ],
   "source": [
    "new_data = {\n",
    "        'division':'abc',\n",
    "        'id':999\n",
    "}\n",
    "df._append(new_data, ignore_index=True)"
   ]
  },
  {
   "cell_type": "code",
   "execution_count": 56,
   "metadata": {},
   "outputs": [
    {
     "name": "stdout",
     "output_type": "stream",
     "text": [
      "<class 'pandas.core.frame.DataFrame'>\n",
      "RangeIndex: 252 entries, 0 to 251\n",
      "Data columns (total 6 columns):\n",
      " #   Column       Non-Null Count  Dtype \n",
      "---  ------       --------------  ----- \n",
      " 0   division     252 non-null    object\n",
      " 1   conference   252 non-null    object\n",
      " 2   school_name  252 non-null    object\n",
      " 3   roster_url   252 non-null    object\n",
      " 4   id           252 non-null    int64 \n",
      " 5   new_column   252 non-null    int64 \n",
      "dtypes: int64(2), object(4)\n",
      "memory usage: 11.9+ KB\n"
     ]
    }
   ],
   "source": [
    "df.info()"
   ]
  }
 ],
 "metadata": {
  "kernelspec": {
   "display_name": "base",
   "language": "python",
   "name": "python3"
  },
  "language_info": {
   "codemirror_mode": {
    "name": "ipython",
    "version": 3
   },
   "file_extension": ".py",
   "mimetype": "text/x-python",
   "name": "python",
   "nbconvert_exporter": "python",
   "pygments_lexer": "ipython3",
   "version": "3.12.4"
  }
 },
 "nbformat": 4,
 "nbformat_minor": 2
}
