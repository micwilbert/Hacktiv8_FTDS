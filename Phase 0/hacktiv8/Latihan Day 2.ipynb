{
 "cells": [
  {
   "cell_type": "markdown",
   "metadata": {},
   "source": [
    "# String (Text)"
   ]
  },
  {
   "cell_type": "code",
   "execution_count": null,
   "metadata": {},
   "outputs": [],
   "source": [
    "\"abc123qwerty\"\n",
    "'poiuytrewq'\n",
    "\n",
    "\"Hari ini saya makan 'steak'\""
   ]
  },
  {
   "cell_type": "markdown",
   "metadata": {},
   "source": [
    "fitur-fitur string:\n",
    "upper : all caps\n",
    "lower : all lowercase\n",
    "swapcase : tukeran"
   ]
  },
  {
   "cell_type": "code",
   "execution_count": null,
   "metadata": {},
   "outputs": [],
   "source": [
    "stringA = \"Hari ini saya makan 'steak'\".upper()"
   ]
  },
  {
   "cell_type": "code",
   "execution_count": null,
   "metadata": {},
   "outputs": [],
   "source": [
    "print(stringA)"
   ]
  },
  {
   "cell_type": "code",
   "execution_count": 4,
   "metadata": {},
   "outputs": [
    {
     "data": {
      "text/plain": [
       "'helloworld'"
      ]
     },
     "execution_count": 4,
     "metadata": {},
     "output_type": "execute_result"
    }
   ],
   "source": [
    "#concat : gabungin string\n",
    "\"hello\"+\"world\""
   ]
  },
  {
   "cell_type": "code",
   "execution_count": 1,
   "metadata": {},
   "outputs": [
    {
     "data": {
      "text/plain": [
       "'hellohellohello'"
      ]
     },
     "execution_count": 1,
     "metadata": {},
     "output_type": "execute_result"
    }
   ],
   "source": [
    "#mengulang karakter\n",
    "\"hello\"*3"
   ]
  },
  {
   "cell_type": "markdown",
   "metadata": {},
   "source": [
    "# Numeric : \n",
    "Bilangan Bulat (Integer)"
   ]
  },
  {
   "cell_type": "code",
   "execution_count": null,
   "metadata": {},
   "outputs": [],
   "source": [
    "123456789"
   ]
  },
  {
   "cell_type": "markdown",
   "metadata": {},
   "source": [
    "Float"
   ]
  },
  {
   "cell_type": "code",
   "execution_count": null,
   "metadata": {},
   "outputs": [],
   "source": [
    "1.2\n",
    "2.3"
   ]
  },
  {
   "cell_type": "markdown",
   "metadata": {},
   "source": [
    "# Sequence (Deret)"
   ]
  },
  {
   "cell_type": "markdown",
   "metadata": {},
   "source": [
    "List"
   ]
  },
  {
   "cell_type": "code",
   "execution_count": null,
   "metadata": {},
   "outputs": [],
   "source": [
    "data = [1,2,3,'a','b','c']\n",
    "index = 0"
   ]
  },
  {
   "cell_type": "code",
   "execution_count": 10,
   "metadata": {},
   "outputs": [
    {
     "data": {
      "text/plain": [
       "[1, 2, 3, 'a', 'b', 'c', 99]"
      ]
     },
     "execution_count": 10,
     "metadata": {},
     "output_type": "execute_result"
    }
   ],
   "source": [
    "#membuat list baru\n",
    "listdata = [1,2,3,'a','b','c']\n",
    "\n",
    "#nambah data ke list\n",
    "listdata.append(99)\n",
    "\n",
    "#hapus data ke list\n",
    "listdata.remove(2)"
   ]
  },
  {
   "cell_type": "code",
   "execution_count": null,
   "metadata": {},
   "outputs": [],
   "source": [
    "#nested : list dalam list\n",
    "\n",
    "[1,2,3[a,b,c]]"
   ]
  },
  {
   "cell_type": "code",
   "execution_count": 12,
   "metadata": {},
   "outputs": [],
   "source": [
    "listdata = [1,2,3,'a','b','c']\n",
    "#nampilin salah satu data\n",
    "listdata[4]\n",
    "\n",
    "#mengubah satu data\n",
    "listdata[3] = 'ABC'\n",
    "\n",
    "#nampilin data dari list nested\n",
    "newlist = listdata[3]\n",
    "newlist[0]\n",
    "\n",
    "#atau bisa juga\n",
    "newlist[3][0]"
   ]
  },
  {
   "cell_type": "code",
   "execution_count": 14,
   "metadata": {},
   "outputs": [],
   "source": [
    "#slicing : mengambil beberapa data\n",
    "# [3,'a' ]\n",
    "listdata = [1,2,3,'a','b','c']\n",
    "listdata[2:4]\n",
    "\n",
    "#[1:] : data kedua sampai terakhir\n",
    "#[:3] : data awal sampai ketiga\n",
    "\n",
    "#reverse list : membalik urutan data\n",
    "listdata.reverse()\n"
   ]
  },
  {
   "cell_type": "markdown",
   "metadata": {},
   "source": [
    "Tuple\n",
    "(tidak bisa dirubah)"
   ]
  },
  {
   "cell_type": "code",
   "execution_count": null,
   "metadata": {},
   "outputs": [],
   "source": [
    "(1,2,3,'a','b','c')"
   ]
  },
  {
   "cell_type": "code",
   "execution_count": 15,
   "metadata": {},
   "outputs": [
    {
     "data": {
      "text/plain": [
       "(3, 4)"
      ]
     },
     "execution_count": 15,
     "metadata": {},
     "output_type": "execute_result"
    }
   ],
   "source": [
    "tupleAngka = (1,2,3,4,5)\n",
    "\n",
    "tupleAngka[2:4]"
   ]
  },
  {
   "cell_type": "markdown",
   "metadata": {},
   "source": [
    "# Mapping : Dictionary"
   ]
  },
  {
   "cell_type": "code",
   "execution_count": null,
   "metadata": {},
   "outputs": [],
   "source": [
    "# format\n",
    "# key: value\n",
    "{\n",
    "    \"key1\":1,\n",
    "    \"key2\":2,\n",
    "    \"key3\":3,\n",
    "    \"key4\": {\"kunci1\": 'A'}\n",
    "}"
   ]
  },
  {
   "cell_type": "code",
   "execution_count": 16,
   "metadata": {},
   "outputs": [],
   "source": [
    "dictData = {\n",
    "    \"data1\": 'ABC',\n",
    "    \"data2\" : True,\n",
    "    \"data3\" : [1,2,3],\n",
    "    \"data4\" : {\"key1\":123}\n",
    "}"
   ]
  },
  {
   "cell_type": "code",
   "execution_count": 17,
   "metadata": {},
   "outputs": [],
   "source": [
    "#menampilkan salah satu data di dict\n",
    "dictData[\"data1\"] = 3.14"
   ]
  },
  {
   "cell_type": "code",
   "execution_count": 19,
   "metadata": {},
   "outputs": [],
   "source": [
    "#menambah data baru ke dict\n",
    "dictData[\"data5\"] = \"baru\""
   ]
  },
  {
   "cell_type": "code",
   "execution_count": 21,
   "metadata": {},
   "outputs": [],
   "source": [
    "#menghapus existing data\n",
    "del dictData[\"data5\"]"
   ]
  },
  {
   "cell_type": "markdown",
   "metadata": {},
   "source": [
    "# Boolean"
   ]
  },
  {
   "cell_type": "code",
   "execution_count": null,
   "metadata": {},
   "outputs": [],
   "source": [
    "True\n",
    "False"
   ]
  },
  {
   "cell_type": "code",
   "execution_count": 5,
   "metadata": {},
   "outputs": [
    {
     "data": {
      "text/plain": [
       "False"
      ]
     },
     "execution_count": 5,
     "metadata": {},
     "output_type": "execute_result"
    }
   ],
   "source": [
    "#comparison\n",
    "10 > 20"
   ]
  },
  {
   "cell_type": "markdown",
   "metadata": {},
   "source": [
    "Operator / Symbol\n",
    "- Assignment\n",
    "    - symbol: =\n",
    "- Arithmetic\n",
    "    - symbol: + - * / % ** //\n",
    "- Comparison\n",
    "    - symbol: == > >= < <= != "
   ]
  },
  {
   "cell_type": "markdown",
   "metadata": {},
   "source": [
    "Variable: tempat menampung data (sementara)\n",
    "- style penamaan variable\n",
    "    - snake_case\n",
    "    - camelCase\n",
    "    - PascalCase\n",
    "\n",
    "- aturan penamaan\n",
    "    - karakter #1 harus huruf atau _\n",
    "    - tidak boleh ada spasi di dalam nama variabel"
   ]
  },
  {
   "cell_type": "code",
   "execution_count": null,
   "metadata": {},
   "outputs": [],
   "source": [
    "varA = \"ini data untuk variable A\""
   ]
  }
 ],
 "metadata": {
  "kernelspec": {
   "display_name": "rmt_37",
   "language": "python",
   "name": "python3"
  },
  "language_info": {
   "codemirror_mode": {
    "name": "ipython",
    "version": 3
   },
   "file_extension": ".py",
   "mimetype": "text/x-python",
   "name": "python",
   "nbconvert_exporter": "python",
   "pygments_lexer": "ipython3",
   "version": "3.12.6"
  }
 },
 "nbformat": 4,
 "nbformat_minor": 2
}
