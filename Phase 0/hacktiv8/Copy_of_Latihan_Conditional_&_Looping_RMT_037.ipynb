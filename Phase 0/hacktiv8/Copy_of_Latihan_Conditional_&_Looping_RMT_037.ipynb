{
  "cells": [
    {
      "cell_type": "markdown",
      "metadata": {
        "id": "f3fwm9AXSf4W"
      },
      "source": [
        "# LATIHAN - P0W1D3AM : Conditional & Looping"
      ]
    },
    {
      "cell_type": "markdown",
      "metadata": {
        "id": "KwQ65oWbSk3E"
      },
      "source": [
        "**NOMOR 1**\n",
        "\n",
        "Buatlah sebuah kondisi untuk mengecek apakah variabel `a` **lebih kecil** dari variabel `b` berdasarkan nilai dibawah ini :\n",
        "* `a` = 100\n",
        "* `b` = 200\n",
        "\n",
        "Jika `True` maka tulis/cetak `a lebih kecil dari b`"
      ]
    },
    {
      "cell_type": "code",
      "execution_count": null,
      "metadata": {
        "id": "3yr36oejF08-",
        "outputId": "d74bdbbe-a24c-416b-970a-9ac7a8d83b73",
        "colab": {
          "base_uri": "https://localhost:8080/"
        }
      },
      "outputs": [
        {
          "output_type": "stream",
          "name": "stdout",
          "text": [
            "a lebih kecil dari b\n"
          ]
        }
      ],
      "source": [
        "a = 100\n",
        "b = 200\n",
        "if a < b:\n",
        "    print('a lebih kecil dari b')"
      ]
    },
    {
      "cell_type": "markdown",
      "metadata": {
        "id": "3VTram85TxLA"
      },
      "source": [
        "**NOMOR 2**\n",
        "\n",
        "Buatlah sebuah kondisi untuk mengecek apakah variabel `a` **lebih besar** dari variabel `b` berdasarkan nilai dibawah ini :\n",
        "* `a` = 100\n",
        "* `b` = 200\n",
        "\n",
        "Jika `True` maka tulis/cetak `a lebih besar dari b`"
      ]
    },
    {
      "cell_type": "code",
      "execution_count": null,
      "metadata": {
        "id": "Z0mEQpBqF09D",
        "outputId": "dabf4eb1-f15e-4d7b-fc08-6c22dea7e626",
        "colab": {
          "base_uri": "https://localhost:8080/"
        }
      },
      "outputs": [
        {
          "output_type": "stream",
          "name": "stdout",
          "text": [
            "a lebih kecil dari b\n"
          ]
        }
      ],
      "source": [
        "a = 100\n",
        "b = 200\n",
        "if a > b:\n",
        "    print('a lebih besar dari b')\n",
        "else:\n",
        "    print('a lebih kecil dari b')"
      ]
    },
    {
      "cell_type": "markdown",
      "metadata": {
        "id": "nJ04rhbDUDuI"
      },
      "source": [
        "**NOMOR 3**\n",
        "\n",
        "Buatlah sebuah kondisi untuk mengecek apakah variabel `a` **tidak sama dengan**  variabel `b` berdasarkan nilai dibawah ini :\n",
        "* `a` = `januari`\n",
        "* `b` = `februari`\n",
        "\n",
        "Jika `True` maka tulis/cetak `a tidak sama dengan b`\n",
        "\n",
        "Jika `False` maka tulis/cetak `a sama dengan b`"
      ]
    },
    {
      "cell_type": "code",
      "execution_count": null,
      "metadata": {
        "id": "FlqV3RWHF09F",
        "outputId": "4d8e09e8-ac87-4dee-c431-5aa64acb3826",
        "colab": {
          "base_uri": "https://localhost:8080/"
        }
      },
      "outputs": [
        {
          "output_type": "stream",
          "name": "stdout",
          "text": [
            "januari tidak sama dengan februari\n"
          ]
        }
      ],
      "source": [
        "a = 'januari'\n",
        "b = 'februari'\n",
        "\n",
        "if a != b:\n",
        "    print(f\"{a} tidak sama dengan {b}\")\n",
        "else:\n",
        "    print(f\"{a} sama dengan {b}\")"
      ]
    },
    {
      "cell_type": "markdown",
      "metadata": {
        "id": "bbHY6mLEfCtm"
      },
      "source": [
        "**NOMOR 4**\n",
        "\n",
        "Buatlah sebuah kondisi untuk mengecek apakah variabel `a` **sama dengan**  variabel `b` berdasarkan nilai dibawah ini :\n",
        "* `a` = 1000\n",
        "* `b` = 1000.0\n",
        "\n",
        "Jika `True` maka jangan menampilkan apapun\n",
        "\n",
        "Jika `False` maka tulis/cetak `a tidak sama dengan b`"
      ]
    },
    {
      "cell_type": "code",
      "execution_count": null,
      "metadata": {
        "id": "R6lP7X4MF09H"
      },
      "outputs": [],
      "source": [
        "  a = 1000\n",
        "  b = 1000.0\n",
        "  if a == b:\n",
        "    pass\n",
        "  else:\n",
        "    print('a tidak sama dengan b')"
      ]
    },
    {
      "cell_type": "markdown",
      "metadata": {
        "id": "b_v1w6L-VsD8"
      },
      "source": [
        "**NOMOR 5**\n",
        "\n",
        "Buatlah sebuah kondisi untuk mengecek apakah variabel `a` **berbeda**  variabel `b` berdasarkan nilai dibawah ini :\n",
        "* `angka_ganjil` = `[1, 3, 5, 7]`\n",
        "* `angka_genap`  = `[2, 4, 6, 8]`\n",
        "\n",
        "Jika `True` maka tulis/cetak `angka_ganjil berbeda dengan angka_genap`\n",
        "\n",
        "Jika `False` maka tulis/cetak `angka_ganjil sama dengan angka_genap`"
      ]
    },
    {
      "cell_type": "code",
      "execution_count": 4,
      "metadata": {
        "id": "qzfSD7edF09J",
        "colab": {
          "base_uri": "https://localhost:8080/"
        },
        "outputId": "b6521ec6-0817-42dd-a566-59df4ffa014a"
      },
      "outputs": [
        {
          "output_type": "stream",
          "name": "stdout",
          "text": [
            "angka_ganjil berbeda dengan angka_genap\n"
          ]
        }
      ],
      "source": [
        "a = [1, 3, 5, 7]\n",
        "b = [2, 4, 6, 8]\n",
        "\n",
        "if a != b:\n",
        "    print('angka_ganjil berbeda dengan angka_genap')\n",
        "else:\n",
        "    print('angka_ganjil sama dengan angka_genap')"
      ]
    },
    {
      "cell_type": "markdown",
      "metadata": {
        "id": "SYcUlu-Qch44"
      },
      "source": [
        "**NOMOR 6**\n",
        "\n",
        "Buatlah sebuah kondisi untuk mengecek apakah variabel-variabel dibawah ini mempunyai nilai atau tidak\n",
        "\n",
        "* `nama` = `budi`\n",
        "* `usia` = 20\n",
        "* `jenis_kelamin_pria` = True\n",
        "* `alamat` = `None`\n",
        "* `jumlah_motor` = 0\n",
        "* `punya_rumah` = `False`\n",
        "\n",
        "Jika True maka tulis/cetak `ada`\n",
        "\n",
        "Jika False maka tulis/cetak `tidak ada`"
      ]
    },
    {
      "cell_type": "code",
      "execution_count": 5,
      "metadata": {
        "id": "nlUykXzfF09L",
        "colab": {
          "base_uri": "https://localhost:8080/"
        },
        "outputId": "fa5ab2e5-e81b-4b2e-b57a-9406c71a2de5"
      },
      "outputs": [
        {
          "output_type": "stream",
          "name": "stdout",
          "text": [
            "ada\n",
            "ada\n",
            "ada\n",
            "tidak ada\n",
            "tidak ada\n",
            "tidak ada\n"
          ]
        }
      ],
      "source": [
        "nama = \"budi\"\n",
        "usia = 20\n",
        "jenis_kelamin_pria = True\n",
        "alamat = None\n",
        "jumlah_motor = 0\n",
        "punya_rumah = False\n",
        "\n",
        "if nama:\n",
        "    print(\"ada\")\n",
        "else:\n",
        "    print(\"tidak ada\")\n",
        "\n",
        "if usia:\n",
        "    print(\"ada\")\n",
        "else:\n",
        "    print(\"tidak ada\")\n",
        "\n",
        "if jenis_kelamin_pria:\n",
        "    print(\"ada\")\n",
        "else:\n",
        "    print(\"tidak ada\")\n",
        "\n",
        "if alamat:\n",
        "    print(\"ada\")\n",
        "else:\n",
        "    print(\"tidak ada\")\n",
        "\n",
        "if jumlah_motor:\n",
        "    print(\"ada\")\n",
        "else:\n",
        "    print(\"tidak ada\")\n",
        "\n",
        "if punya_rumah:\n",
        "    print(\"ada\")\n",
        "else:\n",
        "    print(\"tidak ada\")\n"
      ]
    },
    {
      "cell_type": "markdown",
      "metadata": {
        "id": "QAuu7AtZeHHo"
      },
      "source": [
        "**NOMOR 7**\n",
        "\n",
        "Buatlah sebuah kondisi untuk mengecek apakah variabel-variabel dibawah ini termasuk salah satu nilai dari variabel lain atau tidak\n",
        "\n",
        "* *`pendidikan` = `s1`* terhadap *`daftar_pendidikan` = ['s1', 's2', 's3']*\n",
        "* *`nama` = `budi`* terhadap *`nama_lengkap` = `budi kurniawan`*\n",
        "\n",
        "Jika True maka tulis/cetak `merupakan bagian`\n",
        "\n",
        "Jika False maka tulis/cetak `bukan merupakan bagian`"
      ]
    },
    {
      "cell_type": "code",
      "execution_count": 8,
      "metadata": {
        "id": "f2tJq3W-F09M",
        "colab": {
          "base_uri": "https://localhost:8080/"
        },
        "outputId": "03436434-64a2-404e-c712-450a52b9c265"
      },
      "outputs": [
        {
          "output_type": "stream",
          "name": "stdout",
          "text": [
            "merupakan bagian\n",
            "merupakan bagian\n"
          ]
        }
      ],
      "source": [
        "pendidikan = \"s1\"\n",
        "daftar_pendidikan = ['s1', 's2', 's3']\n",
        "\n",
        "nama = \"budi\"\n",
        "nama_lengkap = \"budi kurniawan\"\n",
        "\n",
        "if pendidikan in daftar_pendidikan:\n",
        "    print(\"merupakan bagian\")\n",
        "else:\n",
        "    print(\"bukan merupakan bagian\")\n",
        "\n",
        "if nama in nama_lengkap:\n",
        "    print(\"merupakan bagian\")\n",
        "else:\n",
        "    print(\"bukan merupakan bagian\")\n"
      ]
    },
    {
      "cell_type": "markdown",
      "metadata": {
        "id": "xKB0rquQgyU1"
      },
      "source": [
        "**NOMOR 8 (IF ELIF)**\n",
        "\n",
        "Buatlah sebuah kondisi untuk mengecek hubungan dua variabel dibawah ini :\n",
        "\n",
        "* `a` = 100\n",
        "* `b` = 100\n",
        "\n",
        "Jika `a < b` maka tulis/cetak `a lebih kecil dari b`\n",
        "\n",
        "Jika `a > b` maka tulis/cetak `a lebih besar dari b`\n",
        "\n",
        "Selain kondisi diatas, maka tulis/cetak `a sama dengan b`"
      ]
    },
    {
      "cell_type": "code",
      "execution_count": 9,
      "metadata": {
        "id": "IWc1fISnF09N",
        "colab": {
          "base_uri": "https://localhost:8080/"
        },
        "outputId": "45e64e01-3f4b-414d-94db-c71c026ae286"
      },
      "outputs": [
        {
          "output_type": "stream",
          "name": "stdout",
          "text": [
            "a sama dengan b\n"
          ]
        }
      ],
      "source": [
        "a = 100\n",
        "b = 100\n",
        "\n",
        "if a < b:\n",
        "  print(\"a lebih kecil dari b\")\n",
        "elif a > b:\n",
        "  print(\"a lebih besar dari b\")\n",
        "else:\n",
        "  print(\"a sama dengan b\")"
      ]
    },
    {
      "cell_type": "markdown",
      "metadata": {
        "id": "6-2lRRq0e0v2"
      },
      "source": [
        "**NOMOR 9 (NESTED IF)**\n",
        "\n",
        "Buatlah sebuah kondisi untuk memilih menu makanan dengan syarat :\n",
        "\n",
        "* Pilih `nasi goreng` jika uang yang dimiliki lebih dari sama dengan Rp 15.000,-\n",
        "* Pilih `ketoprak` jika uang yang dimiliki lebih dari sama dengan Rp 10.000 dan kurang dari Rp 15.000,-\n",
        "* Pilih `batagor` jika uang yang dimiliki lebih dari sama dengan Rp 5.000 dan kurang Rp 10.000,-\n",
        "* Pilih `es teh manis` jika uang yang dimiliki kurang dari Rp 5000"
      ]
    },
    {
      "cell_type": "code",
      "execution_count": 11,
      "metadata": {
        "id": "fXLfPJSsF09O",
        "colab": {
          "base_uri": "https://localhost:8080/"
        },
        "outputId": "4782f2c8-0f40-4824-b06a-30dce4dde978"
      },
      "outputs": [
        {
          "output_type": "stream",
          "name": "stdout",
          "text": [
            "tidak beli\n"
          ]
        }
      ],
      "source": [
        "uang = 0\n",
        "\n",
        "if uang != 0:\n",
        "  if uang >= 15000:\n",
        "    print(\"nasi goreng\")\n",
        "  elif 10000 <= uang < 15000:\n",
        "    print(\"ketoprak\")\n",
        "  elif 5000 <= uang < 10000:\n",
        "    print(\"batagor\")\n",
        "  elif uang < 5000:\n",
        "    print(\"es teh manis\")\n",
        "else:\n",
        "    print(\"tidak beli\")"
      ]
    },
    {
      "cell_type": "markdown",
      "metadata": {
        "id": "0LRQikHLhzxx"
      },
      "source": [
        "**NOMOR 10**\n",
        "\n",
        "Buatlah sebuah perulangan untuk mencetak/menulis kata `hello` sebanyak `5` kali."
      ]
    },
    {
      "cell_type": "code",
      "execution_count": 18,
      "metadata": {
        "id": "yjM8kmGwF09P",
        "colab": {
          "base_uri": "https://localhost:8080/"
        },
        "outputId": "11be56b9-f014-483f-8b92-e5931b1f5aa7"
      },
      "outputs": [
        {
          "output_type": "stream",
          "name": "stdout",
          "text": [
            "hello hello hello hello hello "
          ]
        }
      ],
      "source": [
        "for i in range(5):\n",
        "    print(\"hello \",end=\"\")"
      ]
    },
    {
      "cell_type": "code",
      "source": [
        "a = 0\n",
        "while a < 5:\n",
        "    print(\"hello \",end=\"\")\n",
        "    a += 1"
      ],
      "metadata": {
        "colab": {
          "base_uri": "https://localhost:8080/"
        },
        "id": "YBXovWRia2kf",
        "outputId": "1ef8ffbd-1018-4ba8-ce85-e4ca81457741"
      },
      "execution_count": 27,
      "outputs": [
        {
          "output_type": "stream",
          "name": "stdout",
          "text": [
            "hello hello hello hello hello "
          ]
        }
      ]
    },
    {
      "cell_type": "markdown",
      "metadata": {
        "id": "q1u5JgNcjDER"
      },
      "source": [
        "**NOMOR 11**\n",
        "\n",
        "Buatlah sebuah perulangan untuk menampilkan angka dari `0` - `5`\n",
        "\n",
        "*Hasil : 0 1 2 3 4 5*"
      ]
    },
    {
      "cell_type": "code",
      "execution_count": 16,
      "metadata": {
        "id": "g7l7f3qxF09Q",
        "colab": {
          "base_uri": "https://localhost:8080/"
        },
        "outputId": "5aa9d20c-54af-4d54-e1ea-1f5840cbe02c"
      },
      "outputs": [
        {
          "output_type": "stream",
          "name": "stdout",
          "text": [
            "0 1 2 3 4 5 "
          ]
        }
      ],
      "source": [
        "for i in range(6):\n",
        "    print(i, end=\" \")"
      ]
    },
    {
      "cell_type": "code",
      "source": [
        "i = 0\n",
        "while i < 6:\n",
        "    print(i,end=\"\")\n",
        "    i += 1"
      ],
      "metadata": {
        "colab": {
          "base_uri": "https://localhost:8080/"
        },
        "id": "eI0CsCgubz5n",
        "outputId": "1a3fc52a-09aa-406b-e4cc-e29ad437e03c"
      },
      "execution_count": 28,
      "outputs": [
        {
          "output_type": "stream",
          "name": "stdout",
          "text": [
            "012345"
          ]
        }
      ]
    },
    {
      "cell_type": "markdown",
      "metadata": {
        "id": "1D-AQ-pij46e"
      },
      "source": [
        "**NOMOR 12**\n",
        "\n",
        "Buatlah sebuah perulangan untuk menampilkan angka dari `3` - `5`\n",
        "\n",
        "*Hasil : 3 4 5*"
      ]
    },
    {
      "cell_type": "code",
      "execution_count": 23,
      "metadata": {
        "id": "sLJ5ij3yF09R",
        "colab": {
          "base_uri": "https://localhost:8080/"
        },
        "outputId": "d33d6ee5-6970-4118-eaab-41fe06a0c630"
      },
      "outputs": [
        {
          "output_type": "stream",
          "name": "stdout",
          "text": [
            "345"
          ]
        }
      ],
      "source": [
        "for i in range(3,6):\n",
        "  print(i , end=\"\")"
      ]
    },
    {
      "cell_type": "code",
      "source": [
        "a = 3\n",
        "while a <= 5:\n",
        "    print(a, end = ' ')\n",
        "    a+= 1"
      ],
      "metadata": {
        "colab": {
          "base_uri": "https://localhost:8080/"
        },
        "id": "5zeVDb6QefVu",
        "outputId": "785929e7-8f71-4fe1-c46e-bf82361fa3d6"
      },
      "execution_count": 36,
      "outputs": [
        {
          "output_type": "stream",
          "name": "stdout",
          "text": [
            "3 4 5 "
          ]
        }
      ]
    },
    {
      "cell_type": "markdown",
      "metadata": {
        "id": "uSEVraIukViN"
      },
      "source": [
        "**NOMOR 13**\n",
        "\n",
        "Buatlah sebuah perulangan untuk menampilkan angka dari `1` - `10` dengan jarak angka adalah `3`\n",
        "\n",
        "*Hasil : 1 4 7 10*"
      ]
    },
    {
      "cell_type": "code",
      "execution_count": 22,
      "metadata": {
        "id": "P8h-gyxVF09S",
        "colab": {
          "base_uri": "https://localhost:8080/"
        },
        "outputId": "51b0d0a5-4d43-488f-cb87-1bb314d9673e"
      },
      "outputs": [
        {
          "output_type": "stream",
          "name": "stdout",
          "text": [
            "1 4 7 10 "
          ]
        }
      ],
      "source": [
        "for i in range(1, 11, 3):\n",
        "    print(i, end=\" \")"
      ]
    },
    {
      "cell_type": "code",
      "source": [
        "i = 1\n",
        "while i <= 10:\n",
        "  print(i, end=\" \")\n",
        "  i+=3"
      ],
      "metadata": {
        "colab": {
          "base_uri": "https://localhost:8080/"
        },
        "id": "BnQ07wHgejVa",
        "outputId": "12d28404-b113-4982-afe8-7b728173fafe"
      },
      "execution_count": 37,
      "outputs": [
        {
          "output_type": "stream",
          "name": "stdout",
          "text": [
            "1 4 7 10 "
          ]
        }
      ]
    },
    {
      "cell_type": "markdown",
      "metadata": {
        "id": "DtDfto_5k75u"
      },
      "source": [
        "**NOMOR 14**\n",
        "\n",
        "Buatlah sebuah perulangan untuk menampilkan angka dari `1` - `10` dan berhenti dengan kondisi jika angka tersebut adalah `8`\n",
        "\n",
        "*Hasil : 1 2 3 4 5 6 7 8*"
      ]
    },
    {
      "cell_type": "code",
      "execution_count": 30,
      "metadata": {
        "id": "8EEWKGRtF09S",
        "colab": {
          "base_uri": "https://localhost:8080/"
        },
        "outputId": "dc17bf67-9823-4970-8c52-051eab630b7b"
      },
      "outputs": [
        {
          "output_type": "stream",
          "name": "stdout",
          "text": [
            "1 2 3 4 5 6 7 8 "
          ]
        }
      ],
      "source": [
        "for i in range(1, 11):\n",
        "    if i == 9:\n",
        "        break\n",
        "    print(i, end=\" \")"
      ]
    },
    {
      "cell_type": "code",
      "source": [
        "i = 0\n",
        "while i <= 10:\n",
        "  i += 1\n",
        "  if i == 9:\n",
        "    break\n",
        "  print (i, end=\" \")\n"
      ],
      "metadata": {
        "colab": {
          "base_uri": "https://localhost:8080/"
        },
        "id": "TrLYXEJceoWa",
        "outputId": "73aa2baf-5d7e-44f1-beb9-9dfb3b0862c7"
      },
      "execution_count": 47,
      "outputs": [
        {
          "output_type": "stream",
          "name": "stdout",
          "text": [
            "1 2 3 4 5 6 7 8 "
          ]
        }
      ]
    },
    {
      "cell_type": "markdown",
      "metadata": {
        "id": "xHUh5DxDmkjm"
      },
      "source": [
        "**NOMOR 15**\n",
        "\n",
        "Buatlah sebuah perulangan untuk menampilkan angka genap dari `1` - `10` dan angka tersebut kurang dari sama dengan 6\n",
        "\n",
        "*Hasil : 2 4 6*"
      ]
    },
    {
      "cell_type": "code",
      "execution_count": 32,
      "metadata": {
        "id": "LcJejtF9F09T",
        "colab": {
          "base_uri": "https://localhost:8080/"
        },
        "outputId": "eaad9281-a92c-43d1-f564-504b7c02bc2f"
      },
      "outputs": [
        {
          "output_type": "stream",
          "name": "stdout",
          "text": [
            "246"
          ]
        }
      ],
      "source": [
        "for i in range(1,11):\n",
        "  if i % 2 == 0 and i <= 6:\n",
        "    print(i, end=\"\")"
      ]
    },
    {
      "cell_type": "code",
      "source": [
        "i=1\n",
        "while i < 10:\n",
        "  i += 1\n",
        "  if i % 2 == 0 and i <= 6:\n",
        "   print(i, end=\" \")\n"
      ],
      "metadata": {
        "colab": {
          "base_uri": "https://localhost:8080/"
        },
        "id": "VQo1e2lBesMg",
        "outputId": "f0b0c6e8-d588-4740-eb23-78973030fd54"
      },
      "execution_count": 40,
      "outputs": [
        {
          "output_type": "stream",
          "name": "stdout",
          "text": [
            "2 4 6 "
          ]
        }
      ]
    },
    {
      "cell_type": "markdown",
      "metadata": {
        "id": "eHuyyy7cmFTc"
      },
      "source": [
        "**NOMOR 16**\n",
        "\n",
        "Buatlah sebuah perulangan untuk menampilkan isi dari variabel list dibawah ini :\n",
        "\n",
        "* `daftar_nama` = `['anwar', 'budi', 'cecep', 'deny']`"
      ]
    },
    {
      "cell_type": "code",
      "execution_count": 52,
      "metadata": {
        "id": "wjIb07m5F09U",
        "colab": {
          "base_uri": "https://localhost:8080/"
        },
        "outputId": "58ea6063-fa2a-42f1-af05-d4fe553ae023"
      },
      "outputs": [
        {
          "output_type": "stream",
          "name": "stdout",
          "text": [
            "anwarbudicecepdeny"
          ]
        }
      ],
      "source": [
        "daftar_nama = ['anwar', 'budi', 'cecep', 'deny']\n",
        "\n",
        "for nama in daftar_nama:\n",
        "  print(nama, end = '')"
      ]
    },
    {
      "cell_type": "code",
      "source": [
        "daftar_nama = ['anwar', 'budi', 'cecep', 'deny']\n",
        "index = 0\n",
        "\n",
        "while index < len(daftar_nama):\n",
        "  print(daftar_nama[index], end = ' ')\n",
        "  index += 1"
      ],
      "metadata": {
        "colab": {
          "base_uri": "https://localhost:8080/"
        },
        "id": "xQJDSu6HkRMn",
        "outputId": "4f487f69-9812-41ee-93aa-6c8f28f620a1"
      },
      "execution_count": 1,
      "outputs": [
        {
          "output_type": "stream",
          "name": "stdout",
          "text": [
            "anwar budi cecep deny "
          ]
        }
      ]
    }
  ],
  "metadata": {
    "colab": {
      "provenance": []
    },
    "kernelspec": {
      "display_name": "Python 3",
      "name": "python3"
    },
    "language_info": {
      "codemirror_mode": {
        "name": "ipython",
        "version": 3
      },
      "file_extension": ".py",
      "mimetype": "text/x-python",
      "name": "python",
      "nbconvert_exporter": "python",
      "pygments_lexer": "ipython3",
      "version": "3.10.9"
    }
  },
  "nbformat": 4,
  "nbformat_minor": 0
}