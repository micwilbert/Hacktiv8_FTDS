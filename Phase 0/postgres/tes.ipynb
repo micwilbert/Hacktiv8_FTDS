{
 "cells": [
  {
   "cell_type": "code",
   "execution_count": 2,
   "metadata": {},
   "outputs": [
    {
     "ename": "NameError",
     "evalue": "name 'psycopg2' is not defined",
     "output_type": "error",
     "traceback": [
      "\u001b[1;31m---------------------------------------------------------------------------\u001b[0m",
      "\u001b[1;31mNameError\u001b[0m                                 Traceback (most recent call last)",
      "Cell \u001b[1;32mIn[2], line 7\u001b[0m\n\u001b[0;32m      4\u001b[0m db_host \u001b[38;5;241m=\u001b[39m \u001b[38;5;124m\"\u001b[39m\u001b[38;5;124mlocalhost\u001b[39m\u001b[38;5;124m\"\u001b[39m  \u001b[38;5;66;03m# Usually \"localhost\" if running locally\u001b[39;00m\n\u001b[0;32m      5\u001b[0m db_port \u001b[38;5;241m=\u001b[39m \u001b[38;5;124m\"\u001b[39m\u001b[38;5;124m5432\u001b[39m\u001b[38;5;124m\"\u001b[39m  \u001b[38;5;66;03m# Default is 5432\u001b[39;00m\n\u001b[1;32m----> 7\u001b[0m connection \u001b[38;5;241m=\u001b[39m \u001b[43mpsycopg2\u001b[49m\u001b[38;5;241m.\u001b[39mconnect(\n\u001b[0;32m      8\u001b[0m     user\u001b[38;5;241m=\u001b[39mdb_user,\n\u001b[0;32m      9\u001b[0m     password\u001b[38;5;241m=\u001b[39mdb_password,\n\u001b[0;32m     10\u001b[0m     host\u001b[38;5;241m=\u001b[39mdb_host,\n\u001b[0;32m     11\u001b[0m     port\u001b[38;5;241m=\u001b[39mdb_port\n\u001b[0;32m     12\u001b[0m )\n",
      "\u001b[1;31mNameError\u001b[0m: name 'psycopg2' is not defined"
     ]
    }
   ],
   "source": [
    "# Replace these parameters with your actual database credentials\n",
    "db_user = \"postgres\"\n",
    "db_password = \"postgres\" #Use your own password\n",
    "db_host = \"localhost\"  # Usually \"localhost\" if running locally\n",
    "db_port = \"5432\"  # Default is 5432\n",
    "\n",
    "connection = psycopg2.connect(\n",
    "    user=db_user,\n",
    "    password=db_password,\n",
    "    host=db_host,\n",
    "    port=db_port\n",
    ")"
   ]
  }
 ],
 "metadata": {
  "kernelspec": {
   "display_name": "base",
   "language": "python",
   "name": "python3"
  },
  "language_info": {
   "codemirror_mode": {
    "name": "ipython",
    "version": 3
   },
   "file_extension": ".py",
   "mimetype": "text/x-python",
   "name": "python",
   "nbconvert_exporter": "python",
   "pygments_lexer": "ipython3",
   "version": "3.12.4"
  }
 },
 "nbformat": 4,
 "nbformat_minor": 2
}
