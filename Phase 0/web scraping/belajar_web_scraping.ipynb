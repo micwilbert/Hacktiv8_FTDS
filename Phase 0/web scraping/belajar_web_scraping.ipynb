{
 "cells": [
  {
   "cell_type": "code",
   "execution_count": 5,
   "metadata": {},
   "outputs": [],
   "source": [
    "from bs4 import BeautifulSoup\n",
    "from selenium import webdriver\n",
    "import time\n",
    "\n",
    "driver = webdriver.Chrome()\n",
    "driver.get('https://www.gramedia.com/categories/buku')\n",
    "html = driver.page_source\n"
   ]
  },
  {
   "cell_type": "code",
   "execution_count": 6,
   "metadata": {},
   "outputs": [],
   "source": [
    "from bs4 import BeautifulSoup\n",
    "from selenium import webdriver\n",
    "import time"
   ]
  },
  {
   "cell_type": "code",
   "execution_count": 20,
   "metadata": {},
   "outputs": [],
   "source": [
    "driver.close()"
   ]
  },
  {
   "cell_type": "code",
   "execution_count": null,
   "metadata": {},
   "outputs": [],
   "source": [
    "pip install requests"
   ]
  },
  {
   "cell_type": "code",
   "execution_count": null,
   "metadata": {},
   "outputs": [],
   "source": [
    "import requests\n",
    "page = requests.get(\"https://www.gramedia.com/categories/buku\")\n",
    "page"
   ]
  },
  {
   "cell_type": "code",
   "execution_count": 12,
   "metadata": {},
   "outputs": [],
   "source": [
    "from selenium import webdriver\n",
    "from bs4 import BeautifulSoup\n",
    "import time\n",
    "\n",
    "# Inisialisasi WebDriver (contoh menggunakan Chrome)\n",
    "driver = webdriver.Chrome()  # Pastikan kamu sudah mengunduh ChromeDriver\n",
    "url = 'https://www.gramedia.com/categories/buku'\n",
    "driver.get(url)\n",
    "\n",
    "# Tunggu beberapa detik agar halaman bisa selesai dimuat\n",
    "time.sleep(3)  # Atur sesuai dengan waktu yang dibutuhkan untuk halaman selesai dimuat\n",
    "\n",
    "# Ambil konten halaman setelah dirender oleh JavaScript\n",
    "html = driver.page_source\n",
    "\n",
    "# Parse dengan BeautifulSoup\n",
    "soup = BeautifulSoup(html, 'html.parser')\n",
    "\n",
    "# # Tutup browser\n",
    "# #driver.quit()\n"
   ]
  },
  {
   "cell_type": "code",
   "execution_count": 10,
   "metadata": {},
   "outputs": [
    {
     "data": {
      "text/plain": [
       "bs4.BeautifulSoup"
      ]
     },
     "execution_count": 10,
     "metadata": {},
     "output_type": "execute_result"
    }
   ],
   "source": [
    "type(soup)"
   ]
  },
  {
   "cell_type": "code",
   "execution_count": 13,
   "metadata": {},
   "outputs": [],
   "source": [
    "test = soup.find('h2',class_='line-clamp-2 text-xs-medium text-neutral-700')"
   ]
  },
  {
   "cell_type": "code",
   "execution_count": 14,
   "metadata": {},
   "outputs": [],
   "source": [
    "full_text = test.get_text()"
   ]
  },
  {
   "cell_type": "code",
   "execution_count": 15,
   "metadata": {},
   "outputs": [
    {
     "data": {
      "text/plain": [
       "'Yaasiin, Tahlil, Perawatan Jenazah, Takziyah, & Ziarah Kubur'"
      ]
     },
     "execution_count": 15,
     "metadata": {},
     "output_type": "execute_result"
    }
   ],
   "source": [
    "full_text"
   ]
  },
  {
   "cell_type": "code",
   "execution_count": 16,
   "metadata": {},
   "outputs": [],
   "source": [
    "title = []\n",
    "title += [ title.get_text() for title in soup.find_all( 'h2', {\"class\":\"line-clamp-2 text-xs-medium text-neutral-700\"} ) ]"
   ]
  },
  {
   "cell_type": "code",
   "execution_count": 17,
   "metadata": {},
   "outputs": [
    {
     "data": {
      "text/plain": [
       "['Yaasiin, Tahlil, Perawatan Jenazah, Takziyah, & Ziarah Kubur',\n",
       " 'Kesalahan-Kesalahan yang Tak Disadari Muslimah',\n",
       " 'Menjadi Ummi Terbaik',\n",
       " '50 Doa Orang Muda Katolik',\n",
       " 'Ensiklopedia Sahabat & Shahabiyah Rasulullah Saw.',\n",
       " 'Kepemimpinan Super dan Visioner dalam Perspektif Islam',\n",
       " 'Kerajaan Nabi Daud dan Sulaiman',\n",
       " 'Muhammad saw. 11 Leadership Qualities that Changed the World',\n",
       " 'Menyembuhkan Hati',\n",
       " 'Aku Mencium Aroma Bapak & Ibu',\n",
       " 'Arsitektur Rumah Jawa : Mengungkap Filosofi Makna dan Simbologinya',\n",
       " 'Merancang Bangunan Sekolah',\n",
       " 'Membangun Peradaban Dunia',\n",
       " '24 Desain Rumah < 90 Juta',\n",
       " 'Filosofi Rumah Tradisional Jawa',\n",
       " 'Archinesia Student Design Competition 2022',\n",
       " 'Buku Ajar Interior: Azas Lingkungan Dalam',\n",
       " 'Seri Rumah Ide: Taman Air',\n",
       " 'Bandung Bahagia: Happy Bandung By Design',\n",
       " 'Kota Untuk Semua: Ide Penataan Kota Yang Komprehensif',\n",
       " 'Keterampilan Membatik untuk Anak',\n",
       " 'The Prabowo Mind',\n",
       " 'Di Balik Seragam : Kehidupan dan Dedikasi Komjen. Pol. Drs. Agus Andrianto, S.H., M.H.',\n",
       " 'Sri Mulyani The Authorized Biography - No Limits: Reformasi dengan Hati',\n",
       " 'Percikan Inspirasi Porat Antonius',\n",
       " 'Menjadi Garam Dunia',\n",
       " 'Jokowi Bersama Sang Surya: Refleksi 10 Tahun Kepemimpinan Presiden Jokowi',\n",
       " 'Orang-Orang yang Saya Kenang',\n",
       " 'Manajemen yang Memanusiakan Manusia',\n",
       " 'Jagat Batin Sunan Bonang',\n",
       " 'Cah Ndeso Menjadi CEO: Membawa UMKM Naik Kelas hingga IPO',\n",
       " 'Kemudahan Berusaha (Ease of Doing Business) Dalam Perspektif Islam: Prinsip, Implementasi, dan Prospek',\n",
       " 'Mindfulness-Based Business (English Edition)',\n",
       " 'Menapak Jejak Dukungan Pemerintah dalam Pembiayaan Infrastruktur',\n",
       " 'Panduan Lengkap Akuntansi untuk UMKM',\n",
       " 'Pengantar Manajemen SDM : Teori, Proses, dan Praktik',\n",
       " 'Tips & Trik Jadi Freelancer Sukses dan Kaya',\n",
       " 'Panduan Investasi Crypto dari Nol untuk Pemula',\n",
       " 'Akuntansi Perpajakan : Teori dan Implementasinya',\n",
       " 'Ide Kerja dari Rumah : Strategi Personal Branding',\n",
       " 'Praksis Pancasila Pengamalan Ideologi di Perusahaan Gobel']"
      ]
     },
     "execution_count": 17,
     "metadata": {},
     "output_type": "execute_result"
    }
   ],
   "source": [
    "title"
   ]
  },
  {
   "cell_type": "code",
   "execution_count": 18,
   "metadata": {},
   "outputs": [],
   "source": [
    "author = []\n",
    "author += [ author.get_text() for author in soup.find_all( 'div', {\"class\":\"truncate text-2xs-medium text-neutral-500\"} )]"
   ]
  },
  {
   "cell_type": "code",
   "execution_count": 19,
   "metadata": {},
   "outputs": [
    {
     "data": {
      "text/plain": [
       "['Bilif Abduh',\n",
       " 'Lukman al Hakim dan Hafidh Nur Fauzi',\n",
       " 'Jorgi Sonda dan @Suka_Sembahyang',\n",
       " 'Hafidh Nur Fauzi',\n",
       " 'Prof. Dr. Drs. VeithzalRivai Zainal, B. Sc., M.M. MBA., CRGP., CRMP., CCWA., CP. NLP., CH., CHt. dkk',\n",
       " 'Prof. Dr. Ali Muhammad Ash-Shallabi',\n",
       " 'Nabeel Al-Azami',\n",
       " 'Josse  Tama SCJ',\n",
       " 'Asti Musman',\n",
       " 'Ir. Taufik Priambodo',\n",
       " 'UNTUNG WIDYANTO, DKK.',\n",
       " 'Dmaximus Arc',\n",
       " 'Asti Musman',\n",
       " 'DYAN AGUSTIN; NINIEK ANGGRIANI',\n",
       " 'Imelda Akmal',\n",
       " 'Parmonangan Manurung',\n",
       " 'Frans Meroga Panggabean, Bayu Endro Winarko',\n",
       " 'Agus Sukoco',\n",
       " 'Kementerian Keuangan RI',\n",
       " 'Christiana Andikasari dan Cynthia Toha',\n",
       " 'Esthi Susanti Hudiono',\n",
       " 'Erik Tauvani Somae. S.HI., M.H dkk',\n",
       " 'Abdul Hadi Hamka',\n",
       " 'Abie Besman dkk',\n",
       " 'Rizem Aizid',\n",
       " 'Rochmad Widodo',\n",
       " 'Dr. Fajar Hernawan, S.H.I., M.E.I.',\n",
       " 'Sudhamek AWS',\n",
       " 'Tim Penulis',\n",
       " 'Astuti, S.Sy.',\n",
       " \"Nur'aini D.F.\",\n",
       " 'A. Yogaswara',\n",
       " 'Ananta Susilo',\n",
       " 'Annisa Mia Susana',\n",
       " 'Zata Ligouw',\n",
       " 'Nasihin Masha']"
      ]
     },
     "execution_count": 19,
     "metadata": {},
     "output_type": "execute_result"
    }
   ],
   "source": [
    "author"
   ]
  },
  {
   "cell_type": "code",
   "execution_count": 15,
   "metadata": {},
   "outputs": [],
   "source": [
    "price = []\n",
    "price += [ price.get_text() for price in soup.find_all( 'div', {\"class\":\"text-s-extrabold text-neutral-700\"} ) ]"
   ]
  },
  {
   "cell_type": "code",
   "execution_count": null,
   "metadata": {},
   "outputs": [],
   "source": [
    "price"
   ]
  },
  {
   "cell_type": "code",
   "execution_count": 17,
   "metadata": {},
   "outputs": [],
   "source": [
    "image = []\n",
    "image += [ img['src'] for img in soup.find_all( 'img', {\"class\":\"object-contain\"} ) ]"
   ]
  },
  {
   "cell_type": "code",
   "execution_count": null,
   "metadata": {},
   "outputs": [],
   "source": [
    "image"
   ]
  },
  {
   "cell_type": "code",
   "execution_count": 22,
   "metadata": {},
   "outputs": [],
   "source": [
    "links = []\n",
    "link_tag = soup.find('a', {'data-sentry-element':'LinkComponenent'})"
   ]
  },
  {
   "cell_type": "code",
   "execution_count": null,
   "metadata": {},
   "outputs": [],
   "source": [
    "link_tag['href']"
   ]
  },
  {
   "cell_type": "code",
   "execution_count": 27,
   "metadata": {},
   "outputs": [],
   "source": [
    "links  = []\n",
    "links  += [ img['href'] for img in soup.find_all( 'a', {\"data-sentry-element\":\"LinkComponenent\"} ) ]"
   ]
  },
  {
   "cell_type": "code",
   "execution_count": null,
   "metadata": {},
   "outputs": [],
   "source": [
    "links"
   ]
  },
  {
   "cell_type": "code",
   "execution_count": 30,
   "metadata": {},
   "outputs": [],
   "source": [
    "import pandas as pd\n",
    "data_list = list(zip(image, price, author, title,links))\n",
    "data = pd.DataFrame(data_list,columns=['image','price','author','title','url'])"
   ]
  },
  {
   "cell_type": "code",
   "execution_count": null,
   "metadata": {},
   "outputs": [],
   "source": [
    "data"
   ]
  },
  {
   "cell_type": "code",
   "execution_count": 38,
   "metadata": {},
   "outputs": [],
   "source": [
    "driver.quit()"
   ]
  },
  {
   "cell_type": "code",
   "execution_count": 54,
   "metadata": {},
   "outputs": [],
   "source": [
    "\n",
    "driver = webdriver.Chrome()\n",
    "# Buka halaman web\n",
    "driver.get('https://www.tokopedia.com/p/mainan-hobi/figure/action-figure?source=homepage.6_image.0.4118')\n",
    "html = driver.page_source\n",
    "soup = BeautifulSoup(html, \"html.parser\")\n",
    "#driver.close()\n"
   ]
  },
  {
   "cell_type": "code",
   "execution_count": null,
   "metadata": {},
   "outputs": [],
   "source": [
    "barang = []\n",
    "barang += [ img.get_text() for img in soup.find_all( 'span', {\"class\":\"css-20kt3o\"} ) ]\n",
    "barang"
   ]
  },
  {
   "cell_type": "code",
   "execution_count": null,
   "metadata": {},
   "outputs": [],
   "source": [
    "len(barang)"
   ]
  },
  {
   "cell_type": "code",
   "execution_count": 49,
   "metadata": {},
   "outputs": [],
   "source": [
    "\n",
    "driver = webdriver.Chrome()\n",
    "# Buka halaman web\n",
    "driver.get('https://www.tokopedia.com/p/mainan-hobi/figure/action-figure?source=homepage.6_image.0.4118')\n",
    "\n",
    "# Tunggu beberapa detik untuk memastikan halaman termuat sepenuhnya\n",
    "#time.sleep(3)\n",
    "\n",
    "for i in range(24):\n",
    "    driver.execute_script(\"window.scrollBy(0, 250)\")\n",
    "    time.sleep(1)\n",
    "\n",
    "driver.execute_script(\"window.scrollBy(50,0)\")\n",
    "time.sleep(1)"
   ]
  },
  {
   "cell_type": "code",
   "execution_count": 50,
   "metadata": {},
   "outputs": [],
   "source": [
    "html = driver.page_source\n",
    "soup = BeautifulSoup(html, \"html.parser\")"
   ]
  },
  {
   "cell_type": "code",
   "execution_count": 51,
   "metadata": {},
   "outputs": [],
   "source": [
    "barang = []\n",
    "barang += [ img.get_text() for img in soup.find_all( 'span', {\"class\":\"css-20kt3o\"} ) ]"
   ]
  },
  {
   "cell_type": "code",
   "execution_count": null,
   "metadata": {},
   "outputs": [],
   "source": [
    "barang"
   ]
  },
  {
   "cell_type": "code",
   "execution_count": null,
   "metadata": {},
   "outputs": [],
   "source": [
    "len(barang)"
   ]
  },
  {
   "cell_type": "code",
   "execution_count": null,
   "metadata": {},
   "outputs": [],
   "source": [
    "https://www.tokopedia.com/p/mainan-hobi/figure/action-figure?source=homepage.6_image.0.4118&page=2"
   ]
  },
  {
   "cell_type": "code",
   "execution_count": null,
   "metadata": {},
   "outputs": [],
   "source": [
    "for i in range(1,5):\n",
    "    url = 'https://www.tokopedia.com/p/mainan-hobi/figure/action-figure?source=homepage.6_image.0.4118&page={}'.format(i)\n",
    "    print(url)"
   ]
  },
  {
   "cell_type": "code",
   "execution_count": 87,
   "metadata": {},
   "outputs": [],
   "source": [
    "barang = []\n",
    "driver = webdriver.Chrome()\n",
    "for i in range(1,3):\n",
    "    url = 'https://www.tokopedia.com/p/mainan-hobi/figure/action-figure?source=homepage.6_image.0.4118&page={}'.format(i)\n",
    "    # Buka halaman web\n",
    "    driver.get(url)\n",
    "\n",
    "    # Tunggu beberapa detik untuk memastikan halaman termuat sepenuhnya\n",
    "    #time.sleep(3)\n",
    "\n",
    "    for i in range(24):\n",
    "        driver.execute_script(\"window.scrollBy(0, 250)\")\n",
    "        time.sleep(1)\n",
    "\n",
    "    driver.execute_script(\"window.scrollBy(50,0)\")\n",
    "    time.sleep(1)\n",
    "\n",
    "    html = driver.page_source\n",
    "    soup = BeautifulSoup(html, \"html.parser\")\n",
    "\n",
    "    barang += [ img.get_text() for img in soup.find_all( 'span', {\"class\":\"css-20kt3o\"} ) ]"
   ]
  },
  {
   "cell_type": "code",
   "execution_count": null,
   "metadata": {},
   "outputs": [],
   "source": [
    "len(barang)"
   ]
  },
  {
   "cell_type": "code",
   "execution_count": null,
   "metadata": {},
   "outputs": [],
   "source": [
    "barang"
   ]
  },
  {
   "cell_type": "code",
   "execution_count": null,
   "metadata": {},
   "outputs": [],
   "source": []
  },
  {
   "cell_type": "code",
   "execution_count": 86,
   "metadata": {},
   "outputs": [],
   "source": [
    "driver.close()"
   ]
  },
  {
   "cell_type": "code",
   "execution_count": null,
   "metadata": {},
   "outputs": [],
   "source": []
  }
 ],
 "metadata": {
  "kernelspec": {
   "display_name": "base",
   "language": "python",
   "name": "python3"
  },
  "language_info": {
   "codemirror_mode": {
    "name": "ipython",
    "version": 3
   },
   "file_extension": ".py",
   "mimetype": "text/x-python",
   "name": "python",
   "nbconvert_exporter": "python",
   "pygments_lexer": "ipython3",
   "version": "3.12.4"
  }
 },
 "nbformat": 4,
 "nbformat_minor": 2
}
